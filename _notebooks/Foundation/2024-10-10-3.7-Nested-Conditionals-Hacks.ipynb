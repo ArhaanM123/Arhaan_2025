{
 "cells": [
  {
   "cell_type": "raw",
   "metadata": {
    "vscode": {
     "languageId": "raw"
    }
   },
   "source": [
    "---\n",
    "layout: post\n",
    "title: Nested Conditinals all type of hacks\n",
    "description: All hacks for Nested Conditionals\n",
    "categories: [Python]\n",
    "permalink: /3.7/Nested/Conditionals/Hacks\n",
    "menu: nav/tools_setup.html\n",
    "toc: true\n",
    "comments: true"
   ]
  },
  {
   "cell_type": "markdown",
   "metadata": {},
   "source": [
    "## Popcorn Hack #1\n",
    "Prompt the user for their age and whether they like sweets, then based on their age and preference, print either “You can have candy,” “You can have a healthy snack,” or “You get a fruit snack.”\n",
    "\n"
   ]
  },
  {
   "cell_type": "code",
   "execution_count": 1,
   "metadata": {},
   "outputs": [
    {
     "name": "stdout",
     "output_type": "stream",
     "text": [
      "A fish could be a perfect pet!\n"
     ]
    }
   ],
   "source": [
    "# Python Version\n",
    "age = int(input(\"Enter your age: \"))\n",
    "likes_small_pets = input(\"Do you prefer small pets? (yes/no): \").lower()\n",
    "\n",
    "if age >= 16:\n",
    "    if likes_small_pets == \"yes\":\n",
    "        print(\"You might enjoy having a rabbit!\")\n",
    "    else:\n",
    "        print(\"A dog could be a great companion for you.\")\n",
    "else:\n",
    "    print(\"A fish could be a perfect pet!\")\n"
   ]
  },
  {
   "cell_type": "markdown",
   "metadata": {},
   "source": [
    "## Popcorn Hack #2\n",
    "Create a Python program that checks your savings against the prices of different laptops and informs you which one you can afford to buy."
   ]
  },
  {
   "cell_type": "code",
   "execution_count": 2,
   "metadata": {},
   "outputs": [
    {
     "name": "stdout",
     "output_type": "stream",
     "text": [
      "Sorry, you don't have enough savings for any of the listed laptops.\n"
     ]
    }
   ],
   "source": [
    "# Prompt the user to enter their savings amount\n",
    "savings = float(input(\"Enter your total savings: \"))\n",
    "\n",
    "# Define a dictionary with laptop models and their prices\n",
    "laptops = {\n",
    "    \"Basic Laptop\": 500,\n",
    "    \"Gaming Laptop\": 1200,\n",
    "    \"Ultrabook\": 1000,\n",
    "    \"Workstation\": 1500,\n",
    "    \"High-End Gaming Laptop\": 2000\n",
    "}\n",
    "\n",
    "# Check which laptops the user can afford\n",
    "affordable_laptops = [model for model, price in laptops.items() if savings >= price]\n",
    "\n",
    "# Display results\n",
    "if affordable_laptops:\n",
    "    print(\"With your savings, you can afford the following laptops:\")\n",
    "    for laptop in affordable_laptops:\n",
    "        print(f\"- {laptop}\")\n",
    "else:\n",
    "    print(\"Sorry, you don't have enough savings for any of the listed laptops.\")\n"
   ]
  },
  {
   "cell_type": "code",
   "execution_count": 3,
   "metadata": {
    "vscode": {
     "languageId": "javascript"
    }
   },
   "outputs": [
    {
     "data": {
      "application/javascript": "// Prompt the user to enter their savings amount\nconst savings = parseFloat(prompt(\"Enter your total savings: \"));\n\n// Define an object with laptop models and their prices\nconst laptops = {\n    \"Basic Laptop\": 500,\n    \"Gaming Laptop\": 1200,\n    \"Ultrabook\": 1000,\n    \"Workstation\": 1500,\n    \"High-End Gaming Laptop\": 2000\n};\n\n// Check which laptops the user can afford\nlet affordableLaptops = [];\nfor (const [model, price] of Object.entries(laptops)) {\n    if (savings >= price) {\n        affordableLaptops.push(model);\n    }\n}\n\n// Display results\nif (affordableLaptops.length > 0) {\n    console.log(\"With your savings, you can afford the following laptops:\");\n    affordableLaptops.forEach(laptop => console.log(`- ${laptop}`));\n} else {\n    console.log(\"Sorry, you don't have enough savings for any of the listed laptops.\");\n}\n",
      "text/plain": [
       "<IPython.core.display.Javascript object>"
      ]
     },
     "metadata": {},
     "output_type": "display_data"
    }
   ],
   "source": [
    "%%js\n",
    "// Prompt the user to enter their savings amount\n",
    "const savings = parseFloat(prompt(\"Enter your total savings: \"));\n",
    "\n",
    "// Define an object with laptop models and their prices\n",
    "const laptops = {\n",
    "    \"Basic Laptop\": 500,\n",
    "    \"Gaming Laptop\": 1200,\n",
    "    \"Ultrabook\": 1000,\n",
    "    \"Workstation\": 1500,\n",
    "    \"High-End Gaming Laptop\": 2000\n",
    "};\n",
    "\n",
    "// Check which laptops the user can afford\n",
    "let affordableLaptops = [];\n",
    "for (const [model, price] of Object.entries(laptops)) {\n",
    "    if (savings >= price) {\n",
    "        affordableLaptops.push(model);\n",
    "    }\n",
    "}\n",
    "\n",
    "// Display results\n",
    "if (affordableLaptops.length > 0) {\n",
    "    console.log(\"With your savings, you can afford the following laptops:\");\n",
    "    affordableLaptops.forEach(laptop => console.log(`- ${laptop}`));\n",
    "} else {\n",
    "    console.log(\"Sorry, you don't have enough savings for any of the listed laptops.\");\n",
    "}\n"
   ]
  },
  {
   "cell_type": "markdown",
   "metadata": {},
   "source": [
    "## Popcorn Hack #3 \n",
    "Create a simple JavaScript program that on the topic of your choice using boolean values and nested conditionals"
   ]
  },
  {
   "cell_type": "code",
   "execution_count": 4,
   "metadata": {
    "vscode": {
     "languageId": "javascript"
    }
   },
   "outputs": [
    {
     "data": {
      "application/javascript": "// Prompt the user for their age and whether they have a driving license\nconst age = parseInt(prompt(\"Enter your age: \"));\nconst hasLicense = confirm(\"Do you have a driving license?\");\n\n// Check if the person is eligible to drive\nif (age >= 18) {\n    if (hasLicense) {\n        console.log(\"You are eligible to drive!\");\n    } else {\n        console.log(\"You are old enough to drive, but you need to get a license first.\");\n    }\n} else {\n    console.log(\"You are not old enough to drive.\");\n}\n",
      "text/plain": [
       "<IPython.core.display.Javascript object>"
      ]
     },
     "metadata": {},
     "output_type": "display_data"
    }
   ],
   "source": [
    "%%js\n",
    "// Prompt the user for their age and whether they have a driving license\n",
    "const age = parseInt(prompt(\"Enter your age: \"));\n",
    "const hasLicense = confirm(\"Do you have a driving license?\");\n",
    "\n",
    "// Check if the person is eligible to drive\n",
    "if (age >= 18) {\n",
    "    if (hasLicense) {\n",
    "        console.log(\"You are eligible to drive!\");\n",
    "    } else {\n",
    "        console.log(\"You are old enough to drive, but you need to get a license first.\");\n",
    "    }\n",
    "} else {\n",
    "    console.log(\"You are not old enough to drive.\");\n",
    "}\n"
   ]
  },
  {
   "cell_type": "markdown",
   "metadata": {},
   "source": [
    "## Homework Hack #1"
   ]
  },
  {
   "cell_type": "code",
   "execution_count": null,
   "metadata": {},
   "outputs": [],
   "source": [
    "def get_user_input(prompt):\n",
    "    return input(prompt)\n",
    "\n",
    "# Step 1: Get Age\n",
    "age = int(get_user_input(\"Enter your age (e.g., 6, 10, etc.): \"))\n",
    "\n",
    "# Step 2: Check Equipment Ownership\n",
    "has_equipment = get_user_input(\"Do you have a water bottle? (yes/no): \").lower()\n",
    "\n",
    "# Step 3: Check Eligibility\n",
    "if age >= 6 and has_equipment == \"yes\":\n",
    "    # Step 4: Determine Group\n",
    "    if age < 9:\n",
    "        group = \"beginner group\"\n",
    "    else:\n",
    "        group = \"advanced group\"\n",
    "    \n",
    "    # Step 5: Display Result\n",
    "    print(f\"You can join the activity in the '{group}'.\")\n",
    "else:\n",
    "    print(\"Sorry, you are not eligible to join. Make sure you are at least 6 years old and have a water bottle.\")\n"
   ]
  }
 ],
 "metadata": {
  "kernelspec": {
   "display_name": "python3.12.5",
   "language": "python",
   "name": "python3.12.5"
  },
  "language_info": {
   "codemirror_mode": {
    "name": "ipython",
    "version": 3
   },
   "file_extension": ".py",
   "mimetype": "text/x-python",
   "name": "python",
   "nbconvert_exporter": "python",
   "pygments_lexer": "ipython3",
   "version": "3.12.5"
  }
 },
 "nbformat": 4,
 "nbformat_minor": 2
}
