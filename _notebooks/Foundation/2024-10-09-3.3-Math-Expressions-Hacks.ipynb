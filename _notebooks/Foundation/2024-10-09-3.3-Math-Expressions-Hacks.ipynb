{
 "cells": [
  {
   "cell_type": "raw",
   "metadata": {
    "vscode": {
     "languageId": "raw"
    }
   },
   "source": [
    "---\n",
    "layout: post\n",
    "title: Math Expressions all Hacks\n",
    "description: all Hacks for Math Expressions\n",
    "categories: [Python]\n",
    "permalink: /3.3/Math/Expressions/Hacks\n",
    "menu: nav/tools_setup.html\n",
    "toc: true\n",
    "comments: true"
   ]
  },
  {
   "cell_type": "markdown",
   "metadata": {},
   "source": [
    "## Popcorn Hack #1 \n",
    "\n",
    "A function that takes in 2 variables and adds, subtracts, multiplies, dividies, and mods the two numbers\n"
   ]
  },
  {
   "cell_type": "code",
   "execution_count": 6,
   "metadata": {},
   "outputs": [],
   "source": [
    "def operations(a, b):\n",
    "    # Basic arithmetic operations with handling for division by zero\n",
    "    add = a + b\n",
    "    subtract = a - b\n",
    "    multiply = a * b\n",
    "    divide = a / b if b != 0 else 'undefined'\n",
    "    mod = a % b if b != 0 else 'undefined'\n",
    "    \n",
    "    # Display the results\n",
    "    print(f\"Add: {add}\")\n",
    "    print(f\"Subtract: {subtract}\")\n",
    "    print(f\"Multiply: {multiply}\")\n",
    "    print(f\"Divide: {divide}\")\n",
    "    print(f\"Mod: {mod}\")\n",
    "\n"
   ]
  },
  {
   "cell_type": "code",
   "execution_count": 7,
   "metadata": {
    "vscode": {
     "languageId": "javascript"
    }
   },
   "outputs": [
    {
     "data": {
      "application/javascript": "function operations(a, b) {\n    // Basic arithmetic operations with handling for division by zero\n    const add = a + b;\n    const subtract = a - b;\n    const multiply = a * b;\n    const divide = b !== 0 ? a / b : 'undefined';\n    const mod = b !== 0 ? a % b : 'undefined';\n\n    // Display the results\n    console.log(`Add: ${add}`);\n    console.log(`Subtract: ${subtract}`);\n    console.log(`Multiply: ${multiply}`);\n    console.log(`Divide: ${divide}`);\n    console.log(`Mod: ${mod}`);\n}\n\n",
      "text/plain": [
       "<IPython.core.display.Javascript object>"
      ]
     },
     "metadata": {},
     "output_type": "display_data"
    }
   ],
   "source": [
    "%%js\n",
    "function operations(a, b) {\n",
    "    // Basic arithmetic operations with handling for division by zero\n",
    "    const add = a + b;\n",
    "    const subtract = a - b;\n",
    "    const multiply = a * b;\n",
    "    const divide = b !== 0 ? a / b : 'undefined';\n",
    "    const mod = b !== 0 ? a % b : 'undefined';\n",
    "\n",
    "    // Display the results\n",
    "    console.log(`Add: ${add}`);\n",
    "    console.log(`Subtract: ${subtract}`);\n",
    "    console.log(`Multiply: ${multiply}`);\n",
    "    console.log(`Divide: ${divide}`);\n",
    "    console.log(`Mod: ${mod}`);\n",
    "}\n",
    "\n"
   ]
  },
  {
   "cell_type": "markdown",
   "metadata": {},
   "source": [
    "## Popcorn Hack #2\n",
    " Use an algorithm to find certain values of the Fibonacci sequence. For example, your code should output the nth index in the sequence. An example of how the sequence works is 0,1,1,2,3,5,8,13. The pattern is you add the previous 2 numbers together to get the new number.\n"
   ]
  },
  {
   "cell_type": "code",
   "execution_count": 8,
   "metadata": {},
   "outputs": [
    {
     "name": "stdout",
     "output_type": "stream",
     "text": [
      "The 15th Fibonacci number is: 377\n"
     ]
    }
   ],
   "source": [
    "def fibonacc(n):\n",
    "    if n <= 0:\n",
    "        return \"invalid\"\n",
    "    elif n == 1:\n",
    "        return 0\n",
    "    elif n == 2:\n",
    "        return 1\n",
    "    else:\n",
    "        return fibonacc(n - 1) + fibonacc(n - 2)\n",
    "\n",
    "\n",
    "n = 15 \n",
    "print(f\"The {n}th Fibonacci number is: {fibonacc(n)}\")"
   ]
  },
  {
   "cell_type": "code",
   "execution_count": 9,
   "metadata": {
    "vscode": {
     "languageId": "javascript"
    }
   },
   "outputs": [
    {
     "data": {
      "application/javascript": "function fibonacci(n) {\n    // Find the nth Fibonacci number\n    if (n <= 0) return \"Invalid input\";\n    if (n === 1) return 0;\n    if (n === 2) return 1;\n\n    // Use a loop to find the nth Fibonacci number\n    let a = 0, b = 1;\n    for (let i = 2; i < n; i++) {\n        const temp = b;\n        b = a + b;\n        a = temp;\n    }\n    return b;\n}\n\n// Variables\nconst a = 11, b = 0;\nconst n = 10;\n\n// Perform operations\noperations(a, b);\n\n// Print nth Fibonacci number\nconsole.log(`The ${n}th Fibonacci number is: ${fibonacci(n)}`);\n",
      "text/plain": [
       "<IPython.core.display.Javascript object>"
      ]
     },
     "metadata": {},
     "output_type": "display_data"
    }
   ],
   "source": [
    "%%js\n",
    "function fibonacci(n) {\n",
    "    // Find the nth Fibonacci number\n",
    "    if (n <= 0) return \"Invalid input\";\n",
    "    if (n === 1) return 0;\n",
    "    if (n === 2) return 1;\n",
    "\n",
    "    // Use a loop to find the nth Fibonacci number\n",
    "    let a = 0, b = 1;\n",
    "    for (let i = 2; i < n; i++) {\n",
    "        const temp = b;\n",
    "        b = a + b;\n",
    "        a = temp;\n",
    "    }\n",
    "    return b;\n",
    "}\n",
    "\n",
    "// Variables\n",
    "const a = 11, b = 0;\n",
    "const n = 10;\n",
    "\n",
    "// Perform operations\n",
    "operations(a, b);\n",
    "\n",
    "// Print nth Fibonacci number\n",
    "console.log(`The ${n}th Fibonacci number is: ${fibonacci(n)}`);"
   ]
  },
  {
   "cell_type": "markdown",
   "metadata": {},
   "source": [
    "## Homework Hack #1"
   ]
  },
  {
   "cell_type": "code",
   "execution_count": null,
   "metadata": {},
   "outputs": [],
   "source": [
    "import sys as np\n",
    "import logging\n",
    "import sys\n",
    "\n",
    "# Configure logging\n",
    "logging.basicConfig(level=logging.INFO, format='%(levelname)s:%(message)s')\n",
    "\n",
    "def matrix_multiply(A, B):\n",
    "    \"\"\"\n",
    "    Perform matrix multiplication between two numpy arrays A and B.\n",
    "    \"\"\"\n",
    "    logging.debug(f\"Multiplying matrices:\\n{A}\\n{B}\")\n",
    "    return np.dot(A, B)\n",
    "\n",
    "def matrix_power(M, power):\n",
    "    \"\"\"\n",
    "    Raise matrix M to the specified power using binary exponentiation.\n",
    "    \"\"\"\n",
    "    if power < 0:\n",
    "        raise ValueError(\"Power must be a non-negative integer.\")\n",
    "    \n",
    "    result = np.identity(len(M), dtype=object)  # Identity matrix\n",
    "    logging.debug(f\"Initial identity matrix:\\n{result}\")\n",
    "    \n",
    "    while power > 0:\n",
    "        if power % 2 == 1:\n",
    "            result = matrix_multiply(result, M)\n",
    "            logging.debug(f\"Result after multiplying by M:\\n{result}\")\n",
    "        M = matrix_multiply(M, M)\n",
    "        logging.debug(f\"Matrix M squared:\\n{M}\")\n",
    "        power //= 2\n",
    "        logging.debug(f\"Power reduced to: {power}\")\n",
    "    \n",
    "    return result\n",
    "\n",
    "def fibonacci_matrix(n):\n",
    "    \"\"\"\n",
    "    Calculate the nth Fibonacci number using matrix exponentiation.\n",
    "    \"\"\"\n",
    "    if not isinstance(n, int):\n",
    "        raise TypeError(\"Input must be an integer.\")\n",
    "    if n < 0:\n",
    "        raise ValueError(\"Fibonacci number is not defined for negative integers.\")\n",
    "    elif n == 0:\n",
    "        return 0\n",
    "    elif n == 1:\n",
    "        return 1\n",
    "    \n",
    "    F = np.array([[1, 1],\n",
    "                  [1, 0]], dtype=object)\n",
    "    \n",
    "    result = matrix_power(F, n-1)\n",
    "    \n",
    "    logging.info(f\"Matrix raised to power {n-1}:\\n{result}\")\n",
    "    \n",
    "    return result[0][0]\n",
    "\n",
    "def validate_input(user_input):\n",
    "    \"\"\"\n",
    "    Validate the user input to ensure it's a non-negative integer.\n",
    "    \"\"\"\n",
    "    try:\n",
    "        value = int(user_input)\n",
    "        if value < 0:\n",
    "            raise ValueError\n",
    "        return value\n",
    "    except ValueError:\n",
    "        raise ValueError(\"Please enter a valid non-negative integer.\")\n",
    "\n",
    "def main():\n",
    "    \"\"\"\n",
    "    Main function to execute the Fibonacci calculation.\n",
    "    \"\"\"\n",
    "    try:\n",
    "        user_input = input(\"Enter the position of the Fibonacci number you want to calculate: \")\n",
    "        n = validate_input(user_input)\n",
    "        fib_n = fibonacci_matrix(n)\n",
    "        print(f\"Fibonacci number at position {n} is: {fib_n}\")\n",
    "    except ValueError as ve:\n",
    "        logging.error(ve)\n",
    "    except Exception as e:\n",
    "        logging.error(f\"An unexpected error occurred: {e}\")\n",
    "        sys.exit(1)\n",
    "\n",
    "if __name__ == \"__main__\":\n",
    "    main()\n"
   ]
  },
  {
   "cell_type": "code",
   "execution_count": null,
   "metadata": {
    "vscode": {
     "languageId": "javascript"
    }
   },
   "outputs": [],
   "source": [
    "%%js\n",
    "// Population growth using Dynamic Programming and Matrix Exponentiation\n",
    "\n",
    "// Dynamic Programming approach to calculate the plant population growth\n",
    "function calculatePopulationDP(n) {\n",
    "    // Base cases for initial population\n",
    "    if (n === 0) return 10; // Starting population of 10 plants\n",
    "    if (n === 1) return 20; // Population grows to 20 after 1 time period\n",
    "\n",
    "    // Variables to store the population of previous two time periods\n",
    "    let prev1 = 20, prev2 = 10;\n",
    "    let current = 0;\n",
    "\n",
    "    // Iteratively calculate population for time period n\n",
    "    for (let i = 2; i <= n; i++) {\n",
    "        current = prev1 + prev2; // Growth based on sum of previous two periods\n",
    "        prev2 = prev1;\n",
    "        prev1 = current;\n",
    "    }\n",
    "\n",
    "    return current;\n",
    "}\n",
    "\n",
    "// Matrix Exponentiation approach (O(log n)) to calculate population growth\n",
    "function calculatePopulationMatrix(n) {\n",
    "    if (n === 0) return 10;\n",
    "    \n",
    "    let growthMatrix = [\n",
    "        [1, 1],\n",
    "        [1, 0]\n",
    "    ];\n",
    "\n",
    "    power(growthMatrix, n - 1);\n",
    "\n",
    "    // Result population is the top left element of the growthMatrix\n",
    "    return growthMatrix[0][0] * 20 + growthMatrix[0][1] * 10; // Initial populations in period 1 and 0\n",
    "}\n",
    "\n",
    "// Helper function to perform matrix exponentiation\n",
    "function power(matrix, n) {\n",
    "    if (n === 0 || n === 1) return;\n",
    "\n",
    "    let multiplier = [\n",
    "        [1, 1],\n",
    "        [1, 0]\n",
    "    ];\n",
    "\n",
    "    power(matrix, Math.floor(n / 2));\n",
    "    multiply(matrix, matrix); // Square the matrix\n",
    "\n",
    "    if (n % 2 !== 0) multiply(matrix, multiplier); // Multiply by multiplier if n is odd\n",
    "}\n",
    "\n",
    "// Matrix multiplication helper\n",
    "function multiply(matrixA, matrixB) {\n",
    "    let x = matrixA[0][0] * matrixB[0][0] + matrixA[0][1] * matrixB[1][0];\n",
    "    let y = matrixA[0][0] * matrixB[0][1] + matrixA[0][1] * matrixB[1][1];\n",
    "    let z = matrixA[1][0] * matrixB[0][0] + matrixA[1][1] * matrixB[1][0];\n",
    "    let w = matrixA[1][0] * matrixB[0][1] + matrixA[1][1] * matrixB[1][1];\n",
    "\n",
    "    matrixA[0][0] = x;\n",
    "    matrixA[0][1] = y;\n",
    "    matrixA[1][0] = z;\n",
    "    matrixA[1][1] = w;\n",
    "}\n",
    "\n",
    "// Example usage\n",
    "const n = 10;\n",
    "console.log(`Population at time period ${n} using Dynamic Programming: ${calculatePopulationDP(n)}`);\n",
    "console.log(`Population at time period ${n} using Matrix Exponentiation: ${calculatePopulationMatrix(n)}`);\n"
   ]
  }
 ],
 "metadata": {
  "kernelspec": {
   "display_name": "Python 3",
   "language": "python",
   "name": "python3"
  },
  "language_info": {
   "codemirror_mode": {
    "name": "ipython",
    "version": 3
   },
   "file_extension": ".py",
   "mimetype": "text/x-python",
   "name": "python",
   "nbconvert_exporter": "python",
   "pygments_lexer": "ipython3",
   "version": "3.12.5"
  }
 },
 "nbformat": 4,
 "nbformat_minor": 2
}
