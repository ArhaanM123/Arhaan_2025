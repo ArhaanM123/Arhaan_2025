{
 "cells": [
  {
   "cell_type": "raw",
   "id": "48609068",
   "metadata": {
    "vscode": {
     "languageId": "raw"
    }
   },
   "source": [
    "---\n",
    "layout: post\n",
    "title: N@TM Summary\n",
    "description: N@TM Blog\n",
    "permalink: /N@TM/summary\n",
    "menu: nav/tools_setup.html\n",
    "toc: true\n",
    "comments: true \n",
    "---"
   ]
  },
  {
   "cell_type": "markdown",
   "id": "03556ced",
   "metadata": {},
   "source": [
    "**Presenting Flocker at Night at the Museum**  \n",
    "A Recap of Our Live Chat Application Demo\n",
    "\n",
    "---\n",
    "\n",
    "**Setting Up**\n",
    "\n",
    "During the 2025 Night at the Museum event, I had the opportunity to showcase **Flocker**, our real-time chat platform. My team and I arrived early to set up a clean and modern station. We connected a laptop to a large display to demo the chat interface live, and printed a QR code linked to our GitHub repository and site. This allowed visitors to test the platform themselves or explore our codebase.\n",
    "\n",
    "---\n",
    "\n",
    "**How We Presented the Project**\n",
    "\n",
    "We introduced Flocker as:  \n",
    "> “A real-time messaging platform built using Flask-SocketIO that allows users to join different rooms and chat instantly with others.”\n",
    "\n",
    "Our presentation included:\n",
    "\n",
    "- Entering a username to simulate login  \n",
    "- Choosing one of several room buttons (general, tech, help, etc.)  \n",
    "- Live messaging with timestamps and usernames  \n",
    "- Auto-tracking of who's online in each room  \n",
    "- Responsive, styled layout designed for usability\n",
    "\n",
    "Each team member took turns explaining both the frontend and backend. I focused on the JavaScript WebSocket interactions, dynamic room switching, and user-tracking logic.\n",
    "\n",
    "---\n",
    "\n",
    "**Audience Interaction and Feedback**\n",
    "\n",
    "**Students**  \n",
    "Classmates were amazed by how messages showed up instantly across devices. They tested out the room-switching and commented on the user interface’s responsiveness. Some asked technical questions about how Socket.IO works or how channels are isolated.\n",
    "\n",
    "**Parents**  \n",
    "Many parents appreciated how clean and modern the platform looked. Some asked how this could be applied to study groups or community chats. One parent suggested adding moderation tools or message filtering — ideas we may consider in future versions.\n",
    "\n",
    "**Teachers and Mentors**  \n",
    "Staff were impressed with the full-stack approach. Several teachers asked about our development workflow — from Flask API setup to HTML/CSS styling to JavaScript client logic. Our ability to answer confidently showed that we understood every layer of the stack.\n",
    "\n",
    "---\n",
    "\n",
    "**What I Learned**\n",
    "\n",
    "Presenting Flocker in a public setting gave me new insights:\n",
    "\n",
    "- **Technical Communication:** I had to adapt my explanations for people with different technical backgrounds.  \n",
    "- **Live Debugging:** When the internet briefly disconnected, I calmly explained how testing worked using deployment.  \n",
    "- **Team Coordination:** We divided roles — one person ran the demo, another answered frontend questions, and I focused on backend and socket logic.  \n",
    "- **User Feedback:** Observing users helped me realize which parts of the UI needed clarification, like how to join a room.\n",
    "\n",
    "---\n",
    "\n",
    "**Conclusion**\n",
    "\n",
    "Night at the Museum wasn’t just about showcasing a project — it was about connecting with others, receiving feedback, and showing pride in what we built. Flocker started as a technical challenge, but presenting it reminded me how software can bring people together — just like this event did."
   ]
  }
 ],
 "metadata": {
  "language_info": {
   "name": "python"
  }
 },
 "nbformat": 4,
 "nbformat_minor": 5
}
