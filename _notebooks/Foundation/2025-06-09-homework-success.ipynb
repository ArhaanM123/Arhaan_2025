{
 "cells": [
  {
   "cell_type": "raw",
   "id": "74888f0b",
   "metadata": {
    "vscode": {
     "languageId": "raw"
    }
   },
   "source": [
    "---\n",
    "layout: post\n",
    "title: Homework Success\n",
    "description: Homework Success throughout the year\n",
    "permalink: /homework/success\n",
    "menu: nav/tools_setup.html\n",
    "toc: true\n",
    "comments: true \n",
    "---"
   ]
  },
  {
   "cell_type": "markdown",
   "id": "8fec63a6",
   "metadata": {},
   "source": [
    "**Certification of Completion: Computer Science Principles Coursework**  \n",
    "**Author:** Arhaan Memon  \n",
    "**Repository:** Arhaan_2025\n",
    "\n",
    "---\n",
    "\n",
    "**Overview:**  \n",
    "This blog certifies the completion of all required AP CSP lessons and homeworks, with evidence of consistent GitHub commits, markdown publishing, and full comprehension of course concepts. My work reflects strong understanding of Big Ideas 1, 3, and 5, and all tasks were submitted through GitHub Pages.\n",
    "\n",
    "**Repository Location:**  \n",
    "All assignments are published through:  \n",
    "[Arhaan_2025 GitHub Pages](https://arhaanm123.github.io/Arhaan_2025)\n",
    "\n",
    "---\n",
    "\n",
    "**Trimester 1: Core Lesson Hacks (Unit 3)**\n",
    "\n",
    "| Lesson Topic             | Blog Link                                                                                      | Description |\n",
    "|--------------------------|-----------------------------------------------------------------------------------------------|-------------|\n",
    "| 3.2 - Data Abstraction   | [Data Abstraction](https://arhaanm123.github.io/Arhaan_2025/3.2/Data/Abstraction/Hacks)       | Used lists and dictionaries to structure and retrieve data. |\n",
    "| 3.3 - Math Expressions   | [Math Expressions](https://arhaanm123.github.io/Arhaan_2025/3.3/Math/Expressions/Hacks)       | Practiced Python operators and calculations. |\n",
    "| 3.5 - Boolean Logic      | [Boolean Expressions](https://arhaanm123.github.io/Arhaan_2025/3.5/Boolean/Expressions/Hacks) | Applied logic operators to build conditions. |\n",
    "| 3.6 - Conditionals       | [Conditionals](https://arhaanm123.github.io/Arhaan_2025/3.6/Conditionals/Hacks)               | Learned to use if, elif, and else branches. |\n",
    "| 3.7 - Nested Conditionals| [Nested Conditionals](https://arhaanm123.github.io/Arhaan_2025/3.7/Nested/Conditionals/Hacks) | Developed layered decision structures. |\n",
    "| 3.8 - For Loops          | [For Loops](https://arhaanm123.github.io/Arhaan_2025/3.8/Forloops/Hacks)                      | Created and iterated using `for` loops in Python. |\n",
    "| 3.10 - Lists             | [Lists](https://arhaanm123.github.io/Arhaan_2025/3.10/Lists/Hacks)                             | Explored list creation, iteration, and mutation. |\n",
    "\n",
    "---\n",
    "\n",
    "**Trimester 2: Advanced Topics and Real-World CS**\n",
    "\n",
    "| Topic                        | Blog Link                                                                                     | Description |\n",
    "|-----------------------------|-----------------------------------------------------------------------------------------------|-------------|\n",
    "| Base64 Encoding              | [Base64 Blog](https://arhaanm123.github.io/Arhaan_2025/coloecodes/images/base64)             | Learned about Base64 conversion and its use in image encoding. |\n",
    "| Binary Numbers               | [Binary Numbers Blog](https://arhaanm123.github.io/Arhaan_2025/binary/numbers/)              | Explored number systems and binary to decimal logic. |\n",
    "| Logic Gates                 | [Logic Gates Blog](https://arhaanm123.github.io/Arhaan_2025/logic/gates/)                    | Practiced gate logic simulations using JavaScript and Python. |\n",
    "| Graph Problems               | [Graph Problems Blog](https://arhaanm123.github.io/Arhaan_2025/graphs/probles/)              | Solved shortest path and maze traversal challenges. |\n",
    "| Cybersecurity Concepts       | [Cybersecurity Blog](https://arhaanm123.github.io/Arhaan_2025/cyber/security)               | Studied secure computing, phishing, malware, and digital defense. |\n",
    "| Big O & Algorithms           | [Big O Blog](https://arhaanm123.github.io/Arhaan_2025/BigO/Algoritms/)                      | Broke down time complexity and built comparative examples. |\n",
    "| Simulations                  | [Simulation Blog](https://arhaanm123.github.io/Arhaan_2025/stimulations/)                   | Created Python simulations and explored randomness and modeling. |\n",
    "| Binary Search                | [Binary Search Blog](https://arhaanm123.github.io/Arhaan_2025/binary/searches/)             | Implemented recursive and iterative search techniques. |\n",
    "| Personal Identifiable Info   | [PII Blog](https://arhaanm123.github.io/Arhaan_2025/PII/)                                    | Reflected on safe computing, data privacy, and best practices. |\n",
    "| Crowdsourcing                | [Crowdsourcing Blog](https://arhaanm123.github.io/Arhaan_2025/crowd/sourcing)               | Explored the impact of mass collaboration and user input models. |\n",
    "| Intellectual Property        | [IP Blog](https://arhaanm123.github.io/Arhaan_2025/intellectual/property)                   | Discussed copyright, licensing, and digital ethics. |\n",
    "| Computer Bias                | [Bias Blog](https://arhaanm123.github.io/Arhaan_2025/computer/bias)                          | Analyzed how algorithms can be unintentionally biased. |\n",
    "| Digital Divide               | [Digital Divide Blog](https://arhaanm123.github.io/Arhaan_2025/digital/divide)              | Explored disparities in technology access and digital equity. |\n",
    "\n",
    "---\n",
    "\n",
    "**Final Statement:**  \n",
    "By completing these two trimesters of lessons and homework, I’ve built a strong foundation in Python, data structures, conditionals, iteration, and ethical computing. From Trimester 1’s hands-on fundamentals to Trimester 2’s real-world applications, I demonstrated consistency, technical growth, and commitment to the AP CSP journey.  \n",
    "All work is original, published, and version-controlled via GitHub.\n",
    "\n"
   ]
  }
 ],
 "metadata": {
  "language_info": {
   "name": "python"
  }
 },
 "nbformat": 4,
 "nbformat_minor": 5
}
