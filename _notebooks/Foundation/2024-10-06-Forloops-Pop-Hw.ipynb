{
 "cells": [
  {
   "cell_type": "raw",
   "metadata": {
    "vscode": {
     "languageId": "raw"
    }
   },
   "source": [
    "---\n",
    "layout: post\n",
    "title: ForLoops Popcorn Hacks\n",
    "description: Popcorn Hacks for ForLoops\n",
    "categories: [Python]\n",
    "permalink: /Forloops/Pop/Hw\n",
    "menu: nav/tools_setup.html\n",
    "toc: true\n",
    "comments: true"
   ]
  },
  {
   "cell_type": "markdown",
   "metadata": {},
   "source": [
    "## Popcorn Hack 1 For Loops"
   ]
  },
  {
   "cell_type": "code",
   "execution_count": 25,
   "metadata": {},
   "outputs": [
    {
     "name": "stdout",
     "output_type": "stream",
     "text": [
      "🍎\n",
      "🍌\n",
      "🍒\n"
     ]
    }
   ],
   "source": [
    "fruits = ['🍎', '🍌', '🍒']\n",
    "\n",
    "for fruit in fruits:\n",
    "    print(fruit)"
   ]
  },
  {
   "cell_type": "markdown",
   "metadata": {},
   "source": [
    "## Popcorn Hack 2 While Loops"
   ]
  },
  {
   "cell_type": "code",
   "execution_count": 26,
   "metadata": {
    "vscode": {
     "languageId": "javascript"
    }
   },
   "outputs": [
    {
     "name": "stdout",
     "output_type": "stream",
     "text": [
      "1\n",
      "3\n",
      "5\n",
      "7\n",
      "9\n",
      "11\n",
      "13\n",
      "15\n",
      "17\n",
      "19\n"
     ]
    }
   ],
   "source": [
    "number = 1\n",
    "\n",
    "while number <= 20:\n",
    "    if number % 2 == 1:\n",
    "        print(number)\n",
    "    number += 1"
   ]
  },
  {
   "cell_type": "code",
   "execution_count": 27,
   "metadata": {},
   "outputs": [
    {
     "name": "stdout",
     "output_type": "stream",
     "text": [
      "Flipped: tails\n",
      "Landed on tails!\n"
     ]
    }
   ],
   "source": [
    "import random\n",
    "\n",
    "flip = \"\"\n",
    "\n",
    "while flip != \"tails\":\n",
    "    flip = random.choice([\"tails\"])\n",
    "    print(f\"Flipped: {flip}\")\n",
    "\n",
    "print(\"Landed on tails!\")"
   ]
  },
  {
   "cell_type": "markdown",
   "metadata": {},
   "source": [
    "## Popcorn hack for index loop"
   ]
  },
  {
   "cell_type": "code",
   "execution_count": 28,
   "metadata": {},
   "outputs": [
    {
     "name": "stdout",
     "output_type": "stream",
     "text": [
      "Your To-Do List:\n",
      "1. Brush Teeth\n",
      "2. Shower\n",
      "3. Play sports with friends\n",
      "4. Do homework\n",
      "5. Go to sleep\n"
     ]
    }
   ],
   "source": [
    "tasks = [\n",
    "    \"Brush Teeth\",\n",
    "    \"Shower\",\n",
    "    \"Play sports with friends\",\n",
    "    \"Do homework\",\n",
    "    \"Go to sleep\"\n",
    "]\n",
    "\n",
    "# Function to display tasks with indices\n",
    "def display_tasks():\n",
    "    print(\"Your To-Do List:\")\n",
    "    for index in range(len(tasks)):\n",
    "        print(f\"{index + 1}. {tasks[index]}\")  # Display task with its index\n",
    "\n",
    "# Call the function\n",
    "display_tasks()"
   ]
  },
  {
   "cell_type": "code",
   "execution_count": 29,
   "metadata": {
    "vscode": {
     "languageId": "javascript"
    }
   },
   "outputs": [
    {
     "data": {
      "application/javascript": "// List of tasks\nconst tasks = [\n    \"Brush Teeth\",\n    \"Shower\",\n    \"Play sports with friends\",\n    \"Do homework\",\n    \"Go to sleep\"\n];\n\n// Function to display tasks with indices\nfunction displayTasks() {\n    console.log(\"Your To-Do List:\");\n    for (let index = 0; index < tasks.length; index++) {\n        console.log(`${index + 1}. ${tasks[index]}`); // Display task with its index\n    }\n}\n\n// Call the function\ndisplayTasks();\n",
      "text/plain": [
       "<IPython.core.display.Javascript object>"
      ]
     },
     "metadata": {},
     "output_type": "display_data"
    }
   ],
   "source": [
    "%%javascript\n",
    "// List of tasks\n",
    "const tasks = [\n",
    "    \"Brush Teeth\",\n",
    "    \"Shower\",\n",
    "    \"Play sports with friends\",\n",
    "    \"Do homework\",\n",
    "    \"Go to sleep\"\n",
    "];\n",
    "\n",
    "// Function to display tasks with indices\n",
    "function displayTasks() {\n",
    "    console.log(\"Your To-Do List:\");\n",
    "    for (let index = 0; index < tasks.length; index++) {\n",
    "        console.log(`${index + 1}. ${tasks[index]}`); // Display task with its index\n",
    "    }\n",
    "}\n",
    "\n",
    "// Call the function\n",
    "displayTasks();\n"
   ]
  },
  {
   "cell_type": "code",
   "execution_count": 30,
   "metadata": {
    "vscode": {
     "languageId": "javascript"
    }
   },
   "outputs": [
    {
     "data": {
      "application/javascript": "\nfor (let i = 5; i < 15; i++) {\n  if (i == 10) {\n    continue; \n  }\n  console.log(i); \n}\n",
      "text/plain": [
       "<IPython.core.display.Javascript object>"
      ]
     },
     "metadata": {},
     "output_type": "display_data"
    }
   ],
   "source": [
    "%%javascript\n",
    "\n",
    "for (let i = 5; i < 15; i++) {\n",
    "  if (i == 10) {\n",
    "    continue; \n",
    "  }\n",
    "  console.log(i); \n",
    "}"
   ]
  },
  {
   "cell_type": "code",
   "execution_count": null,
   "metadata": {
    "vscode": {
     "languageId": "javascript"
    }
   },
   "outputs": [],
   "source": []
  },
  {
   "cell_type": "markdown",
   "metadata": {
    "vscode": {
     "languageId": "javascript"
    }
   },
   "source": [
    "## Popcorn Hack for 3.8.4 Continue and Break"
   ]
  },
  {
   "cell_type": "code",
   "execution_count": 1,
   "metadata": {
    "vscode": {
     "languageId": "javascript"
    }
   },
   "outputs": [
    {
     "data": {
      "application/javascript": "// Grading System in JavaScript\n\nfunction gradeHomework(score) {\n    if (score >= 90 && score <= 100) {\n        return \"A - Exceptional (90-100%): Surpasses all expectations with notable creativity or extensive effort.\";\n    } else if (score >= 80 && score < 90) {\n        return \"B - Very Good (80-89%): Meets all requirements with only a few minor inaccuracies.\";\n    } else if (score >= 70 && score < 80) {\n        return \"C - Acceptable (70-79%): Contains some missing elements; demonstrates a basic grasp of concepts.\";\n    } else if (score >= 60 && score < 70) {\n        return \"D - Needs Attention (60-69%): Lacks several key components; significant errors present.\";\n    } else {\n        return \"F - Unsatisfactory (0-59%): Shows minimal effort or misunderstanding of the material.\";\n    }\n}\n\nfunction calculateGrade(popcornHacks, homeworkAssignments, submissionQuality) {\n    const totalScore = (popcornHacks * 0.4) + (homeworkAssignments * 0.5) + (submissionQuality * 0.1);\n    return totalScore;\n}\n\n// Example Usage\nconst popcornHacksScore = 80; // Score out of 100 for popcorn hacks\nconst homeworkScore = 85;      // Score out of 100 for homework assignments\nconst submissionQualityScore = 90; // Score out of 100 for submission quality\n\nconst finalScore = calculateGrade(popcornHacksScore, homeworkScore, submissionQualityScore);\nconsole.log(`Final Score: ${finalScore.toFixed(2)}`);\nconsole.log(gradeHomework(finalScore));\n\n",
      "text/plain": [
       "<IPython.core.display.Javascript object>"
      ]
     },
     "metadata": {},
     "output_type": "display_data"
    }
   ],
   "source": [
    "%%js\n",
    "// Grading System in JavaScript\n",
    "\n",
    "function gradeHomework(score) {\n",
    "    if (score >= 90 && score <= 100) {\n",
    "        return \"A - Exceptional (90-100%): Surpasses all expectations with notable creativity or extensive effort.\";\n",
    "    } else if (score >= 80 && score < 90) {\n",
    "        return \"B - Very Good (80-89%): Meets all requirements with only a few minor inaccuracies.\";\n",
    "    } else if (score >= 70 && score < 80) {\n",
    "        return \"C - Acceptable (70-79%): Contains some missing elements; demonstrates a basic grasp of concepts.\";\n",
    "    } else if (score >= 60 && score < 70) {\n",
    "        return \"D - Needs Attention (60-69%): Lacks several key components; significant errors present.\";\n",
    "    } else {\n",
    "        return \"F - Unsatisfactory (0-59%): Shows minimal effort or misunderstanding of the material.\";\n",
    "    }\n",
    "}\n",
    "\n",
    "function calculateGrade(popcornHacks, homeworkAssignments, submissionQuality) {\n",
    "    const totalScore = (popcornHacks * 0.4) + (homeworkAssignments * 0.5) + (submissionQuality * 0.1);\n",
    "    return totalScore;\n",
    "}\n",
    "\n",
    "// Example Usage\n",
    "const popcornHacksScore = 80; // Score out of 100 for popcorn hacks\n",
    "const homeworkScore = 85;      // Score out of 100 for homework assignments\n",
    "const submissionQualityScore = 90; // Score out of 100 for submission quality\n",
    "\n",
    "const finalScore = calculateGrade(popcornHacksScore, homeworkScore, submissionQualityScore);\n",
    "console.log(`Final Score: ${finalScore.toFixed(2)}`);\n",
    "console.log(gradeHomework(finalScore));\n",
    "\n"
   ]
  }
 ],
 "metadata": {
  "kernelspec": {
   "display_name": "Python 3",
   "language": "python",
   "name": "python3"
  },
  "language_info": {
   "codemirror_mode": {
    "name": "ipython",
    "version": 3
   },
   "file_extension": ".py",
   "mimetype": "text/x-python",
   "name": "python",
   "nbconvert_exporter": "python",
   "pygments_lexer": "ipython3",
   "version": "3.12.5"
  }
 },
 "nbformat": 4,
 "nbformat_minor": 2
}
