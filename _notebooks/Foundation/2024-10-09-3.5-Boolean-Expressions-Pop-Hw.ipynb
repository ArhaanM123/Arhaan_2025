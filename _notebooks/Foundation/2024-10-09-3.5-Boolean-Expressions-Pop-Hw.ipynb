{
 "cells": [
  {
   "cell_type": "raw",
   "metadata": {
    "vscode": {
     "languageId": "raw"
    }
   },
   "source": [
    "---\n",
    "layout: post\n",
    "title: Boolean Expressions Popcorn Hacks\n",
    "description: Popcorn Hacks for Boolean Expressions\n",
    "categories: [Python]\n",
    "permalink: /3.5/Boolean/Expressions/Pop/Hw\n",
    "menu: nav/tools_setup.html\n",
    "toc: true\n",
    "comments: true"
   ]
  },
  {
   "cell_type": "markdown",
   "metadata": {},
   "source": [
    "## Popcorn Hack #1\n"
   ]
  },
  {
   "cell_type": "code",
   "execution_count": 3,
   "metadata": {},
   "outputs": [
    {
     "name": "stdout",
     "output_type": "stream",
     "text": [
      "A is true, so B must also be true: True\n",
      "You can drink water, you can get food.\n"
     ]
    }
   ],
   "source": [
    "def Eating():\n",
    "    return True  # Condition A\n",
    "\n",
    "def Drinking_water():\n",
    "    return True  # Condition B\n",
    "\n",
    "# Original statement: if Eating then Drinking_water\n",
    "if Eating():\n",
    "    print(\"A is true, so B must also be true:\", Drinking_water())\n",
    "else:\n",
    "    print(\"If you do not get food, you dont get a drink.\")\n",
    "\n",
    "# Contrapositive: if not Eating then not Drinking_Water\n",
    "if not Drinking_water():\n",
    "    print(\"You cant drink water, so you cannot get food:\", not Eating())\n",
    "else:\n",
    "    print(\"You can drink water, you can get food.\")\n"
   ]
  },
  {
   "cell_type": "code",
   "execution_count": 4,
   "metadata": {
    "vscode": {
     "languageId": "javascript"
    }
   },
   "outputs": [
    {
     "data": {
      "application/javascript": "\npublic class ContrapositiveExample {\n    \n    public static boolean A() {\n        return true; // Condition A\n    }\n    \n    public static boolean B() {\n        return true; // Condition B\n    }\n    \n    public static void main(String[] args) {\n        // Original statement: if A then B\n        if (A()) {\n            System.out.println(\"A is true, so B must also be true: \" + B());\n        } else {\n            System.out.println(\"A is false, we cannot conclude anything about B.\");\n        }\n        \n        // Contrapositive: if not B then not A\n        if (!B()) {\n            System.out.println(\"B is false, therefore A must also be false: \" + !A());\n        } else {\n            System.out.println(\"B is true, we cannot conclude anything about A.\");\n        }\n",
      "text/plain": [
       "<IPython.core.display.Javascript object>"
      ]
     },
     "metadata": {},
     "output_type": "display_data"
    }
   ],
   "source": [
    "%%javascript\n",
    "\n",
    "public class ContrapositiveExample {\n",
    "    \n",
    "    public static boolean A() {\n",
    "        return true; // Condition A\n",
    "    }\n",
    "    \n",
    "    public static boolean B() {\n",
    "        return true; // Condition B\n",
    "    }\n",
    "    \n",
    "    public static void main(String[] args) {\n",
    "        // Original statement: if A then B\n",
    "        if (A()) {\n",
    "            System.out.println(\"A is true, so B must also be true: \" + B());\n",
    "        } else {\n",
    "            System.out.println(\"A is false, we cannot conclude anything about B.\");\n",
    "        }\n",
    "        \n",
    "        // Contrapositive: if not B then not A\n",
    "        if (!B()) {\n",
    "            System.out.println(\"B is false, therefore A must also be false: \" + !A());\n",
    "        } else {\n",
    "            System.out.println(\"B is true, we cannot conclude anything about A.\");\n",
    "        }"
   ]
  }
 ],
 "metadata": {
  "kernelspec": {
   "display_name": "Python 3",
   "language": "python",
   "name": "python3"
  },
  "language_info": {
   "codemirror_mode": {
    "name": "ipython",
    "version": 3
   },
   "file_extension": ".py",
   "mimetype": "text/x-python",
   "name": "python",
   "nbconvert_exporter": "python",
   "pygments_lexer": "ipython3",
   "version": "3.12.5"
  }
 },
 "nbformat": 4,
 "nbformat_minor": 2
}
