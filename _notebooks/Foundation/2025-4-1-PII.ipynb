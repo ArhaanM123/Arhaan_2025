{
 "cells": [
  {
   "cell_type": "raw",
   "metadata": {
    "vscode": {
     "languageId": "raw"
    }
   },
   "source": [
    "---\n",
    "layout: post\n",
    "title:  Privacy Risks from Data Collection\n",
    "description: popcorn and homework hacks for Privacy Risks from Data Collection\n",
    "permalink: /PII/\n",
    "menu: nav/tools_setup.html\n",
    "toc: true\n",
    "comments: true \n",
    "---"
   ]
  },
  {
   "cell_type": "markdown",
   "metadata": {},
   "source": [
    "**Popcorn Hack 1 Identify PII**\n",
    "Which of the following is considered PII?\n",
    "\n",
    "- **A. Fingerprint**\n",
    "- B. Favorite Color\n",
    "- C. Zip Code\n",
    "- D. Job Title"
   ]
  },
  {
   "cell_type": "markdown",
   "metadata": {},
   "source": [
    "**Pop Quiz: Multifactor Authentication**\n",
    "Which of the following is NOT an example of a multifactor authentication (MFA) factor?\n",
    "- **A. A password used to log into an email account.**\n",
    "- **B. A verification code sent to a user's phone.**\n",
    "- C. A fingerprint scan on a smartphone.\n",
    "- D. A username required to log in.\n"
   ]
  },
  {
   "cell_type": "markdown",
   "metadata": {},
   "source": [
    "**Popcorn Hack 2: Encryption Quiz**\n",
    "Which of the following is an example of symmetric encryption?\n",
    "- A. Evy buys a locked box that operates using two different codes. When the first code is entered, a slot opens that allows a message to be put in the box. When the second code is entered, the door to the box opens. Evy gives the first code to her friends so they can leave messages for her and keeps the second code to herself so that she is the only one who can retrieve the messages.\n",
    "- **B. Finn and Gwen develop a system that maps each letter of the alphabet to a unique symbol using a secret key. Finn uses the key to write a message to Gwen where each letter is replaced with the corresponding symbol. Gwen uses the key to map each symbol back to the original letter.**\n",
    "- C. Hannah writes a message to send to Isabel and hides the message under a rock behind the soccer field. Hannah gives Isabel the exact location of the rock so that only Isabel can find the message.\n",
    "- D. Juan writes a message to send to Kelly and slides the message through a slot in the front of Kelly’s locker. Juan knows that Kelly has not shared her locker combination with anyone, so no one other than Kelly will be able to read the message."
   ]
  },
  {
   "cell_type": "markdown",
   "metadata": {},
   "source": [
    "**Popcorn Hack 3: Strong Password**\n",
    "\n",
    "A good password is one that’s hard for others (or computers) to guess but easy for you to remember. Here are some things that make a strong password:\n",
    "\n",
    "- It’s long – at least 12 characters is best.\n",
    "\n",
    "- It mixes letters, numbers, and symbols – like T!g3r$Run9!.\n",
    "\n",
    "- It avoids personal info – like your name, birthday, or pet's name.\n",
    "\n",
    "- It uses random or unique word combinations – like PurpleSun$88Pizza!.\n",
    "\n",
    "- It’s different for every account – so one leak doesn’t affect everything."
   ]
  }
 ],
 "metadata": {
  "language_info": {
   "name": "python"
  }
 },
 "nbformat": 4,
 "nbformat_minor": 2
}
