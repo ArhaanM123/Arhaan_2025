{
 "cells": [
  {
   "cell_type": "raw",
   "metadata": {
    "vscode": {
     "languageId": "raw"
    }
   },
   "source": [
    "---\n",
    "layout: post\n",
    "title: ForLoops Homework\n",
    "description: Homework Hacks for ForLoops\n",
    "categories: [Python]\n",
    "permalink: /3.10/Lists/Hw\n",
    "menu: nav/tools_setup.html\n",
    "toc: true\n",
    "comments: true"
   ]
  },
  {
   "cell_type": "markdown",
   "metadata": {
    "vscode": {
     "languageId": "raw"
    }
   },
   "source": [
    "# List Item Remover Script\n",
    "\n",
    "This Python script allows users to interactively manage a list containing various data types. The script initializes a list with different values, prompts the user to input an index, checks if the index is valid, and removes the item at that index if it exists. The user can continue to remove items or exit the program at any time.\n",
    "\n",
    "## Features\n",
    "- Displays the current contents of the list along with their indices.\n",
    "- Allows the user to remove an item by entering the corresponding index.\n",
    "- Handles invalid inputs and out-of-range indices gracefully.\n",
    "- Provides an option to exit the program.\n",
    "\n",
    "## Usage\n",
    "Run the script in a Python environment and follow the prompts to manage the list.\n"
   ]
  },
  {
   "cell_type": "code",
   "execution_count": null,
   "metadata": {},
   "outputs": [],
   "source": [
    "# Initialize a list with various data types\n",
    "data_list = [\n",
    "    \"apple\",  # string\n",
    "    42,       # integer\n",
    "    3.14,     # float\n",
    "    True,     # boolean\n",
    "    [1, 2, 3],# list\n",
    "    {\"key\": \"value\"},  # dictionary\n",
    "    None      # NoneType\n",
    "]\n",
    "\n",
    "# Function to display the current list\n",
    "def display_list(data):\n",
    "    print(\"Current list:\")\n",
    "    for index, item in enumerate(data):\n",
    "        print(f\"{index}: {item}\")\n",
    "\n",
    "# Main code\n",
    "if __name__ == \"__main__\":\n",
    "    while True:\n",
    "        display_list(data_list)\n",
    "        \n",
    "        try:\n",
    "            # Ask the user for an index\n",
    "            user_input = input(\"Enter an index to remove an item (or 'exit' to quit): \")\n",
    "            if user_input.lower() == 'exit':\n",
    "                print(\"Exiting the program.\")\n",
    "                break\n",
    "            \n",
    "            index = int(user_input)  # Convert input to integer\n",
    "            \n",
    "            # Check if the index is valid\n",
    "            if 0 <= index < len(data_list):\n",
    "                removed_item = data_list.pop(index)  # Remove item at the index\n",
    "                print(f\"Removed item: {removed_item}\")\n",
    "            else:\n",
    "                print(\"Invalid index. Please try again.\")\n",
    "        \n",
    "        except ValueError:\n",
    "            print(\"Please enter a valid number or 'exit' to quit.\")\n"
   ]
  },
  {
   "cell_type": "markdown",
   "metadata": {},
   "source": [
    "1. Initialize an empty list called 'numbers'\n",
    "2. For i from 1 to 30:\n",
    "     a. Append i to 'numbers'\n",
    "3. Initialize variable 'even_sum' to 0\n",
    "4. Initialize variable 'odd_sum' to 0\n",
    "5. For each number in 'numbers':\n",
    "     a. If the number is even:\n",
    "         i. Add the number to 'even_sum'\n",
    "     b. Else:\n",
    "         i. Add the number to 'odd_sum'\n",
    "6. Print 'even_sum'\n",
    "7. Print 'odd_sum'\n"
   ]
  },
  {
   "cell_type": "code",
   "execution_count": null,
   "metadata": {},
   "outputs": [],
   "source": [
    "# Step 1: Initialize an empty list\n",
    "numbers = []\n",
    "\n",
    "# Step 2: Create a list of 30 numbers\n",
    "for i in range(1, 31):\n",
    "    numbers.append(i)\n",
    "\n",
    "# Step 3: Initialize sums\n",
    "even_sum = 0\n",
    "odd_sum = 0\n",
    "\n",
    "# Step 4: Calculate the sums of even and odd numbers\n",
    "for number in numbers:\n",
    "    if number % 2 == 0:  # Check if the number is even\n",
    "        even_sum += number\n",
    "    else:  # The number is odd\n",
    "        odd_sum += number\n",
    "\n",
    "# Step 5: Print the results\n",
    "print(\"Sum of even numbers:\", even_sum)\n",
    "print(\"Sum of odd numbers:\", odd_sum)\n"
   ]
  },
  {
   "cell_type": "markdown",
   "metadata": {},
   "source": [
    "# Favorite Hobbies List\n",
    "\n",
    "This Python script demonstrates how to create a list of favorite hobbies and iterate through each hobby using a loop. It prints each hobby to the console, showcasing the user's interests.\n",
    "\n",
    "## Code Breakdown\n",
    "\n",
    "1. **List Creation**: A list named `favorite_hobbies` is created, containing various hobbies.\n",
    "2. **Loop Iteration**: A `for` loop is used to go through each hobby in the list, printing a formatted string that states it's a favorite hobby.\n",
    "\n",
    "## Usage\n",
    "\n",
    "Run the code in any Python environment to see the list of hobbies printed out.\n"
   ]
  },
  {
   "cell_type": "code",
   "execution_count": null,
   "metadata": {},
   "outputs": [],
   "source": [
    "# Step 1: Create a list of favorite hobbies\n",
    "favorite_hobbies = [\n",
    "    \"Reading\",\n",
    "    \"Cycling\",\n",
    "    \"Photography\",\n",
    "    \"Cooking\",\n",
    "    \"Gardening\",\n",
    "    \"Hiking\",\n",
    "    \"Playing Video Games\",\n",
    "    \"Painting\",\n",
    "    \"Writing\",\n",
    "    \"Traveling\"\n",
    "]\n",
    "\n",
    "# Step 2: Use a loop to iterate through each hobby\n",
    "for hobby in favorite_hobbies:\n",
    "    print(f\"My favorite hobby is: {hobby}\")\n"
   ]
  },
  {
   "cell_type": "markdown",
   "metadata": {},
   "source": [
    "# Yes/No Questions List\n",
    "\n",
    "This Python script creates a list containing two yes/no questions along with their respective answers. It then iterates through the list and prints each question with its answer.\n",
    "\n",
    "## Code Breakdown\n",
    "\n",
    "1. **List Creation**: A list named `questions_and_answers` is created, where each element is a dictionary containing a question and its answer.\n",
    "2. **Loop Iteration**: A `for` loop is used to print each question with its corresponding answer.\n",
    "\n",
    "## Usage\n",
    "\n",
    "Run the code in any Python environment to see the questions and their answers displayed.\n"
   ]
  },
  {
   "cell_type": "code",
   "execution_count": null,
   "metadata": {},
   "outputs": [],
   "source": [
    "# Step 1: Create a list of questions with yes/no answers\n",
    "questions_and_answers = [\n",
    "    {\"question\": \"Do you like coffee?\", \"answer\": \"Yes\"},\n",
    "    {\"question\": \"Is Python your favorite programming language?\", \"answer\": \"No\"}\n",
    "]\n",
    "\n",
    "# Step 2: Use a loop to iterate through each question and answer\n",
    "for item in questions_and_answers:\n",
    "    print(f\"Question: {item['question']}\")\n",
    "    print(f\"Answer: {item['answer']}\\n\")\n"
   ]
  }
 ],
 "metadata": {
  "language_info": {
   "name": "python"
  }
 },
 "nbformat": 4,
 "nbformat_minor": 2
}
