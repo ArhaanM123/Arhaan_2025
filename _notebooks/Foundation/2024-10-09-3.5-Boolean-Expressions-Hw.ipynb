{
 "cells": [
  {
   "cell_type": "raw",
   "metadata": {
    "vscode": {
     "languageId": "raw"
    }
   },
   "source": [
    "---\n",
    "layout: post\n",
    "title: Boolean Expressions Homework Hacks\n",
    "description: Homework Hacks for Boolean Expressions\n",
    "categories: [Python]\n",
    "permalink: /3.5/Boolean/Expressions//Hw\n",
    "menu: nav/tools_setup.html\n",
    "toc: true\n",
    "comments: true"
   ]
  },
  {
   "cell_type": "markdown",
   "metadata": {},
   "source": [
    "## Popcorn Hack #1"
   ]
  },
  {
   "cell_type": "code",
   "execution_count": 1,
   "metadata": {},
   "outputs": [
    {
     "name": "stdout",
     "output_type": "stream",
     "text": [
      "Truth Table for Logic Gates\n",
      "A\tB\tAND\tOR\tNAND\tNOR\tXOR\tNOT A\tNOT B\n",
      "0\t0\t0\t0\t1\t1\t0\t1\t1\n",
      "0\t1\t0\t1\t1\t0\t1\t1\t0\n",
      "1\t0\t0\t1\t1\t0\t1\t0\t1\n",
      "1\t1\t1\t1\t0\t0\t0\t0\t0\n"
     ]
    }
   ],
   "source": [
    "def AND(a, b):\n",
    "    return a and b\n",
    "\n",
    "def OR(a, b):\n",
    "    return a or b\n",
    "\n",
    "def NOT(a):\n",
    "    return not a\n",
    "\n",
    "def NAND(a, b):\n",
    "    return not (a and b)\n",
    "\n",
    "def NOR(a, b):\n",
    "    return not (a or b)\n",
    "\n",
    "def XOR(a, b):\n",
    "    return a != b\n",
    "\n",
    "def display_truth_table():\n",
    "    print(\"Truth Table for Logic Gates\")\n",
    "    print(\"A\\tB\\tAND\\tOR\\tNAND\\tNOR\\tXOR\\tNOT A\\tNOT B\")\n",
    "    for a in [0, 1]:\n",
    "        for b in [0, 1]:\n",
    "            print(f\"{a}\\t{b}\\t{int(AND(a, b))}\\t{int(OR(a, b))}\\t{int(NAND(a, b))}\\t{int(NOR(a, b))}\\t{int(XOR(a, b))}\\t{int(NOT(a))}\\t{int(NOT(b))}\")\n",
    "\n",
    "display_truth_table()\n"
   ]
  },
  {
   "cell_type": "code",
   "execution_count": 6,
   "metadata": {
    "vscode": {
     "languageId": "javascript"
    }
   },
   "outputs": [
    {
     "data": {
      "application/javascript": "function AND(a, b) {\n    return a && b;\n}\n\nfunction OR(a, b) {\n    return a || b;\n}\n\nfunction NOT(a) {\n    return !a;\n}\n\nfunction NAND(a, b) {\n    return !(a && b);\n}\n\nfunction NOR(a, b) {\n    return !(a || b);\n}\n\nfunction XOR(a, b) {\n    return a != b;\n}\n\nfunction displayTruthTable() {\n    console.log(\"A\\tB\\tAND\\tOR\\tNAND\\tNOR\\tXOR\\tNOT A\\tNOT B\");\n    [0, 1].forEach(a => {\n        [0, 1].forEach(b => {\n            console.log(\n                `${a}\\t${b}\\t${AND(a, b)}\\t${OR(a, b)}\\t${NAND(a, b)}\\t${NOR(a, b)}\\t${XOR(a, b)}\\t${NOT(a)}\\t${NOT(b)}`\n            );\n        });\n    });\n}\n\ndisplayTruthTable();\n",
      "text/plain": [
       "<IPython.core.display.Javascript object>"
      ]
     },
     "metadata": {},
     "output_type": "display_data"
    }
   ],
   "source": [
    "%%js\n",
    "function AND(a, b) {\n",
    "    return a && b;\n",
    "}\n",
    "\n",
    "function OR(a, b) {\n",
    "    return a || b;\n",
    "}\n",
    "\n",
    "function NOT(a) {\n",
    "    return !a;\n",
    "}\n",
    "\n",
    "function NAND(a, b) {\n",
    "    return !(a && b);\n",
    "}\n",
    "\n",
    "function NOR(a, b) {\n",
    "    return !(a || b);\n",
    "}\n",
    "\n",
    "function XOR(a, b) {\n",
    "    return a != b;\n",
    "}\n",
    "\n",
    "function displayTruthTable() {\n",
    "    console.log(\"A\\tB\\tAND\\tOR\\tNAND\\tNOR\\tXOR\\tNOT A\\tNOT B\");\n",
    "    [0, 1].forEach(a => {\n",
    "        [0, 1].forEach(b => {\n",
    "            console.log(\n",
    "                `${a}\\t${b}\\t${AND(a, b)}\\t${OR(a, b)}\\t${NAND(a, b)}\\t${NOR(a, b)}\\t${XOR(a, b)}\\t${NOT(a)}\\t${NOT(b)}`\n",
    "            );\n",
    "        });\n",
    "    });\n",
    "}\n",
    "\n",
    "displayTruthTable();\n"
   ]
  }
 ],
 "metadata": {
  "kernelspec": {
   "display_name": "Python 3",
   "language": "python",
   "name": "python3"
  },
  "language_info": {
   "codemirror_mode": {
    "name": "ipython",
    "version": 3
   },
   "file_extension": ".py",
   "mimetype": "text/x-python",
   "name": "python",
   "nbconvert_exporter": "python",
   "pygments_lexer": "ipython3",
   "version": "3.12.5"
  }
 },
 "nbformat": 4,
 "nbformat_minor": 2
}
