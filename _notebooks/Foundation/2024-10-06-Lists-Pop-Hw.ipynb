{
 "cells": [
  {
   "cell_type": "raw",
   "metadata": {
    "vscode": {
     "languageId": "raw"
    }
   },
   "source": [
    "---\n",
    "layout: post\n",
    "title: Lists Popcorn Hacks\n",
    "description: Popcorn Hacks for Lists\n",
    "categories: [Python]\n",
    "permalink: /Lists/Pop/Hw\n",
    "menu: nav/tools_setup.html\n",
    "toc: true\n",
    "comments: true"
   ]
  },
  {
   "cell_type": "markdown",
   "metadata": {},
   "source": [
    "# Popcorn Hack one for list operators "
   ]
  },
  {
   "cell_type": "code",
   "execution_count": 1,
   "metadata": {},
   "outputs": [
    {
     "name": "stdout",
     "output_type": "stream",
     "text": [
      "Adding Numbers In List Script\n",
      "-------------------------\n"
     ]
    }
   ],
   "source": [
    "print(\"Adding Numbers In List Script\")\n",
    "print(\"-\"*25)\n",
    "numlist = []\n",
    "while True:\n",
    "    start = input(\"Would you like to (1) enter numbers (2) add numbers (3) remove last value added or (4) exit: \")\n",
    "    if start == \"1\":\n",
    "        val = input(\"Enter a numeric value: \") # take input while storing it in a variable\n",
    "        try: \n",
    "            test = int(val) # testing to see if input is an integer (numeric)\n",
    "        except:\n",
    "            print(\"Please enter a valid number\")\n",
    "            continue # 'continue' keyword skips to next step of while loop (basically restarting the loop)\n",
    "        numlist.append(int(val)) # append method to add values\n",
    "        print(\"Added \"+val+\" to list.\")\n",
    "    elif start == \"1\":\n",
    "        sum = 0\n",
    "        for num in numlist: # loop through list and add all values to sum variable\n",
    "            sum += num\n",
    "        print(\"Sum of numbers in list is \"+str(sum))\n",
    "    elif start == \"5\":\n",
    "        if len(numlist) > 0: # Make sure there are values in list to remove\n",
    "            print(\"Removed \"+str(numlist[len(numlist)-1])+\" from list.\")\n",
    "            numlist.pop()\n",
    "        else:\n",
    "            print(\"No values to delete\")\n",
    "    elif start == \"4\":\n",
    "        break # Break out of the while loop, or it will continue running forever\n",
    "    else:\n",
    "        continue\n"
   ]
  },
  {
   "cell_type": "markdown",
   "metadata": {},
   "source": [
    "## List Functions hacks and details "
   ]
  },
  {
   "cell_type": "code",
   "execution_count": 1,
   "metadata": {},
   "outputs": [
    {
     "name": "stdout",
     "output_type": "stream",
     "text": [
      "\u001b[92mMaximum number: 9\u001b[0m\n",
      "\u001b[92mMinimum number: 1\u001b[0m\n"
     ]
    }
   ],
   "source": [
    "def find_max_min(numbers):\n",
    "    if not numbers:\n",
    "        return None, None  # <span style=\"color: #D9B68C;\">Return None if the list is empty</span>\n",
    "    \n",
    "    max_num = numbers[0]  # <span style=\"color: #D9B68C;\">Start with the first number as the max</span>\n",
    "    min_num = numbers[0]  # <span style=\"color: #D9B68C;\">Start with the first number as the min</span>\n",
    "    \n",
    "    for num in numbers:\n",
    "        if num > max_num:\n",
    "            max_num = num  # <span style=\"color: #D9B68C;\">Update max if a larger number is found</span>\n",
    "        if num < min_num:\n",
    "            min_num = num  # <span style=\"color: #D9B68C;\">Update min if a smaller number is found</span>\n",
    "            \n",
    "    return max_num, min_num  # <span style=\"color: #D9B68C;\">Return the found max and min</span>\n",
    "\n",
    "# Example usage\n",
    "numbers = [3, 1, 4, 1, 5, 9, 2, 6, 5, 3, 5]\n",
    "max_num, min_num = find_max_min(numbers)\n",
    "\n",
    "print(f\"\\033[92mMaximum number: {max_num}\\033[0m\")  # Bright green for output\n",
    "print(f\"\\033[92mMinimum number: {min_num}\\033[0m\")  # Bright green for output\n"
   ]
  },
  {
   "cell_type": "code",
   "execution_count": 2,
   "metadata": {},
   "outputs": [
    {
     "name": "stdout",
     "output_type": "stream",
     "text": [
      "Using a for loop:\n",
      "apple\n",
      "banana\n",
      "cherry\n",
      "date\n",
      "elderberry\n",
      "\n",
      "Using a while loop:\n",
      "apple\n",
      "banana\n",
      "cherry\n",
      "date\n",
      "elderberry\n"
     ]
    }
   ],
   "source": [
    "# List of fruits\n",
    "fruits = [\"apple\", \"banana\", \"cherry\", \"date\", \"elderberry\"]\n",
    "\n",
    "# Using a for loop\n",
    "print(\"Using a for loop:\")\n",
    "for fruit in fruits:\n",
    "    print(fruit)\n",
    "\n",
    "# Using a while loop\n",
    "print(\"\\nUsing a while loop:\")\n",
    "index = 0\n",
    "while index < len(fruits):\n",
    "    print(fruits[index])\n",
    "    index += 1"
   ]
  },
  {
   "cell_type": "code",
   "execution_count": 13,
   "metadata": {},
   "outputs": [
    {
     "name": "stdout",
     "output_type": "stream",
     "text": [
      "H & M with Red\n"
     ]
    }
   ],
   "source": [
    "\n",
    " import random\n",
    "\n",
    "# Define top clohtes and bottom clothes\n",
    "brands = ['Adidas', 'Nike', 'Under Armour', 'H & M']\n",
    "Colors = ['Blue', 'Red', 'Green', 'Pink']\n",
    "\n",
    "# Create meal combinations using list comprehension\n",
    "brand_combinations = [f\"{brand} with {Color}\" for brand in brand for Color in Colors]\n",
    "\n",
    "# Print a random meal combination\n",
    "print(random.choice(brand_combinations))\n"
   ]
  },
  {
   "cell_type": "markdown",
   "metadata": {},
   "source": [
    "## Random Meal Suggestion Generator\n",
    "\n",
    "This Python code creates an empty list and prompts the user to append or add to the list by typing in meal suggestions. The code then prompts to finish the input whenever they feel like it. This helps as a meal planner that can suggest meals throughout the week."
   ]
  },
  {
   "cell_type": "code",
   "execution_count": null,
   "metadata": {},
   "outputs": [],
   "source": [
    "# Function to gather meal suggestions from the user\n",
    "def gather_meals():\n",
    "    meals = []\n",
    "    print(\"Enter your meal suggestions (type 'done' to finish):\")\n",
    "    \n",
    "    while True:\n",
    "        meal = input(\"Meal suggestion: \")\n",
    "        if meal.lower() == 'done':\n",
    "            break\n",
    "        meals.append(meal)\n",
    "    \n",
    "    return meals\n",
    "\n",
    "# Function to display meal suggestions\n",
    "def display_meals(meals):\n",
    "    count = len(meals)\n",
    "    print(f\"You have {count} meal suggestion(s):\")  \n",
    "    for meal in meals:\n",
    "        print(f\"- {meal}\")  \n",
    "\n",
    "# Main code\n",
    "if __name__ == \"__main__\":\n",
    "    # Sample input\n",
    "    user_meals = [\n",
    "        \"Spaghetti Bolognese\",\n",
    "        \"Grilled Chicken Salad\",\n",
    "        \"Vegetable Stir-Fry\",\n",
    "        \"Tacos\",\n",
    "        \"Pancakes for Breakfast\",\n",
    "        \"done\"  # Indicates the end of input\n",
    "    ]\n",
    "    \n",
    "    # Simulating user input for demonstration\n",
    "    for meal in user_meals:\n",
    "        if meal != \"done\":\n",
    "            print(f\"Meal suggestion: {meal}\")\n",
    "        else:\n",
    "            break\n",
    "    \n",
    "    # Displaying the entered meals\n",
    "    display_meals(user_meals[:-1])  # Exclude 'done' from the list\n"
   ]
  }
 ],
 "metadata": {
  "kernelspec": {
   "display_name": "venv",
   "language": "python",
   "name": "python3"
  },
  "language_info": {
   "codemirror_mode": {
    "name": "ipython",
    "version": 3
   },
   "file_extension": ".py",
   "mimetype": "text/x-python",
   "name": "python",
   "nbconvert_exporter": "python",
   "pygments_lexer": "ipython3",
   "version": "3.12.5"
  }
 },
 "nbformat": 4,
 "nbformat_minor": 2
}
