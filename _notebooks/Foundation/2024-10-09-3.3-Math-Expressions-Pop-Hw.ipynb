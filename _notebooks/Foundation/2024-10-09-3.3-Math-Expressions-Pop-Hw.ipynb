{
 "cells": [
  {
   "cell_type": "raw",
   "metadata": {
    "vscode": {
     "languageId": "raw"
    }
   },
   "source": [
    "---\n",
    "layout: post\n",
    "title: Math Expressions Popcorn Hacks\n",
    "description: Popcorn Hacks for Math Expressions\n",
    "categories: [Python]\n",
    "permalink: /3.3/Math/Expressions/Pop/Hw\n",
    "menu: nav/tools_setup.html\n",
    "toc: true\n",
    "comments: true"
   ]
  },
  {
   "cell_type": "markdown",
   "metadata": {},
   "source": [
    "## Popcorn Hack #1 \n",
    "\n",
    "A function that takes in 2 variables and adds, subtracts, multiplies, dividies, and mods the two numbers\n"
   ]
  },
  {
   "cell_type": "code",
   "execution_count": 6,
   "metadata": {},
   "outputs": [],
   "source": [
    "def operations(a, b):\n",
    "    # Basic arithmetic operations with handling for division by zero\n",
    "    add = a + b\n",
    "    subtract = a - b\n",
    "    multiply = a * b\n",
    "    divide = a / b if b != 0 else 'undefined'\n",
    "    mod = a % b if b != 0 else 'undefined'\n",
    "    \n",
    "    # Display the results\n",
    "    print(f\"Add: {add}\")\n",
    "    print(f\"Subtract: {subtract}\")\n",
    "    print(f\"Multiply: {multiply}\")\n",
    "    print(f\"Divide: {divide}\")\n",
    "    print(f\"Mod: {mod}\")\n",
    "\n"
   ]
  },
  {
   "cell_type": "code",
   "execution_count": 7,
   "metadata": {
    "vscode": {
     "languageId": "javascript"
    }
   },
   "outputs": [
    {
     "data": {
      "application/javascript": "function operations(a, b) {\n    // Basic arithmetic operations with handling for division by zero\n    const add = a + b;\n    const subtract = a - b;\n    const multiply = a * b;\n    const divide = b !== 0 ? a / b : 'undefined';\n    const mod = b !== 0 ? a % b : 'undefined';\n\n    // Display the results\n    console.log(`Add: ${add}`);\n    console.log(`Subtract: ${subtract}`);\n    console.log(`Multiply: ${multiply}`);\n    console.log(`Divide: ${divide}`);\n    console.log(`Mod: ${mod}`);\n}\n\n",
      "text/plain": [
       "<IPython.core.display.Javascript object>"
      ]
     },
     "metadata": {},
     "output_type": "display_data"
    }
   ],
   "source": [
    "%%js\n",
    "function operations(a, b) {\n",
    "    // Basic arithmetic operations with handling for division by zero\n",
    "    const add = a + b;\n",
    "    const subtract = a - b;\n",
    "    const multiply = a * b;\n",
    "    const divide = b !== 0 ? a / b : 'undefined';\n",
    "    const mod = b !== 0 ? a % b : 'undefined';\n",
    "\n",
    "    // Display the results\n",
    "    console.log(`Add: ${add}`);\n",
    "    console.log(`Subtract: ${subtract}`);\n",
    "    console.log(`Multiply: ${multiply}`);\n",
    "    console.log(`Divide: ${divide}`);\n",
    "    console.log(`Mod: ${mod}`);\n",
    "}\n",
    "\n"
   ]
  },
  {
   "cell_type": "markdown",
   "metadata": {},
   "source": [
    "## Popcorn Hack #2\n",
    " Use an algorithm to find certain values of the Fibonacci sequence. For example, your code should output the nth index in the sequence. An example of how the sequence works is 0,1,1,2,3,5,8,13. The pattern is you add the previous 2 numbers together to get the new number.\n"
   ]
  },
  {
   "cell_type": "code",
   "execution_count": 8,
   "metadata": {},
   "outputs": [
    {
     "name": "stdout",
     "output_type": "stream",
     "text": [
      "The 15th Fibonacci number is: 377\n"
     ]
    }
   ],
   "source": [
    "def fibonacc(n):\n",
    "    if n <= 0:\n",
    "        return \"invalid\"\n",
    "    elif n == 1:\n",
    "        return 0\n",
    "    elif n == 2:\n",
    "        return 1\n",
    "    else:\n",
    "        return fibonacc(n - 1) + fibonacc(n - 2)\n",
    "\n",
    "\n",
    "n = 15 \n",
    "print(f\"The {n}th Fibonacci number is: {fibonacc(n)}\")"
   ]
  },
  {
   "cell_type": "code",
   "execution_count": 9,
   "metadata": {
    "vscode": {
     "languageId": "javascript"
    }
   },
   "outputs": [
    {
     "data": {
      "application/javascript": "function fibonacci(n) {\n    // Find the nth Fibonacci number\n    if (n <= 0) return \"Invalid input\";\n    if (n === 1) return 0;\n    if (n === 2) return 1;\n\n    // Use a loop to find the nth Fibonacci number\n    let a = 0, b = 1;\n    for (let i = 2; i < n; i++) {\n        const temp = b;\n        b = a + b;\n        a = temp;\n    }\n    return b;\n}\n\n// Variables\nconst a = 11, b = 0;\nconst n = 10;\n\n// Perform operations\noperations(a, b);\n\n// Print nth Fibonacci number\nconsole.log(`The ${n}th Fibonacci number is: ${fibonacci(n)}`);\n",
      "text/plain": [
       "<IPython.core.display.Javascript object>"
      ]
     },
     "metadata": {},
     "output_type": "display_data"
    }
   ],
   "source": [
    "%%js\n",
    "function fibonacci(n) {\n",
    "    // Find the nth Fibonacci number\n",
    "    if (n <= 0) return \"Invalid input\";\n",
    "    if (n === 1) return 0;\n",
    "    if (n === 2) return 1;\n",
    "\n",
    "    // Use a loop to find the nth Fibonacci number\n",
    "    let a = 0, b = 1;\n",
    "    for (let i = 2; i < n; i++) {\n",
    "        const temp = b;\n",
    "        b = a + b;\n",
    "        a = temp;\n",
    "    }\n",
    "    return b;\n",
    "}\n",
    "\n",
    "// Variables\n",
    "const a = 11, b = 0;\n",
    "const n = 10;\n",
    "\n",
    "// Perform operations\n",
    "operations(a, b);\n",
    "\n",
    "// Print nth Fibonacci number\n",
    "console.log(`The ${n}th Fibonacci number is: ${fibonacci(n)}`);"
   ]
  }
 ],
 "metadata": {
  "kernelspec": {
   "display_name": "Python 3",
   "language": "python",
   "name": "python3"
  },
  "language_info": {
   "codemirror_mode": {
    "name": "ipython",
    "version": 3
   },
   "file_extension": ".py",
   "mimetype": "text/x-python",
   "name": "python",
   "nbconvert_exporter": "python",
   "pygments_lexer": "ipython3",
   "version": "3.12.5"
  }
 },
 "nbformat": 4,
 "nbformat_minor": 2
}
