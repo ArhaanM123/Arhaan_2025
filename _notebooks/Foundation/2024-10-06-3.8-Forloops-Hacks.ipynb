{
 "cells": [
  {
   "cell_type": "raw",
   "metadata": {
    "vscode": {
     "languageId": "raw"
    }
   },
   "source": [
    "---\n",
    "layout: post\n",
    "title: ForLoops all Hacks\n",
    "description: All Hacks for ForLoops\n",
    "categories: [Python]\n",
    "permalink: 3.8/Forloops/Hacks\n",
    "menu: nav/tools_setup.html\n",
    "toc: true\n",
    "comments: true"
   ]
  },
  {
   "cell_type": "markdown",
   "metadata": {},
   "source": [
    "## Popcorn Hack 1 For Loops"
   ]
  },
  {
   "cell_type": "code",
   "execution_count": 25,
   "metadata": {},
   "outputs": [
    {
     "name": "stdout",
     "output_type": "stream",
     "text": [
      "🍎\n",
      "🍌\n",
      "🍒\n"
     ]
    }
   ],
   "source": [
    "fruits = ['🍎', '🍌', '🍒']\n",
    "\n",
    "for fruit in fruits:\n",
    "    print(fruit)"
   ]
  },
  {
   "cell_type": "markdown",
   "metadata": {},
   "source": [
    "## Popcorn Hack 2 While Loops"
   ]
  },
  {
   "cell_type": "code",
   "execution_count": 26,
   "metadata": {
    "vscode": {
     "languageId": "javascript"
    }
   },
   "outputs": [
    {
     "name": "stdout",
     "output_type": "stream",
     "text": [
      "1\n",
      "3\n",
      "5\n",
      "7\n",
      "9\n",
      "11\n",
      "13\n",
      "15\n",
      "17\n",
      "19\n"
     ]
    }
   ],
   "source": [
    "number = 1\n",
    "\n",
    "while number <= 20:\n",
    "    if number % 2 == 1:\n",
    "        print(number)\n",
    "    number += 1"
   ]
  },
  {
   "cell_type": "code",
   "execution_count": 27,
   "metadata": {},
   "outputs": [
    {
     "name": "stdout",
     "output_type": "stream",
     "text": [
      "Flipped: tails\n",
      "Landed on tails!\n"
     ]
    }
   ],
   "source": [
    "import random\n",
    "\n",
    "flip = \"\"\n",
    "\n",
    "while flip != \"tails\":\n",
    "    flip = random.choice([\"tails\"])\n",
    "    print(f\"Flipped: {flip}\")\n",
    "\n",
    "print(\"Landed on tails!\")"
   ]
  },
  {
   "cell_type": "markdown",
   "metadata": {},
   "source": [
    "## Popcorn hack for index loop"
   ]
  },
  {
   "cell_type": "code",
   "execution_count": 28,
   "metadata": {},
   "outputs": [
    {
     "name": "stdout",
     "output_type": "stream",
     "text": [
      "Your To-Do List:\n",
      "1. Brush Teeth\n",
      "2. Shower\n",
      "3. Play sports with friends\n",
      "4. Do homework\n",
      "5. Go to sleep\n"
     ]
    }
   ],
   "source": [
    "tasks = [\n",
    "    \"Brush Teeth\",\n",
    "    \"Shower\",\n",
    "    \"Play sports with friends\",\n",
    "    \"Do homework\",\n",
    "    \"Go to sleep\"\n",
    "]\n",
    "\n",
    "# Function to display tasks with indices\n",
    "def display_tasks():\n",
    "    print(\"Your To-Do List:\")\n",
    "    for index in range(len(tasks)):\n",
    "        print(f\"{index + 1}. {tasks[index]}\")  # Display task with its index\n",
    "\n",
    "# Call the function\n",
    "display_tasks()"
   ]
  },
  {
   "cell_type": "code",
   "execution_count": 29,
   "metadata": {
    "vscode": {
     "languageId": "javascript"
    }
   },
   "outputs": [
    {
     "data": {
      "application/javascript": "// List of tasks\nconst tasks = [\n    \"Brush Teeth\",\n    \"Shower\",\n    \"Play sports with friends\",\n    \"Do homework\",\n    \"Go to sleep\"\n];\n\n// Function to display tasks with indices\nfunction displayTasks() {\n    console.log(\"Your To-Do List:\");\n    for (let index = 0; index < tasks.length; index++) {\n        console.log(`${index + 1}. ${tasks[index]}`); // Display task with its index\n    }\n}\n\n// Call the function\ndisplayTasks();\n",
      "text/plain": [
       "<IPython.core.display.Javascript object>"
      ]
     },
     "metadata": {},
     "output_type": "display_data"
    }
   ],
   "source": [
    "%%javascript\n",
    "// List of tasks\n",
    "const tasks = [\n",
    "    \"Brush Teeth\",\n",
    "    \"Shower\",\n",
    "    \"Play sports with friends\",\n",
    "    \"Do homework\",\n",
    "    \"Go to sleep\"\n",
    "];\n",
    "\n",
    "// Function to display tasks with indices\n",
    "function displayTasks() {\n",
    "    console.log(\"Your To-Do List:\");\n",
    "    for (let index = 0; index < tasks.length; index++) {\n",
    "        console.log(`${index + 1}. ${tasks[index]}`); // Display task with its index\n",
    "    }\n",
    "}\n",
    "\n",
    "// Call the function\n",
    "displayTasks();\n"
   ]
  },
  {
   "cell_type": "code",
   "execution_count": 30,
   "metadata": {
    "vscode": {
     "languageId": "javascript"
    }
   },
   "outputs": [
    {
     "data": {
      "application/javascript": "\nfor (let i = 5; i < 15; i++) {\n  if (i == 10) {\n    continue; \n  }\n  console.log(i); \n}\n",
      "text/plain": [
       "<IPython.core.display.Javascript object>"
      ]
     },
     "metadata": {},
     "output_type": "display_data"
    }
   ],
   "source": [
    "%%javascript\n",
    "\n",
    "for (let i = 5; i < 15; i++) {\n",
    "  if (i == 10) {\n",
    "    continue; \n",
    "  }\n",
    "  console.log(i); \n",
    "}"
   ]
  },
  {
   "cell_type": "code",
   "execution_count": null,
   "metadata": {
    "vscode": {
     "languageId": "javascript"
    }
   },
   "outputs": [],
   "source": []
  },
  {
   "cell_type": "markdown",
   "metadata": {
    "vscode": {
     "languageId": "javascript"
    }
   },
   "source": [
    "## Popcorn Hack for 3.8.4 Continue and Break"
   ]
  },
  {
   "cell_type": "code",
   "execution_count": 1,
   "metadata": {
    "vscode": {
     "languageId": "javascript"
    }
   },
   "outputs": [
    {
     "data": {
      "application/javascript": "// Grading System in JavaScript\n\nfunction gradeHomework(score) {\n    if (score >= 90 && score <= 100) {\n        return \"A - Exceptional (90-100%): Surpasses all expectations with notable creativity or extensive effort.\";\n    } else if (score >= 80 && score < 90) {\n        return \"B - Very Good (80-89%): Meets all requirements with only a few minor inaccuracies.\";\n    } else if (score >= 70 && score < 80) {\n        return \"C - Acceptable (70-79%): Contains some missing elements; demonstrates a basic grasp of concepts.\";\n    } else if (score >= 60 && score < 70) {\n        return \"D - Needs Attention (60-69%): Lacks several key components; significant errors present.\";\n    } else {\n        return \"F - Unsatisfactory (0-59%): Shows minimal effort or misunderstanding of the material.\";\n    }\n}\n\nfunction calculateGrade(popcornHacks, homeworkAssignments, submissionQuality) {\n    const totalScore = (popcornHacks * 0.4) + (homeworkAssignments * 0.5) + (submissionQuality * 0.1);\n    return totalScore;\n}\n\n// Example Usage\nconst popcornHacksScore = 80; // Score out of 100 for popcorn hacks\nconst homeworkScore = 85;      // Score out of 100 for homework assignments\nconst submissionQualityScore = 90; // Score out of 100 for submission quality\n\nconst finalScore = calculateGrade(popcornHacksScore, homeworkScore, submissionQualityScore);\nconsole.log(`Final Score: ${finalScore.toFixed(2)}`);\nconsole.log(gradeHomework(finalScore));\n\n",
      "text/plain": [
       "<IPython.core.display.Javascript object>"
      ]
     },
     "metadata": {},
     "output_type": "display_data"
    }
   ],
   "source": [
    "%%js\n",
    "// Grading System in JavaScript\n",
    "\n",
    "function gradeHomework(score) {\n",
    "    if (score >= 90 && score <= 100) {\n",
    "        return \"A - Exceptional (90-100%): Surpasses all expectations with notable creativity or extensive effort.\";\n",
    "    } else if (score >= 80 && score < 90) {\n",
    "        return \"B - Very Good (80-89%): Meets all requirements with only a few minor inaccuracies.\";\n",
    "    } else if (score >= 70 && score < 80) {\n",
    "        return \"C - Acceptable (70-79%): Contains some missing elements; demonstrates a basic grasp of concepts.\";\n",
    "    } else if (score >= 60 && score < 70) {\n",
    "        return \"D - Needs Attention (60-69%): Lacks several key components; significant errors present.\";\n",
    "    } else {\n",
    "        return \"F - Unsatisfactory (0-59%): Shows minimal effort or misunderstanding of the material.\";\n",
    "    }\n",
    "}\n",
    "\n",
    "function calculateGrade(popcornHacks, homeworkAssignments, submissionQuality) {\n",
    "    const totalScore = (popcornHacks * 0.4) + (homeworkAssignments * 0.5) + (submissionQuality * 0.1);\n",
    "    return totalScore;\n",
    "}\n",
    "\n",
    "// Example Usage\n",
    "const popcornHacksScore = 80; // Score out of 100 for popcorn hacks\n",
    "const homeworkScore = 85;      // Score out of 100 for homework assignments\n",
    "const submissionQualityScore = 90; // Score out of 100 for submission quality\n",
    "\n",
    "const finalScore = calculateGrade(popcornHacksScore, homeworkScore, submissionQualityScore);\n",
    "console.log(`Final Score: ${finalScore.toFixed(2)}`);\n",
    "console.log(gradeHomework(finalScore));\n",
    "\n"
   ]
  },
  {
   "cell_type": "markdown",
   "metadata": {},
   "source": [
    "## Homework Hack 1\n",
    "\n",
    "Try to add in two of the loops into your code, one in python and one in javascript.\n",
    "\n",
    "This will help build your understanding on loops in both javascript and python\n",
    "\n",
    "Additionally, try looping through a dictionary in order to be more creative with your code and personalize it"
   ]
  },
  {
   "cell_type": "code",
   "execution_count": null,
   "metadata": {},
   "outputs": [],
   "source": [
    "data_list = [\"glowing unicorn\", \"singing cactus\", 1234567, \"spinning pizza\", \"mystical owl\", 2.71828, \"robot llama\", \"giant marshmallow\"]\n",
    "\n",
    "print(\"List:\", data_list)\n",
    "\n",
    "try:\n",
    "    index = int(input(\"Enter the index to remove: \"))\n",
    "    if 0 <= index < len(data_list):\n",
    "        print(\"Removed:\", data_list.pop(index))\n",
    "    else:\n",
    "        print(\"Invalid index.\")\n",
    "except ValueError:\n",
    "    print(\"Please enter a valid number.\")\n",
    "\n",
    "print(\"Updated list:\", data_list)\n"
   ]
  },
  {
   "cell_type": "code",
   "execution_count": null,
   "metadata": {
    "vscode": {
     "languageId": "javascript"
    }
   },
   "outputs": [],
   "source": [
    "%%js\n",
    "\n",
    "let data_list = [\"glowing unicorn\", \"singing cactus\", 1234567, \"spinning pizza\", \"mystical owl\", 2.71828, \"robot llama\", \"giant marshmallow\"];\n",
    "let person = { name: 'Arshia', age: 16, favorite_animal: 'penguin' };\n",
    "\n",
    "// Loop through and print each item in data_list\n",
    "console.log(\"Items in data_list:\");\n",
    "for (let item of data_list) {\n",
    "    console.log(item);\n",
    "}\n",
    "\n",
    "// Loop through person dictionary (keys and values)\n",
    "console.log(\"\\nPerson details:\");\n",
    "for (let key in person) {\n",
    "    console.log(`${key}: ${person[key]}`);\n",
    "}\n"
   ]
  },
  {
   "cell_type": "markdown",
   "metadata": {},
   "source": [
    "# Homework Hack #2\n",
    "\n",
    "### Objective\n",
    "In this task, you will create a modified version of the classic FizzBuzz game using a while loop. The program should print numbers from 1 to 50 with the following conditions:\n",
    "\n",
    "- For multiples of 3, print “Fizz” instead of the number.\n",
    "- For multiples of 5, print “Buzz” instead of the number.\n",
    "- For numbers divisible by both 3 and 5, print “FizzBuzz”.\n",
    "- For multiples of 7, print “Boom”.\n",
    "\n",
    "### Challenge\n",
    "Modify the range to numbers between 50 and 100 and change the conditions accordingly (e.g., for multiples of 4 instead of 3).\n",
    "\n",
    "### Implementation\n",
    "\n",
    "```python\n",
    "# FizzBuzz with a Twist Implementation\n",
    "number = 1\n",
    "\n",
    "while number <= 50:\n",
    "    output = \"\"\n",
    "    \n",
    "    if number % 3 == 0:\n",
    "        output += \"Fizz\"\n",
    "    if number % 5 == 0:\n",
    "        output += \"Buzz\"\n",
    "    if number % 7 == 0:\n",
    "        output += \"Boom\"\n",
    "    \n",
    "    # If output is still empty, it's just the number\n",
    "    if output == \"\":\n",
    "        output = str(number)\n",
    "    \n",
    "    print(output)\n",
    "    \n",
    "    number += 1\n"
   ]
  },
  {
   "cell_type": "code",
   "execution_count": null,
   "metadata": {},
   "outputs": [],
   "source": [
    "# Challenge: Modified FizzBuzz for numbers 50 to 100\n",
    "number = 50\n",
    "\n",
    "while number <= 100:\n",
    "    output = \"\"\n",
    "    \n",
    "    if number % 4 == 0:\n",
    "        output += \"Fizz\"\n",
    "    if number % 5 == 0:\n",
    "        output += \"Buzz\"\n",
    "    if number % 7 == 0:\n",
    "        output += \"Boom\"\n",
    "    \n",
    "    if output == \"\":\n",
    "        output = str(number)\n",
    "    \n",
    "    print(output)\n",
    "    \n",
    "    number += 1\n"
   ]
  },
  {
   "cell_type": "code",
   "execution_count": null,
   "metadata": {},
   "outputs": [],
   "source": [
    "# User Authentication System Implementation\n",
    "correct_username = \"admin\"\n",
    "correct_password = \"password123\"\n",
    "\n",
    "attempts_left = 3\n",
    "authenticated = False\n",
    "\n",
    "while attempts_left > 0:\n",
    "    username = input(\"Enter your username: \")\n",
    "    password = input(\"Enter your password: \")\n",
    "\n",
    "    if username == correct_username and password == correct_password:\n",
    "        authenticated = True\n",
    "        print(\"Login successful!\")\n",
    "        break\n",
    "    else:\n",
    "        attempts_left -= 1\n",
    "        print(f\"Incorrect credentials. Attempts left: {attempts_left}\")\n",
    "\n",
    "if not authenticated:\n",
    "    print(\"Account locked due to too many failed attempts.\")\n"
   ]
  },
  {
   "cell_type": "code",
   "execution_count": null,
   "metadata": {},
   "outputs": [],
   "source": [
    "# Enhanced User Authentication System with Password Reset\n",
    "correct_username = \"admin\"\n",
    "correct_password = \"password123\"\n",
    "\n",
    "attempts_left = 3\n",
    "authenticated = False\n",
    "\n",
    "while attempts_left > 0:\n",
    "    username = input(\"Enter your username: \")\n",
    "    password = input(\"Enter your password: \")\n",
    "\n",
    "    if username == correct_username and password == correct_password:\n",
    "        authenticated = True\n",
    "        print(\"Login successful!\")\n",
    "        break\n",
    "    else:\n",
    "        attempts_left -= 1\n",
    "        print(f\"Incorrect credentials. Attempts left: {attempts_left}\")\n",
    "\n",
    "if not authenticated:\n",
    "    print(\"Account locked due to too many failed attempts.\")\n",
    "    reset = input(\"Would you like to reset your password? (yes/no): \").lower()\n",
    "    if reset == \"yes\":\n",
    "        security_answer = input(\"What is your favorite color? \")\n",
    "        if security_answer == \"blue\":  # Example security question\n",
    "            new_password = input(\"Enter a new password: \")\n",
    "            print(\"Your password has been reset successfully.\")\n",
    "        else:\n",
    "            print(\"Incorrect answer. Password reset failed.\")\n"
   ]
  },
  {
   "cell_type": "markdown",
   "metadata": {},
   "source": [
    "# Homework Hack #3\n",
    "\n",
    "## Objective\n",
    "In this assignment, we will create a simple task management program. The program will allow us to define a list of tasks, display them with their indices, and understand how to use functions and lists in Python.\n",
    "\n",
    "---\n",
    "\n",
    "## Step 1: Define Your Tasks\n",
    "We will start by creating a list of tasks that we want to manage.\n",
    "\n",
    "### Task List\n",
    "```python\n",
    "# Define a list of tasks\n",
    "tasks = [\n",
    "    \"Complete the math homework\",\n",
    "    \"Read chapter 5 of the science book\",\n",
    "    \"Practice Python coding\",\n",
    "    \"Prepare for the history presentation\",\n",
    "    \"Go grocery shopping\"\n",
    "]\n"
   ]
  },
  {
   "cell_type": "code",
   "execution_count": null,
   "metadata": {},
   "outputs": [],
   "source": [
    "def display_tasks(task_list):\n",
    "    print(\"Tasks:\")\n",
    "    for index, task in enumerate(task_list):\n",
    "        print(f\"{index + 1}: {task}\")\n"
   ]
  },
  {
   "cell_type": "code",
   "execution_count": null,
   "metadata": {},
   "outputs": [],
   "source": [
    "# Call the function to display tasks\n",
    "display_tasks(tasks)\n"
   ]
  },
  {
   "cell_type": "markdown",
   "metadata": {},
   "source": [
    "# Homework Hack #4\n",
    "\n",
    "In this notebook, we will demonstrate two types of loops: a break loop in JavaScript and a continue loop in Python.\n",
    "\n",
    "---\n",
    "\n",
    "### Objective\n",
    "Create a break loop in JavaScript that increments numbers by 2 and stops when a certain condition is met.\n",
    "\n",
    "### Implementation\n",
    "```javascript\n",
    "// JavaScript: Break Loop\n",
    "for (let i = 0; i <= 20; i += 2) {\n",
    "    console.log(i);\n",
    "    if (i === 10) { // Change this condition as needed to break at a specific number\n",
    "        break; // Break the loop when i equals 10\n",
    "    }\n",
    "}\n"
   ]
  },
  {
   "cell_type": "code",
   "execution_count": null,
   "metadata": {
    "vscode": {
     "languageId": "javascript"
    }
   },
   "outputs": [],
   "source": [
    "// JavaScript: Break Loop\n",
    "for (let i = 0; i <= 20; i += 2) {\n",
    "    console.log(i);\n",
    "    if (i === 10) { // Change this condition as needed to break at a specific number\n",
    "        break; // Break the loop when i equals 10\n",
    "    }\n",
    "}\n"
   ]
  },
  {
   "cell_type": "code",
   "execution_count": null,
   "metadata": {},
   "outputs": [],
   "source": [
    "# Python: Continue Loop\n",
    "for i in range(11):\n",
    "    if i == 5:\n",
    "        continue  # Skip the number 5\n",
    "    print(f\"This number is {i}\")\n"
   ]
  }
 ],
 "metadata": {
  "kernelspec": {
   "display_name": "Python 3",
   "language": "python",
   "name": "python3"
  },
  "language_info": {
   "codemirror_mode": {
    "name": "ipython",
    "version": 3
   },
   "file_extension": ".py",
   "mimetype": "text/x-python",
   "name": "python",
   "nbconvert_exporter": "python",
   "pygments_lexer": "ipython3",
   "version": "3.12.5"
  }
 },
 "nbformat": 4,
 "nbformat_minor": 2
}
