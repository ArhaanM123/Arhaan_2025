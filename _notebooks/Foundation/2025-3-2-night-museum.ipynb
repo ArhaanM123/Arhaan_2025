{
 "cells": [
  {
   "cell_type": "raw",
   "metadata": {},
   "source": [
    "---\n",
    "layout: post\n",
    "title: N@TM Blog and experience\n",
    "description: Complete experience of N@TM\n",
    "permalink: /night/museum\n",
    "menu: nav/tools_setup.html\n",
    "toc: true\n",
    "comments: true \n",
    "---"
   ]
  },
  {
   "cell_type": "markdown",
   "metadata": {},
   "source": [
    "# Night at the Museum - Exploring Innovative Crypto Trading Platform - CSA\n",
    "\n",
    "\n",
    "At Night at the Museum, I got to check out this really cool crypto project. The team built a website where you can practice buying and selling different cryptocurrencies without using real money. What I thought was super interesting was their crypto mining feature - they showed different graphics cards you could use for mining and had graphs that showed how much money you could make or lose. The best part was how they made everything easy to understand. Their homepage shows the top crypto prices with graphs that move in real-time, and you can pick how much you want to invest in any crypto you're interested in. They also included tools that help you figure out if mining crypto would be worth it, considering stuff like electricity costs and which graphics cards work best. They could work on simplifying the website a bit for users to navigate a little easier\n",
    "\n",
    "<img src=\"../images/crypto.jpeg\" alt=\"Crypto Blog\" width=\"300\">"
   ]
  },
  {
   "cell_type": "markdown",
   "metadata": {},
   "source": [
    "# Night at the Museum - Exploring the Platformer 4X Game - CSSE \n",
    "\n",
    "At Night at the Museum, I had the chance to play Platformer 4X, a creative and challenging game where players navigate through levels by jumping, dodging obstacles, and collecting points. The game stood out for its smooth and responsive controls, making it easy to pick up but still offering a challenge. The level designs were unique, increasing in difficulty and keeping the gameplay fresh. One of the best features was the leaderboard system, which lets players compete for high scores, adding a fun and competitive element. The animations and visual effects were simple but effective, making the game feel polished. However, a few areas could be improved, such as enhancing the background and UI, adjusting the jump physics for smoother movement, and possibly adding more enemy types or power-ups to keep things exciting.\n",
    "\n",
    "<img src=\"../images/platformer.png\" alt=\"Platformer\" width=\"300\">"
   ]
  },
  {
   "cell_type": "markdown",
   "metadata": {
    "vscode": {
     "languageId": "raw"
    }
   },
   "source": [
    "# Exploring Neptune: A Club Hub for Students - CSP\n",
    "\n",
    "At Night at the Museum, I explored Neptune, a website that helps students find and join clubs easily. The site has a clean design and smooth navigation, making it simple to browse clubs, read descriptions, and find contact info. A great feature is the  leadership application system, which allows students to apply for positions directly. One improvement could be adding a more engaging theme to make the site visually appealing. The club pages could also be more interactive, with features like event updates or messaging. A personalized recommendation system based on student interests would also be a useful addition. Overall, Neptune is a great tool for organizing student involvement. With a few design updates and extra features, it could be even better! \n",
    "\n",
    "<img src=\"../images/neptune.jpeg\" alt=\"Neptune\" width=\"300\">"
   ]
  }
 ],
 "metadata": {
  "language_info": {
   "name": "python"
  }
 },
 "nbformat": 4,
 "nbformat_minor": 2
}
