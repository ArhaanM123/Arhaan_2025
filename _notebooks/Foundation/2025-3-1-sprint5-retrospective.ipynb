{
 "cells": [
  {
   "cell_type": "raw",
   "metadata": {
    "vscode": {
     "languageId": "raw"
    }
   },
   "source": [
    "---\n",
    "layout: post\n",
    "title: Sprint 5 Retrospective\n",
    "description: My progress and self grading for the total of the 2nd trimester \n",
    "permalink: /sprint5/retrospective\n",
    "menu: nav/tools_setup.html\n",
    "toc: true\n",
    "comments: true \n",
    "---"
   ]
  },
  {
   "cell_type": "markdown",
   "metadata": {},
   "source": [
    "| Category                                    | Max Points | Self Grade | Explanation |\n",
    "|---------------------------------------------|------------|------------|-------------|\n",
    "| 5 Things Done Over 12 Weeks            | 5          | 4.7        | I completed all tasks, including issues, API's, burndown lists, presentations, and blogs but could improve on burndown to organize in a better way. I could be a little more descriptive on my presentation and not extend for too long.  |\n",
    "| Full Stack Project Demo & Feedback     | 2          | 1.8        | The demo covered all CPT requirements as well as including the activity at N@TM. One thing I could do is work on presenting my feature with the background work behind it. |\n",
    "| Project Feature Blog (CPT/FRQ Language) | 1          | 0.88        |My blog has moslty all the CPT language, I could have fulfilled all of it as well as added some knowledge from the FRQ |\n",
    "| MCQ Performance                         | 1          | 0.9        | I performed well on MCQ with a score of 61/67, but there is always going to be room for slight improvement in speed and accuracy as well as knowing my topics. |\n",
    "| Retrospective & Reflection              | 1          | 0.88       |I particulary showed my reflection, mistakes, and improvements in Sprint 5, but could have shown signs of my future plans.  |\n",
    "| Overall Score                           | 10         | 9.16    |I covered all the requiere aspects of the project and collabarated with others for this project and helped out other people at any time necassary. |"
   ]
  },
  {
   "cell_type": "markdown",
   "metadata": {},
   "source": [
    "## Strengths\n",
    "- Collabarating as a group and not facing many problems in code when committing\n",
    "\n",
    "- Completed each part of project and organizing well \n",
    "\n",
    "- Staying prepared in class expecting the unexpected\n",
    "\n",
    "## Weaknesses We Faced\n",
    "- Too much planning and not much execuing \n",
    "\n",
    "- We worked minute as a group and did not do much as needed, lots of stress\n",
    "\n",
    "## The Project(Intertravel):\n",
    "-  Our first big project was a major success\n",
    "\n",
    "- Features that can help the real world and simple to understand\n",
    "\n",
    "- Every feature has their CRUD operations\n",
    "\n",
    "- Features to communicate with other people in no reach\n",
    "\n",
    "- Deployed\n",
    "\n",
    "## The Future\n",
    "- Be productive to my team as I am right now and develop the backend UI with further knowledge\n",
    "\n",
    "- Expand my personal section **Wellness Waypoints** to be able to use for people sturggling with health\n",
    "\n",
    "- Take AI to my personal life and utilize it in the real world in jobs as well as future classes\n",
    "\n",
    "- Overall extending my knowledge for API's and becoming a star at making them by being around them"
   ]
  },
  {
   "cell_type": "markdown",
   "metadata": {},
   "source": [
    "Links to all the blogs filling the retrospective\n",
    "\n",
    "[Blog Page](https://arhaanm123.github.io/Arhaan_2025/blogs/) "
   ]
  }
 ],
 "metadata": {
  "language_info": {
   "name": "python"
  }
 },
 "nbformat": 4,
 "nbformat_minor": 2
}
