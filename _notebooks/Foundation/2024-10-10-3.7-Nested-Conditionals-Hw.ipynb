{
 "cells": [
  {
   "cell_type": "raw",
   "metadata": {
    "vscode": {
     "languageId": "raw"
    }
   },
   "source": [
    "---\n",
    "layout: post\n",
    "title: Nested Conditinals Homework Hacks\n",
    "description: Homework Hacks for Nested Conditionals\n",
    "categories: [Python]\n",
    "permalink: /3.7/Nested/Conditionals/Hw\n",
    "menu: nav/tools_setup.html\n",
    "toc: true\n",
    "comments: true"
   ]
  },
  {
   "cell_type": "markdown",
   "metadata": {},
   "source": [
    "## Homework Hack #1"
   ]
  },
  {
   "cell_type": "code",
   "execution_count": null,
   "metadata": {},
   "outputs": [],
   "source": [
    "def get_user_input(prompt):\n",
    "    return input(prompt)\n",
    "\n",
    "# Step 1: Get Age\n",
    "age = int(get_user_input(\"Enter your age (e.g., 6, 10, etc.): \"))\n",
    "\n",
    "# Step 2: Check Equipment Ownership\n",
    "has_equipment = get_user_input(\"Do you have a water bottle? (yes/no): \").lower()\n",
    "\n",
    "# Step 3: Check Eligibility\n",
    "if age >= 6 and has_equipment == \"yes\":\n",
    "    # Step 4: Determine Group\n",
    "    if age < 9:\n",
    "        group = \"beginner group\"\n",
    "    else:\n",
    "        group = \"advanced group\"\n",
    "    \n",
    "    # Step 5: Display Result\n",
    "    print(f\"You can join the activity in the '{group}'.\")\n",
    "else:\n",
    "    print(\"Sorry, you are not eligible to join. Make sure you are at least 6 years old and have a water bottle.\")\n"
   ]
  }
 ],
 "metadata": {
  "language_info": {
   "name": "python"
  }
 },
 "nbformat": 4,
 "nbformat_minor": 2
}
