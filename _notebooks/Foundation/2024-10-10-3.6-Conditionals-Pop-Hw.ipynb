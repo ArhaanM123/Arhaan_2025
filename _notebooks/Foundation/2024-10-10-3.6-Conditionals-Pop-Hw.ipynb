{
 "cells": [
  {
   "cell_type": "raw",
   "metadata": {
    "vscode": {
     "languageId": "raw"
    }
   },
   "source": [
    "---\n",
    "layout: post\n",
    "title: Conditinals Popcorn Hacks\n",
    "description: Popcorn Hacks for Conditionals\n",
    "categories: [Python]\n",
    "permalink: /3.6/Conditionals/Pop/Hw\n",
    "menu: nav/tools_setup.html\n",
    "toc: true\n",
    "comments: true"
   ]
  },
  {
   "cell_type": "markdown",
   "metadata": {},
   "source": [
    "## Popcorn Hack #1\n",
    "Write a general conditional based on a topic of you choice\n",
    "Use an if and an else statement"
   ]
  },
  {
   "cell_type": "code",
   "execution_count": 1,
   "metadata": {},
   "outputs": [
    {
     "name": "stdout",
     "output_type": "stream",
     "text": [
      "It's warm outside, enjoy the weather!\n"
     ]
    }
   ],
   "source": [
    "# Define a temperature in degrees\n",
    "temperature = 25\n",
    "\n",
    "# Check the temperature category\n",
    "if temperature > 30:\n",
    "    print(\"It's hot outside, stay cool!\")\n",
    "elif temperature >= 15:\n",
    "    print(\"It's warm outside, enjoy the weather!\")\n",
    "else:\n",
    "    print(\"It's cold outside, dress warmly!\")\n"
   ]
  },
  {
   "cell_type": "code",
   "execution_count": 2,
   "metadata": {
    "vscode": {
     "languageId": "javascript"
    }
   },
   "outputs": [
    {
     "data": {
      "application/javascript": "// Define a temperature in degrees\nconst temperature = 25;\n\n// Check the temperature category\nif (temperature > 30) {\n    console.log(\"It's hot outside, stay cool!\");\n} else if (temperature >= 15) {\n    console.log(\"It's warm outside, enjoy the weather!\");\n} else {\n    console.log(\"It's cold outside, dress warmly!\");\n}\n",
      "text/plain": [
       "<IPython.core.display.Javascript object>"
      ]
     },
     "metadata": {},
     "output_type": "display_data"
    }
   ],
   "source": [
    "%%js\n",
    "// Define a temperature in degrees\n",
    "const temperature = 25;\n",
    "\n",
    "// Check the temperature category\n",
    "if (temperature > 30) {\n",
    "    console.log(\"It's hot outside, stay cool!\");\n",
    "} else if (temperature >= 15) {\n",
    "    console.log(\"It's warm outside, enjoy the weather!\");\n",
    "} else {\n",
    "    console.log(\"It's cold outside, dress warmly!\");\n",
    "}\n"
   ]
  },
  {
   "cell_type": "markdown",
   "metadata": {},
   "source": [
    "## Popcorn hack #2\n",
    "Use a boolean value to check in a conditional\n",
    "Set an original value for the boolean variable as an input\n",
    "Create a conditional using said boolean variable checking if its true or false.\n",
    "Complete in Javascript and Python\n"
   ]
  },
  {
   "cell_type": "code",
   "execution_count": 3,
   "metadata": {},
   "outputs": [
    {
     "name": "stdout",
     "output_type": "stream",
     "text": [
      "You are eligible for a student discount!\n"
     ]
    }
   ],
   "source": [
    "# Ask the user if they are a student to determine discount eligibility\n",
    "is_student = input(\"Are you a student? (yes/no): \").strip().lower() == \"yes\"\n",
    "\n",
    "# Check the boolean variable\n",
    "if is_student:\n",
    "    print(\"You are eligible for a student discount!\")\n",
    "else:\n",
    "    print(\"You are not eligible for a student discount.\")\n"
   ]
  },
  {
   "cell_type": "code",
   "execution_count": 4,
   "metadata": {
    "vscode": {
     "languageId": "javascript"
    }
   },
   "outputs": [
    {
     "data": {
      "application/javascript": "// Ask the user if they are a student to determine discount eligibility\nconst isStudent = prompt(\"Are you a student? (yes/no): \").trim().toLowerCase() === \"yes\";\n\n// Check the boolean variable\nif (isStudent) {\n    console.log(\"You are eligible for a student discount!\");\n} else {\n    console.log(\"You are not eligible for a student discount.\");\n}\n\n",
      "text/plain": [
       "<IPython.core.display.Javascript object>"
      ]
     },
     "metadata": {},
     "output_type": "display_data"
    }
   ],
   "source": [
    "%%js\n",
    "// Ask the user if they are a student to determine discount eligibility\n",
    "const isStudent = prompt(\"Are you a student? (yes/no): \").trim().toLowerCase() === \"yes\";\n",
    "\n",
    "// Check the boolean variable\n",
    "if (isStudent) {\n",
    "    console.log(\"You are eligible for a student discount!\");\n",
    "} else {\n",
    "    console.log(\"You are not eligible for a student discount.\");\n",
    "}\n",
    "\n"
   ]
  },
  {
   "cell_type": "markdown",
   "metadata": {},
   "source": [
    "## Popcorn Hack #3"
   ]
  },
  {
   "cell_type": "code",
   "execution_count": null,
   "metadata": {},
   "outputs": [],
   "source": [
    "import datetime\n",
    "\n",
    "# Get the current day of the week\n",
    "current_day = datetime.datetime.today().weekday()\n",
    "\n",
    "# Check if it's the weekend (Saturday or Sunday)\n",
    "if current_day >= 5:\n",
    "    print(\"It's the weekend! Time to relax.\")\n",
    "else:\n",
    "    print(\"It's a weekday. Keep up the hard work!\")\n"
   ]
  },
  {
   "cell_type": "code",
   "execution_count": null,
   "metadata": {
    "vscode": {
     "languageId": "javascript"
    }
   },
   "outputs": [],
   "source": [
    "%%js\n",
    "// Get the current day of the week\n",
    "const today = new Date();\n",
    "const currentDay = today.getDay(); // 0 for Sunday, 6 for Saturday\n",
    "\n",
    "// Check if it's the weekend (Saturday or Sunday)\n",
    "if (currentDay === 0 || currentDay === 6) {\n",
    "    console.log(\"It's the weekend! Time to relax.\");\n",
    "} else {\n",
    "    console.log(\"It's a weekday. Keep up the hard work!\");\n",
    "}\n",
    "\n"
   ]
  }
 ],
 "metadata": {
  "kernelspec": {
   "display_name": "Python 3",
   "language": "python",
   "name": "python3"
  },
  "language_info": {
   "codemirror_mode": {
    "name": "ipython",
    "version": 3
   },
   "file_extension": ".py",
   "mimetype": "text/x-python",
   "name": "python",
   "nbconvert_exporter": "python",
   "pygments_lexer": "ipython3",
   "version": "3.12.5"
  }
 },
 "nbformat": 4,
 "nbformat_minor": 2
}
