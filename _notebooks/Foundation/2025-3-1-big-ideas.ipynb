{
 "cells": [
  {
   "cell_type": "raw",
   "metadata": {
    "vscode": {
     "languageId": "raw"
    }
   },
   "source": [
    "---\n",
    "layout: post\n",
    "title: Big Ideas for all\n",
    "description: Big Ideas for 1,2 and 4 \n",
    "permalink: /big/ideas\n",
    "menu: nav/tools_setup.html\n",
    "toc: true\n",
    "comments: true \n",
    "---\n"
   ]
  },
  {
   "cell_type": "markdown",
   "metadata": {},
   "source": [
    "# Big Idea #1\n",
    "When creating computing innovations, developers can follow a structured, step-by-step design process or take a more flexible, experimental approach. Regardless of the method, they will go through key phases such as researching, designing, building prototypes, and testing their solutions. Collaboration is crucial throughout development, as different perspectives contribute to refining and improving innovations for better functionality and usability.\n",
    "\n",
    "\n",
    "- Debugging was a critical part of building Wellness Waypoints. To ensure the feature worked correctly, I performed backend debugging, frontend debugging, and end-to-end tracing.\n",
    "\n",
    "## Backend Debugging\n",
    "Before integrating with the frontend, I tested my API endpoints using Postman. This allowed me to check if my GET, POST, PUT, and DELETE requests were working correctly.\n",
    "\n",
    "- Example: API GET Request\n",
    "Here, I sent a GET request to fetch waypoints from the backend.\n",
    "\n",
    "- The response returns a list of waypoints with information such as address, injury type, and rating.\n",
    "\n",
    "\n",
    "<img src=\"../images/get.png\" alt=\"Get Postman\" width=\"500\">\n"
   ]
  },
  {
   "cell_type": "markdown",
   "metadata": {},
   "source": [
    "## Frontend Debugging\n",
    "- Once the backend was functional, I tested the API through the frontend. Initially, I encountered authentication errors when making requests.\n",
    "\n",
    "### Issue: Unauthorized API Access (401 Error)\n",
    "- The server responded with 401 (Unauthorized) errors because authentication tokens were missing.\n",
    "- The solution was to add authentication headers to every API request.\n",
    "Error Log from Console:\n",
    "\n",
    "<img src=\"../images/login.png\" alt=\"Login\" width=\"500\">"
   ]
  },
  {
   "cell_type": "markdown",
   "metadata": {},
   "source": [
    "# Frontend to Backend Integration\n",
    "- To ensure smooth data flow between the frontend and backend, I tested different API calls.\n",
    "\n",
    "### Example: User Check-in Flow\n",
    "- User enters an injury type and selects a medical facility.\n",
    "- The frontend sends a POST request to check-in.\n",
    "- The check-in appears in the database.\n",
    "- Data is displayed on the frontend.\n",
    "\n",
    "<img src=\"../images/data.png\" alt=\"Data\" width=\"500\">\n",
    "\n",
    "<img src=\"../images/website.png\" alt=\"Website\" width=\"500\">"
   ]
  },
  {
   "cell_type": "markdown",
   "metadata": {},
   "source": [
    "To validate the system, I have preloaded data in the database already \n",
    "```py\n",
    "def initWaypoints():\n",
    "    with app.app_context():\n",
    "        db.create_all()\n",
    "        test_data = [\n",
    "            Waypoint(user_id=1, injury='Fracture', location='Hospital', rating=2, address=\"Naval Medical Center, San Diego\"),\n",
    "            Waypoint(user_id=2, injury='Sprain', location='Clinic', rating=4, address=\"Scripps Mercy Hospital, San Diego\"),\n",
    "        ]\n",
    "        \n",
    "        for entry in test_data:\n",
    "            try:\n",
    "                entry.create()\n",
    "                print(f\"Record created: {repr(entry)}\")\n",
    "            except IntegrityError:\n",
    "                db.session.remove()\n",
    "                print(f\"Record exists or error: {entry.address}\")\n",
    "```\n",
    "\n",
    "<img src=\"../images/table.png\" alt=\"Checked In Tables\" width=\"500\">\n"
   ]
  },
  {
   "cell_type": "markdown",
   "metadata": {},
   "source": [
    "# Big Idea 2 - Managing and Storing Data\n",
    "To ensure efficient data storage, I used SQLite and enforced data security measures.\n",
    "\n",
    "### Database Management with SQLite\n",
    "- Each check-in is stored in the database with:\n",
    "\n",
    "- ID\n",
    "- Injury type\n",
    "- Location\n",
    "- Rating\n",
    "- User ID\n",
    "- Whenever a POST, PUT, or DELETE request is made, the database is updated. \n",
    "\n",
    "<img src=\"../images/database.png\" alt=\"Database\" width=\"700\">\n"
   ]
  },
  {
   "cell_type": "markdown",
   "metadata": {},
   "source": [
    "# Security & Authentication\n",
    "### User Role Permissions\n",
    "- Normal users can only update or delete their own check-ins.\n",
    "- Admins have the ability to delete any check-in if necessary.\n",
    "\n",
    "```py\n",
    "def delete(self):\n",
    "    current_user = g.current_user\n",
    "    data = request.get_json()\n",
    "\n",
    "    if current_user.role == 'Admin':\n",
    "        waypoint = Waypoint.query.get(data['id'])\n",
    "        if not waypoint:\n",
    "            return {'message': 'Waypoint not found'}, 404\n",
    "        try:\n",
    "            waypoint.delete()\n",
    "            return {'message': 'Waypoint deleted successfully'}, 200\n",
    "        except Exception as e:\n",
    "            return {'message': f'Error deleting waypoint: {e}'}, 500\n",
    "    else:\n",
    "        return {'message': 'Only Admins can delete waypoints'}, 403\n",
    "```"
   ]
  },
  {
   "cell_type": "markdown",
   "metadata": {
    "vscode": {
     "languageId": "raw"
    }
   },
   "source": [
    "# Big Idea 4 - Deployment & Security\n",
    "\n",
    "## Wellness Waypoints was deployed using AWS to make it accessible online.\n",
    "\n",
    "### Deployment Strategies\n",
    "- Our team deployed the backend on AWS.\n",
    "- The frontend runs on GitHub Pages.\n",
    "- API requests go through a secure domain.\n",
    "### DNS Configuration\n",
    "- The backend is mapped to an IP address.\n",
    "- Users enter the domain name → DNS resolves it to the server IP.\n",
    "\n",
    "\n",
    "<img src=\"../images/cockpit.png\" alt=\"Cockpit\" width=\"700\">"
   ]
  },
  {
   "cell_type": "markdown",
   "metadata": {},
   "source": [
    "## HTTP and RESTful APIs\n",
    "### Wellness Waypoints follows REST API principles:\n",
    "\n",
    "- GET → Retrieve waypoints\n",
    "- POST → Check-in at a facility\n",
    "- PUT → Update rating\n",
    "- DELETE → Remove check-in (Admin only)\n",
    "- Example: POST Request in Backend\n",
    "\n",
    "```py\n",
    "@token_required()\n",
    "@cross_origin(supports_credentials=True)\n",
    "def post(self):\n",
    "    current_user = g.current_user\n",
    "    data = request.get_json()\n",
    "\n",
    "    if not data or 'injury' not in data or 'location' not in data:\n",
    "        return {'message': 'Injury and location are required'}, 400\n",
    "\n",
    "    waypoint = Waypoint(\n",
    "        user_id=current_user.id,\n",
    "        injury=data.get('injury'),\n",
    "        location=data.get('location'),\n",
    "        rating=data.get('rating')\n",
    "    )\n",
    "\n",
    "    try:\n",
    "        waypoint.create()\n",
    "        return jsonify(waypoint.read())\n",
    "    except Exception as e:\n",
    "        return {'message': f'Error saving waypoint: {e}'}, 500\n",
    "```"
   ]
  },
  {
   "cell_type": "markdown",
   "metadata": {},
   "source": [
    "## Security Measures\n",
    "### 1. CORS Configuration\n",
    "- Only requests from the frontend domain are allowed. My teamate has set this up so that the only domain that can send API requests to the backend is https://kiruthic-selvakumar.github.io\n"
   ]
  },
  {
   "cell_type": "markdown",
   "metadata": {
    "vscode": {
     "languageId": "raw"
    }
   },
   "source": [
    "```\n",
    "location / {\n",
    "    proxy_pass http://localhost:8101;\n",
    "    if ($request_method = OPTIONS ) {\n",
    "        add_header \"Access-Control-Allow-Origin\" \"https://frontend-domain.com\" always;\n",
    "        add_header \"Access-Control-Allow-Methods\" \"GET, POST, PUT, DELETE, OPTIONS\" always;\n",
    "        return 204;\n",
    "    }\n",
    "}\n",
    "```"
   ]
  },
  {
   "cell_type": "markdown",
   "metadata": {},
   "source": [
    "### 2. HTTPS Enforcement\n",
    "- Certbot was used to enable SSL encryption."
   ]
  },
  {
   "cell_type": "markdown",
   "metadata": {},
   "source": [
    "## Monitoring & Logging\n",
    "- To track API errors, error handling was implemented.\n",
    "\n",
    "```py\n",
    "if not data or 'injury' not in data:\n",
    "    return {'message': 'Injury type is required'}, 400\n",
    "```\n",
    "\n",
    "<img src=\"../images/carecenter.png\" alt=\"Care Center\" width=\"700\">\n"
   ]
  },
  {
   "cell_type": "markdown",
   "metadata": {},
   "source": [
    "## Challenges & Solutions\n",
    "### 1. Real-time Updates\n",
    "- Issue: The UI was not updating instantly after check-ins.\n",
    "- Solution: Used asynchronous API calls to refresh data.\n",
    "\n",
    "### 2. Authentication Issues\n",
    "- Issue: Users got 401 errors when making API calls.\n",
    "- Solution: Tokens are now required for all API requests.\n",
    "\n",
    "### 3. Performance Optimization\n",
    "- Issue: Large dataset made requests slow.\n",
    "- Solution: Pagination and lazy loading were added"
   ]
  },
  {
   "cell_type": "markdown",
   "metadata": {},
   "source": [
    "# Conclusion\n",
    "- Wellness Waypoints provides a seamless way to find and review medical centers. By following CPT principles, the project now has a robust API, strong security, and a smooth user experience."
   ]
  }
 ],
 "metadata": {
  "language_info": {
   "name": "python"
  }
 },
 "nbformat": 4,
 "nbformat_minor": 2
}
