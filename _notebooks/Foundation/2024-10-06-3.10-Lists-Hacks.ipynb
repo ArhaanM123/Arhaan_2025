{
 "cells": [
  {
   "cell_type": "raw",
   "metadata": {
    "vscode": {
     "languageId": "raw"
    }
   },
   "source": [
    "---\n",
    "layout: post\n",
    "title: 3.10 Lists all Hacks\n",
    "description: All Hacks for Lists\n",
    "categories: [Python]\n",
    "permalink: 3.10/Lists/Hacks\n",
    "menu: nav/tools_setup.html\n",
    "toc: true\n",
    "comments: true"
   ]
  },
  {
   "cell_type": "markdown",
   "metadata": {},
   "source": [
    "# Popcorn Hack one for list operators "
   ]
  },
  {
   "cell_type": "code",
   "execution_count": 1,
   "metadata": {},
   "outputs": [
    {
     "name": "stdout",
     "output_type": "stream",
     "text": [
      "Adding Numbers In List Script\n",
      "-------------------------\n"
     ]
    }
   ],
   "source": [
    "print(\"Adding Numbers In List Script\")\n",
    "print(\"-\"*25)\n",
    "numlist = []\n",
    "while True:\n",
    "    start = input(\"Would you like to (1) enter numbers (2) add numbers (3) remove last value added or (4) exit: \")\n",
    "    if start == \"1\":\n",
    "        val = input(\"Enter a numeric value: \") # take input while storing it in a variable\n",
    "        try: \n",
    "            test = int(val) # testing to see if input is an integer (numeric)\n",
    "        except:\n",
    "            print(\"Please enter a valid number\")\n",
    "            continue # 'continue' keyword skips to next step of while loop (basically restarting the loop)\n",
    "        numlist.append(int(val)) # append method to add values\n",
    "        print(\"Added \"+val+\" to list.\")\n",
    "    elif start == \"1\":\n",
    "        sum = 0\n",
    "        for num in numlist: # loop through list and add all values to sum variable\n",
    "            sum += num\n",
    "        print(\"Sum of numbers in list is \"+str(sum))\n",
    "    elif start == \"5\":\n",
    "        if len(numlist) > 0: # Make sure there are values in list to remove\n",
    "            print(\"Removed \"+str(numlist[len(numlist)-1])+\" from list.\")\n",
    "            numlist.pop()\n",
    "        else:\n",
    "            print(\"No values to delete\")\n",
    "    elif start == \"4\":\n",
    "        break # Break out of the while loop, or it will continue running forever\n",
    "    else:\n",
    "        continue\n"
   ]
  },
  {
   "cell_type": "markdown",
   "metadata": {},
   "source": [
    "## List Functions hacks and details "
   ]
  },
  {
   "cell_type": "code",
   "execution_count": 1,
   "metadata": {},
   "outputs": [
    {
     "name": "stdout",
     "output_type": "stream",
     "text": [
      "\u001b[92mMaximum number: 9\u001b[0m\n",
      "\u001b[92mMinimum number: 1\u001b[0m\n"
     ]
    }
   ],
   "source": [
    "def find_max_min(numbers):\n",
    "    if not numbers:\n",
    "        return None, None  # <span style=\"color: #D9B68C;\">Return None if the list is empty</span>\n",
    "    \n",
    "    max_num = numbers[0]  # <span style=\"color: #D9B68C;\">Start with the first number as the max</span>\n",
    "    min_num = numbers[0]  # <span style=\"color: #D9B68C;\">Start with the first number as the min</span>\n",
    "    \n",
    "    for num in numbers:\n",
    "        if num > max_num:\n",
    "            max_num = num  # <span style=\"color: #D9B68C;\">Update max if a larger number is found</span>\n",
    "        if num < min_num:\n",
    "            min_num = num  # <span style=\"color: #D9B68C;\">Update min if a smaller number is found</span>\n",
    "            \n",
    "    return max_num, min_num  # <span style=\"color: #D9B68C;\">Return the found max and min</span>\n",
    "\n",
    "# Example usage\n",
    "numbers = [3, 1, 4, 1, 5, 9, 2, 6, 5, 3, 5]\n",
    "max_num, min_num = find_max_min(numbers)\n",
    "\n",
    "print(f\"\\033[92mMaximum number: {max_num}\\033[0m\")  # Bright green for output\n",
    "print(f\"\\033[92mMinimum number: {min_num}\\033[0m\")  # Bright green for output\n"
   ]
  },
  {
   "cell_type": "code",
   "execution_count": 2,
   "metadata": {},
   "outputs": [
    {
     "name": "stdout",
     "output_type": "stream",
     "text": [
      "Using a for loop:\n",
      "apple\n",
      "banana\n",
      "cherry\n",
      "date\n",
      "elderberry\n",
      "\n",
      "Using a while loop:\n",
      "apple\n",
      "banana\n",
      "cherry\n",
      "date\n",
      "elderberry\n"
     ]
    }
   ],
   "source": [
    "# List of fruits\n",
    "fruits = [\"apple\", \"banana\", \"cherry\", \"date\", \"elderberry\"]\n",
    "\n",
    "# Using a for loop\n",
    "print(\"Using a for loop:\")\n",
    "for fruit in fruits:\n",
    "    print(fruit)\n",
    "\n",
    "# Using a while loop\n",
    "print(\"\\nUsing a while loop:\")\n",
    "index = 0\n",
    "while index < len(fruits):\n",
    "    print(fruits[index])\n",
    "    index += 1"
   ]
  },
  {
   "cell_type": "code",
   "execution_count": 13,
   "metadata": {},
   "outputs": [
    {
     "name": "stdout",
     "output_type": "stream",
     "text": [
      "H & M with Red\n"
     ]
    }
   ],
   "source": [
    "\n",
    " import random\n",
    "\n",
    "# Define top clohtes and bottom clothes\n",
    "brands = ['Adidas', 'Nike', 'Under Armour', 'H & M']\n",
    "Colors = ['Blue', 'Red', 'Green', 'Pink']\n",
    "\n",
    "# Create meal combinations using list comprehension\n",
    "brand_combinations = [f\"{brand} with {Color}\" for brand in brand for Color in Colors]\n",
    "\n",
    "# Print a random meal combination\n",
    "print(random.choice(brand_combinations))\n"
   ]
  },
  {
   "cell_type": "markdown",
   "metadata": {},
   "source": [
    "## Random Meal Suggestion Generator\n",
    "\n",
    "This Python code creates an empty list and prompts the user to append or add to the list by typing in meal suggestions. The code then prompts to finish the input whenever they feel like it. This helps as a meal planner that can suggest meals throughout the week."
   ]
  },
  {
   "cell_type": "code",
   "execution_count": null,
   "metadata": {},
   "outputs": [],
   "source": [
    "# Function to gather meal suggestions from the user\n",
    "def gather_meals():\n",
    "    meals = []\n",
    "    print(\"Enter your meal suggestions (type 'done' to finish):\")\n",
    "    \n",
    "    while True:\n",
    "        meal = input(\"Meal suggestion: \")\n",
    "        if meal.lower() == 'done':\n",
    "            break\n",
    "        meals.append(meal)\n",
    "    \n",
    "    return meals\n",
    "\n",
    "# Function to display meal suggestions\n",
    "def display_meals(meals):\n",
    "    count = len(meals)\n",
    "    print(f\"You have {count} meal suggestion(s):\")  \n",
    "    for meal in meals:\n",
    "        print(f\"- {meal}\")  \n",
    "\n",
    "# Main code\n",
    "if __name__ == \"__main__\":\n",
    "    # Sample input\n",
    "    user_meals = [\n",
    "        \"Spaghetti Bolognese\",\n",
    "        \"Grilled Chicken Salad\",\n",
    "        \"Vegetable Stir-Fry\",\n",
    "        \"Tacos\",\n",
    "        \"Pancakes for Breakfast\",\n",
    "        \"done\"  # Indicates the end of input\n",
    "    ]\n",
    "    \n",
    "    # Simulating user input for demonstration\n",
    "    for meal in user_meals:\n",
    "        if meal != \"done\":\n",
    "            print(f\"Meal suggestion: {meal}\")\n",
    "        else:\n",
    "            break\n",
    "    \n",
    "    # Displaying the entered meals\n",
    "    display_meals(user_meals[:-1])  # Exclude 'done' from the list\n"
   ]
  },
  {
   "cell_type": "markdown",
   "metadata": {},
   "source": [
    "# Homework Hack #1\n",
    "\n",
    "This Python script allows users to interactively manage a list containing various data types. The script initializes a list with different values, prompts the user to input an index, checks if the index is valid, and removes the item at that index if it exists. The user can continue to remove items or exit the program at any time.\n",
    "\n",
    "## Features\n",
    "- Displays the current contents of the list along with their indices.\n",
    "- Allows the user to remove an item by entering the corresponding index.\n",
    "- Handles invalid inputs and out-of-range indices gracefully.\n",
    "- Provides an option to exit the program.\n",
    "\n",
    "## Usage\n",
    "Run the script in a Python environment and follow the prompts to manage the list.\n"
   ]
  },
  {
   "cell_type": "code",
   "execution_count": null,
   "metadata": {},
   "outputs": [],
   "source": [
    "# Initialize a list with various data types\n",
    "data_list = [\n",
    "    \"apple\",  # string\n",
    "    42,       # integer\n",
    "    3.14,     # float\n",
    "    True,     # boolean\n",
    "    [1, 2, 3],# list\n",
    "    {\"key\": \"value\"},  # dictionary\n",
    "    None      # NoneType\n",
    "]\n",
    "\n",
    "# Function to display the current list\n",
    "def display_list(data):\n",
    "    print(\"Current list:\")\n",
    "    for index, item in enumerate(data):\n",
    "        print(f\"{index}: {item}\")\n",
    "\n",
    "# Main code\n",
    "if __name__ == \"__main__\":\n",
    "    while True:\n",
    "        display_list(data_list)\n",
    "        \n",
    "        try:\n",
    "            # Ask the user for an index\n",
    "            user_input = input(\"Enter an index to remove an item (or 'exit' to quit): \")\n",
    "            if user_input.lower() == 'exit':\n",
    "                print(\"Exiting the program.\")\n",
    "                break\n",
    "            \n",
    "            index = int(user_input)  # Convert input to integer\n",
    "            \n",
    "            # Check if the index is valid\n",
    "            if 0 <= index < len(data_list):\n",
    "                removed_item = data_list.pop(index)  # Remove item at the index\n",
    "                print(f\"Removed item: {removed_item}\")\n",
    "            else:\n",
    "                print(\"Invalid index. Please try again.\")\n",
    "        \n",
    "        except ValueError:\n",
    "            print(\"Please enter a valid number or 'exit' to quit.\")\n"
   ]
  },
  {
   "cell_type": "markdown",
   "metadata": {},
   "source": [
    "1. Initialize an empty list called 'numbers'\n",
    "2. For i from 1 to 30:\n",
    "     a. Append i to 'numbers'\n",
    "3. Initialize variable 'even_sum' to 0\n",
    "4. Initialize variable 'odd_sum' to 0\n",
    "5. For each number in 'numbers':\n",
    "     a. If the number is even:\n",
    "         i. Add the number to 'even_sum'\n",
    "     b. Else:\n",
    "         i. Add the number to 'odd_sum'\n",
    "6. Print 'even_sum'\n",
    "7. Print 'odd_sum'\n"
   ]
  },
  {
   "cell_type": "code",
   "execution_count": null,
   "metadata": {},
   "outputs": [],
   "source": [
    "# Step 1: Initialize an empty list\n",
    "numbers = []\n",
    "\n",
    "# Step 2: Create a list of 30 numbers\n",
    "for i in range(1, 31):\n",
    "    numbers.append(i)\n",
    "\n",
    "# Step 3: Initialize sums\n",
    "even_sum = 0\n",
    "odd_sum = 0\n",
    "\n",
    "# Step 4: Calculate the sums of even and odd numbers\n",
    "for number in numbers:\n",
    "    if number % 2 == 0:  # Check if the number is even\n",
    "        even_sum += number\n",
    "    else:  # The number is odd\n",
    "        odd_sum += number\n",
    "\n",
    "# Step 5: Print the results\n",
    "print(\"Sum of even numbers:\", even_sum)\n",
    "print(\"Sum of odd numbers:\", odd_sum)\n"
   ]
  },
  {
   "cell_type": "markdown",
   "metadata": {},
   "source": [
    "# Homework Hack #2\n",
    "\n",
    "This Python script demonstrates how to create a list of favorite hobbies and iterate through each hobby using a loop. It prints each hobby to the console, showcasing the user's interests.\n",
    "\n",
    "## Code Breakdown\n",
    "\n",
    "1. **List Creation**: A list named `favorite_hobbies` is created, containing various hobbies.\n",
    "2. **Loop Iteration**: A `for` loop is used to go through each hobby in the list, printing a formatted string that states it's a favorite hobby.\n",
    "\n",
    "## Usage\n",
    "\n",
    "Run the code in any Python environment to see the list of hobbies printed out.\n"
   ]
  },
  {
   "cell_type": "code",
   "execution_count": null,
   "metadata": {},
   "outputs": [],
   "source": [
    "# Step 1: Create a list of favorite hobbies\n",
    "favorite_hobbies = [\n",
    "    \"Reading\",\n",
    "    \"Cycling\",\n",
    "    \"Photography\",\n",
    "    \"Cooking\",\n",
    "    \"Gardening\",\n",
    "    \"Hiking\",\n",
    "    \"Playing Video Games\",\n",
    "    \"Painting\",\n",
    "    \"Writing\",\n",
    "    \"Traveling\"\n",
    "]\n",
    "\n",
    "# Step 2: Use a loop to iterate through each hobby\n",
    "for hobby in favorite_hobbies:\n",
    "    print(f\"My favorite hobby is: {hobby}\")\n"
   ]
  },
  {
   "cell_type": "markdown",
   "metadata": {},
   "source": [
    "# Homework Hack #3\n",
    "\n",
    "This Python script creates a list containing two yes/no questions along with their respective answers. It then iterates through the list and prints each question with its answer.\n",
    "\n",
    "## Code Breakdown\n",
    "\n",
    "1. **List Creation**: A list named `questions_and_answers` is created, where each element is a dictionary containing a question and its answer.\n",
    "2. **Loop Iteration**: A `for` loop is used to print each question with its corresponding answer.\n",
    "\n",
    "## Usage\n",
    "\n",
    "Run the code in any Python environment to see the questions and their answers displayed.\n"
   ]
  },
  {
   "cell_type": "code",
   "execution_count": null,
   "metadata": {},
   "outputs": [],
   "source": [
    "# Step 1: Create a list of questions with yes/no answers\n",
    "questions_and_answers = [\n",
    "    {\"question\": \"Do you like coffee?\", \"answer\": \"Yes\"},\n",
    "    {\"question\": \"Is Python your favorite programming language?\", \"answer\": \"No\"}\n",
    "]\n",
    "\n",
    "# Step 2: Use a loop to iterate through each question and answer\n",
    "for item in questions_and_answers:\n",
    "    print(f\"Question: {item['question']}\")\n",
    "    print(f\"Answer: {item['answer']}\\n\")\n"
   ]
  }
 ],
 "metadata": {
  "kernelspec": {
   "display_name": "venv",
   "language": "python",
   "name": "python3"
  },
  "language_info": {
   "codemirror_mode": {
    "name": "ipython",
    "version": 3
   },
   "file_extension": ".py",
   "mimetype": "text/x-python",
   "name": "python",
   "nbconvert_exporter": "python",
   "pygments_lexer": "ipython3",
   "version": "3.12.5"
  }
 },
 "nbformat": 4,
 "nbformat_minor": 2
}
