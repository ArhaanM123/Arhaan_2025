{
 "cells": [
  {
   "cell_type": "raw",
   "id": "599ec713",
   "metadata": {
    "vscode": {
     "languageId": "raw"
    }
   },
   "source": [
    "---\n",
    "layout: post\n",
    "title:  Big O Algorithms \n",
    "description: popcorn and homework hacks for Big O Algoritms\n",
    "permalink: /BigO/Algoritms/\n",
    "menu: nav/tools_setup.html\n",
    "toc: true\n",
    "comments: true \n",
    "---"
   ]
  },
  {
   "cell_type": "markdown",
   "id": "99eb20ab",
   "metadata": {},
   "source": [
    "**Popcorn Hack 1**"
   ]
  },
  {
   "cell_type": "code",
   "execution_count": 1,
   "id": "7c11fbf2",
   "metadata": {},
   "outputs": [
    {
     "name": "stdout",
     "output_type": "stream",
     "text": [
      "Third item (O(1)): 3\n",
      "All items (O(n)):\n",
      "1\n",
      "2\n",
      "3\n",
      "4\n",
      "5\n"
     ]
    }
   ],
   "source": [
    "arr = [1, 2, 3, 4, 5]\n",
    "\n",
    "# Constant time (O(1)): Accessing the third item (index 2)\n",
    "print(\"Third item (O(1)):\", arr[2])\n",
    "\n",
    "# Linear time (O(n)): Printing all items one by one\n",
    "print(\"All items (O(n)):\")\n",
    "for item in arr:\n",
    "    print(item)\n"
   ]
  },
  {
   "cell_type": "markdown",
   "id": "982d1a90",
   "metadata": {},
   "source": [
    "**Popcorn Hack 2**"
   ]
  },
  {
   "cell_type": "code",
   "execution_count": 2,
   "id": "9ac91933",
   "metadata": {},
   "outputs": [
    {
     "name": "stdout",
     "output_type": "stream",
     "text": [
      "(1, 2)\n",
      "(1, 3)\n",
      "(2, 3)\n"
     ]
    }
   ],
   "source": [
    "def print_unique_pairs(arr):\n",
    "    for i in range(len(arr)):\n",
    "        for j in range(i + 1, len(arr)):\n",
    "            print(f\"({arr[i]}, {arr[j]})\")\n",
    "\n",
    "# Example usage\n",
    "arr = [1, 2, 3]\n",
    "print_unique_pairs(arr)\n"
   ]
  },
  {
   "cell_type": "markdown",
   "id": "50d8fde7",
   "metadata": {},
   "source": [
    "**Popcorn Hack 3**\n",
    "\n",
    "- Which of these is inefficient for large inputs?\n",
    "\n",
    "a) Linear Time\n",
    "\n",
    "**b) Factorial Time**\n",
    "\n",
    "c) Constant Time\n",
    "\n",
    "d) Linearithic Time\n",
    "\n",
    "- Which of these can be represented by a nested loop?\n",
    "\n",
    "a) Logarithmic Time\n",
    "\n",
    "b) Linearithmic Time\n",
    "\n",
    "**c) Quadratic Time**\n",
    "\n",
    "d) Linear Time"
   ]
  },
  {
   "cell_type": "markdown",
   "id": "8985e45d",
   "metadata": {},
   "source": [
    "**Homework Hack**\n",
    "Write a function that takes the following inputs:\n",
    "\n",
    "An array:\n",
    "arr = [5, 10, 15, 20, 25]\n",
    "A string representing the time complexity:\n",
    "\"constant\", \"linear\", \"quadratic\", etc.\n",
    "The function should perform operations on the array based on the given time complexity. For example:\n",
    "\n",
    "If the string is \"constant\", return the first item of the array.\n",
    "If the string is \"linear\", print all the items in the array.\n",
    "If the string is \"quadratic\", print all pairs of items in the array."
   ]
  },
  {
   "cell_type": "code",
   "execution_count": 1,
   "id": "35fc0bfc",
   "metadata": {},
   "outputs": [
    {
     "name": "stdout",
     "output_type": "stream",
     "text": [
      "Constant: 5\n",
      "\n",
      "Linear:\n",
      "5\n",
      "10\n",
      "15\n",
      "20\n",
      "25\n",
      "\n",
      "Quadratic:\n",
      "(5, 5)\n",
      "(5, 10)\n",
      "(5, 15)\n",
      "(5, 20)\n",
      "(5, 25)\n",
      "(10, 5)\n",
      "(10, 10)\n",
      "(10, 15)\n",
      "(10, 20)\n",
      "(10, 25)\n",
      "(15, 5)\n",
      "(15, 10)\n",
      "(15, 15)\n",
      "(15, 20)\n",
      "(15, 25)\n",
      "(20, 5)\n",
      "(20, 10)\n",
      "(20, 15)\n",
      "(20, 20)\n",
      "(20, 25)\n",
      "(25, 5)\n",
      "(25, 10)\n",
      "(25, 15)\n",
      "(25, 20)\n",
      "(25, 25)\n"
     ]
    }
   ],
   "source": [
    "def perform_operation(arr, complexity):\n",
    "    if complexity == \"constant\":\n",
    "        # O(1) - Access first item\n",
    "        return arr[0]\n",
    "    \n",
    "    elif complexity == \"linear\":\n",
    "        # O(n) - Print all items\n",
    "        for item in arr:\n",
    "            print(item)\n",
    "    \n",
    "    elif complexity == \"quadratic\":\n",
    "        # O(n^2) - Print all unique pairs\n",
    "        for i in range(len(arr)):\n",
    "            for j in range(len(arr)):\n",
    "                print(f\"({arr[i]}, {arr[j]})\")\n",
    "    \n",
    "    else:\n",
    "        return \"Unsupported time complexity\"\n",
    "\n",
    "# Example usage:\n",
    "arr = [5, 10, 15, 20, 25]\n",
    "print(\"Constant:\", perform_operation(arr, \"constant\"))\n",
    "print(\"\\nLinear:\")\n",
    "perform_operation(arr, \"linear\")\n",
    "print(\"\\nQuadratic:\")\n",
    "perform_operation(arr, \"quadratic\")\n"
   ]
  }
 ],
 "metadata": {
  "kernelspec": {
   "display_name": ".venv",
   "language": "python",
   "name": "python3"
  },
  "language_info": {
   "codemirror_mode": {
    "name": "ipython",
    "version": 3
   },
   "file_extension": ".py",
   "mimetype": "text/x-python",
   "name": "python",
   "nbconvert_exporter": "python",
   "pygments_lexer": "ipython3",
   "version": "3.12.5"
  }
 },
 "nbformat": 4,
 "nbformat_minor": 5
}
