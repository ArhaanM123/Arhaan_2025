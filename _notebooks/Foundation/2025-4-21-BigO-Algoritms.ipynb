{
 "cells": [
  {
   "cell_type": "raw",
   "id": "599ec713",
   "metadata": {
    "vscode": {
     "languageId": "raw"
    }
   },
   "source": [
    "---\n",
    "layout: post\n",
    "title:  Big O Algorithms \n",
    "description: popcorn and homework hacks for Big O Algoritms\n",
    "permalink: /BigO/Algoritms/\n",
    "menu: nav/tools_setup.html\n",
    "toc: true\n",
    "comments: true \n",
    "---"
   ]
  },
  {
   "cell_type": "markdown",
   "id": "99eb20ab",
   "metadata": {},
   "source": [
    "**Popcorn Hack 1**"
   ]
  },
  {
   "cell_type": "code",
   "execution_count": 1,
   "id": "7c11fbf2",
   "metadata": {},
   "outputs": [
    {
     "name": "stdout",
     "output_type": "stream",
     "text": [
      "Third item (O(1)): 3\n",
      "All items (O(n)):\n",
      "1\n",
      "2\n",
      "3\n",
      "4\n",
      "5\n"
     ]
    }
   ],
   "source": [
    "arr = [1, 2, 3, 4, 5]\n",
    "\n",
    "# Constant time (O(1)): Accessing the third item (index 2)\n",
    "print(\"Third item (O(1)):\", arr[2])\n",
    "\n",
    "# Linear time (O(n)): Printing all items one by one\n",
    "print(\"All items (O(n)):\")\n",
    "for item in arr:\n",
    "    print(item)\n"
   ]
  },
  {
   "cell_type": "markdown",
   "id": "982d1a90",
   "metadata": {},
   "source": [
    "**Popcorn Hack 2**"
   ]
  },
  {
   "cell_type": "code",
   "execution_count": 2,
   "id": "9ac91933",
   "metadata": {},
   "outputs": [
    {
     "name": "stdout",
     "output_type": "stream",
     "text": [
      "(1, 2)\n",
      "(1, 3)\n",
      "(2, 3)\n"
     ]
    }
   ],
   "source": [
    "def print_unique_pairs(arr):\n",
    "    for i in range(len(arr)):\n",
    "        for j in range(i + 1, len(arr)):\n",
    "            print(f\"({arr[i]}, {arr[j]})\")\n",
    "\n",
    "# Example usage\n",
    "arr = [1, 2, 3]\n",
    "print_unique_pairs(arr)\n"
   ]
  },
  {
   "cell_type": "markdown",
   "id": "50d8fde7",
   "metadata": {},
   "source": [
    "**Popcorn Hack 3**\n",
    "\n",
    "- Which of these is inefficient for large inputs?\n",
    "\n",
    "a) Linear Time\n",
    "\n",
    "**b) Factorial Time**\n",
    "\n",
    "c) Constant Time\n",
    "\n",
    "d) Linearithic Time\n",
    "\n",
    "- Which of these can be represented by a nested loop?\n",
    "\n",
    "a) Logarithmic Time\n",
    "\n",
    "b) Linearithmic Time\n",
    "\n",
    "**c) Quadratic Time**\n",
    "\n",
    "d) Linear Time"
   ]
  }
 ],
 "metadata": {
  "kernelspec": {
   "display_name": ".venv",
   "language": "python",
   "name": "python3"
  },
  "language_info": {
   "codemirror_mode": {
    "name": "ipython",
    "version": 3
   },
   "file_extension": ".py",
   "mimetype": "text/x-python",
   "name": "python",
   "nbconvert_exporter": "python",
   "pygments_lexer": "ipython3",
   "version": "3.12.5"
  }
 },
 "nbformat": 4,
 "nbformat_minor": 5
}
