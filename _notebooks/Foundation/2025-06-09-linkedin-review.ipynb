{
 "cells": [
  {
   "cell_type": "raw",
   "id": "aa1bcfbd",
   "metadata": {
    "vscode": {
     "languageId": "raw"
    }
   },
   "source": [
    "---\n",
    "layout: post\n",
    "title: Linkedin Overview\n",
    "description: Linkedin Overview\n",
    "permalink: /linkedin/review\n",
    "menu: nav/tools_setup.html\n",
    "toc: true\n",
    "comments: true \n",
    "---"
   ]
  },
  {
   "cell_type": "markdown",
   "id": "b793931a",
   "metadata": {},
   "source": [
    "**Hi, I’m Arhaan Memon**  \n",
    "I’m a high school student passionate about technology, design, and leadership — and coding is the common thread that connects all of those interests. While I’m still too young to create a LinkedIn profile, this post serves as my digital introduction for future opportunities, internships, and networking.\n",
    "\n",
    "---\n",
    "\n",
    "**My Key Interests**\n",
    "\n",
    "- **Data Analytics:** I enjoy extracting patterns from information and finding ways to visualize them. Whether it’s basketball stats or web app performance, data helps tell stories and drive decisions.\n",
    "  \n",
    "- **Design and UI/UX:** I care about how things look and feel. Great design makes software not only usable but enjoyable.\n",
    "\n",
    "- **Leadership:** Through my nonprofit and team projects, I’ve learned how coding can be a tool for empowering others — by building platforms that help people connect, learn, and share.\n",
    "\n",
    "- **Problem Solving:** From debugging code to designing solutions from scratch, I’m drawn to the challenge of creating something new from nothing.\n",
    "\n",
    "---\n",
    "\n",
    "**How Coding Intersects With My Interests**\n",
    "\n",
    "- **Teamwork:** Coding in group settings like Night at the Museum taught me how to divide responsibilities, merge ideas, and communicate technical concepts clearly.\n",
    "  \n",
    "- **Creativity:** Projects like *Zoom-N-Guess* gave me the freedom to think visually and playfully while learning serious programming concepts.\n",
    "\n",
    "- **Functionality:** In *Flocker*, I applied JavaScript, Flask, and WebSockets to build a multi-room chat app. It’s one thing to write code, but making it work in real-time with users across rooms was a big milestone.\n",
    "\n",
    "- **User-Centered Thinking:** With *Travel Waypoints*, I focused on structured storytelling and clean layouts, making sure the design enhanced rather than overwhelmed the content.\n",
    "\n",
    "---\n",
    "\n",
    "**Favorite Projects**\n",
    "\n",
    "| Project | Description | What I Loved |\n",
    "|--------|-------------|---------------|\n",
    "| [Zoom-N-Guess](https://nighthawkcoders.github.io/flocker_frontend/create_and_compete/zoominguess) | A guessing game using zoomed-in images. | It was fun and visual, my first real step into dynamic JS logic and styling. |\n",
    "| [Travel Frontend – Waypoints](https://kiruthic-selvakumar.github.io/travel_frontend/travel/paris/wellness_waypoints) | A travel guide with location cards and descriptive content. | I enjoyed writing clean HTML/CSS and learning layout control in group work. |\n",
    "| [Flocker Chat App](http://127.0.0.1:4887/flocker/) | A real-time chat platform with channels and online tracking. | It pushed me to understand full-stack development with sockets, rooms, and messaging. |\n",
    "\n",
    "---\n",
    "\n",
    "**Looking Ahead**\n",
    "\n",
    "I hope to keep building — smarter, cleaner, and more impactful. Whether it’s joining a hackathon, interning with a tech team, or leading my own initiative, I’m ready to keep learning and pushing the limits of what’s possible through code.\n",
    "\n",
    "If you’re reading this and want to collaborate, feel free to reach out through my GitHub profile or contact info on this site.\n",
    "\n",
    "Thanks for visiting my digital corner of the web!\n"
   ]
  }
 ],
 "metadata": {
  "language_info": {
   "name": "python"
  }
 },
 "nbformat": 4,
 "nbformat_minor": 5
}
