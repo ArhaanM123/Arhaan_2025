{
 "cells": [
  {
   "cell_type": "raw",
   "metadata": {},
   "source": [
    "---\n",
    "layout: post\n",
    "title:  Intellectual Property\n",
    "description: popcorn and homework hacks for intellectua; property\n",
    "permalink: /intellectual/property\n",
    "menu: nav/tools_setup.html\n",
    "toc: true\n",
    "comments: true \n",
    "---"
   ]
  },
  {
   "cell_type": "markdown",
   "metadata": {},
   "source": [
    "**Popocorn Hack 1-What are some ways to protect intellectual property? Write down what you can remember in a notebook.**\n",
    "- Protecting intellectual property (IP) is essential for creators and businesses to maintain ownership and control over their innovations and creations. One effective method is securing patents, which grant exclusive rights to inventors for their new and useful processes, machines, or compositions of matter. This legal protection prevents others from making, using, or selling the invention without permission. Additionally, registering trademarks safeguards brand names, logos, and symbols that distinguish goods or services, ensuring that only the rightful owner can use them in commerce. Copyrights protect original works of authorship, such as literature, music, and art, granting the creator exclusive rights to reproduce, distribute, and display their work. Implementing confidentiality agreements and establishing security protocols are also vital strategies to protect trade secrets and sensitive information from unauthorized disclosure. By employing these measures, individuals and organizations can effectively safeguard their intellectual assets and maintain a competitive edge."
   ]
  },
  {
   "cell_type": "markdown",
   "metadata": {},
   "source": [
    "**Popcorn Hack 2-MIT Licence** \n",
    "- ​The MIT License is a permissive free software license originating from the Massachusetts Institute of Technology in the late 1980s. It allows users considerable freedom with the software, including the rights to use, copy, modify, merge, publish, distribute, sublicense, and even sell copies. The primary condition is that the original copyright notice and permission notice must be included in all copies or substantial portions of the software. This simplicity and flexibility have made the MIT License one of the most popular open-source licenses, adopted by numerous projects like the X Window System, Ruby on Rails, Node.js, and jQuery. \n",
    "\n",
    "**Repo hack**\n",
    "MIT License\n",
    "\n",
    "Copyright (c) [2009] [Arhaan Memon]\n",
    "\n",
    "Permission is hereby granted, free of charge, to any person obtaining a copy of this software and associated documentation files (the \"Software\"), to deal in the Software without restriction, including without limitation the rights to use, copy, modify, merge, publish, distribute, sublicense, and/or sell copies of the Software, and to permit persons to whom the Software is furnished to do so, subject to the following conditions:\n",
    "\n",
    "The above copyright notice and this permission notice shall be included in all copies or substantial portions of the Software.\n",
    "\n",
    "THE SOFTWARE IS PROVIDED \"AS IS\", WITHOUT WARRANTY OF ANY KIND, EXPRESS OR IMPLIED, INCLUDING BUT NOT LIMITED TO THE WARRANTIES OF MERCHANTABILITY, FITNESS FOR A PARTICULAR PURPOSE AND NONINFRINGEMENT. IN NO EVENT SHALL THE AUTHORS OR COPYRIGHT HOLDERS BE LIABLE FOR ANY CLAIM, DAMAGES OR OTHER LIABILITY, WHETHER IN AN ACTION OF CONTRACT, TORT OR OTHERWISE, ARISING FROM, OUT OF OR IN CONNECTION WITH THE SOFTWARE OR THE USE OR OTHER DEALINGS IN THE SOFTWARE.\n"
   ]
  },
  {
   "cell_type": "markdown",
   "metadata": {},
   "source": [
    "**Popcorn Hack 4**\n",
    "\n",
    "## Preventing Copyright Infringement\n",
    "\n",
    "**Partners:** Ahmad and Manas\n",
    "\n",
    "**Ways to Prevent Copyright Infringement:**\n",
    "\n",
    "1. Always give proper credit to the original creator.\n",
    "2. Use Creative Commons or public domain content.\n",
    "3. Ask for permission when using someone else’s work.\n",
    "4. Avoid copying and pasting code, images, or music without checking the license.\n",
    "5. Use royalty-free media or licensed content.\n",
    "6. Create your own original content.\n",
    "7. Follow fair use guidelines when using small parts for educational purposes.\n",
    "8. Check license agreements before using online assets.\n",
    "9. Include citations in your code, presentations, or writing.\n",
    "10. Don’t remove watermarks or logos from content.\n",
    "11. Understand and respect software licenses when using or modifying code.\n",
    "\n",
    "We discussed these ideas together and agreed that giving credit and checking licenses are some of the most important steps to take.\n",
    "\n"
   ]
  },
  {
   "cell_type": "markdown",
   "metadata": {},
   "source": [
    "**Popcorn Hack 3**\n",
    "\n",
    "**1. Define a Creative Commons License:**\n",
    "A Creative Commons License is a type of license that lets people use, share, and sometimes change someone else’s work (like images, videos, or code) legally, without needing to ask for special permission—as long as they follow certain rules the creator sets (like giving credit or not using it for money).\n",
    "\n",
    "**2. What are exceptions to the copyright law?**\n",
    "Exceptions to copyright law are special situations where people can use someone else’s work without breaking the law. For example:\n",
    "\n",
    "Fair use: using small parts of a work for things like school, news, or criticism.\n",
    "\n",
    "Public domain: works that are no longer protected by copyright and can be used freely.\n",
    "\n",
    "Educational use: teachers and students may use some content for lessons or homework.\n",
    "\n",
    "**3. Systems like Creative Commons, Open Sourcing, and Open Access allow a great deal of intellectual work to be shared and used widely, thereby lowering intellectual barriers.**\n",
    "These systems make it easier for people to learn, build, and create new things. For example:\n",
    "\n",
    "Open Source: lets programmers use and improve code without paying.\n",
    "\n",
    "Creative Commons: lets artists and creators share work while keeping some rights.\n",
    "\n",
    "Open Access: gives free access to research and knowledge, especially in science and education.\n",
    "Together, they help more people collaborate and innovate by removing limits on who can use or learn from the work."
   ]
  },
  {
   "cell_type": "markdown",
   "metadata": {},
   "source": [
    "**Homework Hacks**\n",
    "\n",
    "Task 1: Select a License\n",
    "Selected License: MIT License\n",
    "\n",
    "Task 2: Explain Your Choice\n",
    "I chose the MIT License because it allows others to use, copy, and change my code as long as they include my name and license in their version. This license is simple and easy to understand, making it perfect for sharing personal projects. It helps my project grow because more people can use and improve it without asking for permission. It also protects me from being blamed if something goes wrong with how others use my code. Users benefit from this freedom and flexibility.\n",
    "\n",
    "Task 3: Add the License to Your Repository\n",
    "In your GitHub repo:\n",
    "\n",
    "Create a new file called LICENSE\n",
    "\n",
    "Paste the full MIT License text from (Licence)[choosealicense.com/licenses/mit/]\n",
    "\n",
    "At the top, write:\n",
    "\n",
    "scss\n",
    "Copy\n",
    "Edit\n",
    "Copyright (c) 2025 [Arhaan Memon]\n",
    "\n",
    "Task 4: Define Your Project\n",
    "Project Name: Autonomous Cars\n",
    "\n",
    "My CPT project is about autonomous cars and how they can be made safer and more efficient using sensors and smart algorithms. It simulates a self-driving car’s ability to detect obstacles, follow traffic rules, and avoid collisions.\n",
    "Key features include: object detection, path planning, and speed control.\n",
    "\n",
    "\n",
    "Task 5: Add the License to Your CPT or Pilot City Repo\n",
    "Choose a different license than your personal repo. Example: Apache License 2.0\n",
    "\n",
    "In your CPT or Pilot City repo, create a new file called LICENSE\n",
    "\n",
    "(Licence)[choosealicense.com/licenses/apache-2.0/]\n",
    "\n",
    "scss\n",
    "Copy\n",
    "Edit\n",
    "Copyright (c) 2025 [Arhaan Memon]\n"
   ]
  }
 ],
 "metadata": {
  "language_info": {
   "name": "python"
  }
 },
 "nbformat": 4,
 "nbformat_minor": 2
}
