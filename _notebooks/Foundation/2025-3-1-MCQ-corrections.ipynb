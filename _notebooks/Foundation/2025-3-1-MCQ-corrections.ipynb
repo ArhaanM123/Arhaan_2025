{
 "cells": [
  {
   "cell_type": "raw",
   "metadata": {
    "vscode": {
     "languageId": "raw"
    }
   },
   "source": [
    "---\n",
    "layout: post\n",
    "title: Multiple Choice Reflection 2020\n",
    "description: Multiple Choice Reflection 2020 \n",
    "permalink: /MCQ/corrections\n",
    "menu: nav/tools_setup.html\n",
    "toc: true\n",
    "comments: true \n",
    "---\n"
   ]
  },
  {
   "cell_type": "markdown",
   "metadata": {},
   "source": [
    "# Multiple Choice Completion(61/67) \n",
    " \n",
    " \n",
    " <img src=\"../images/totalscore.png\" alt=\"Total Score\" width=\"700\">\n",
    " \n",
    "  \n",
    "# Analysis/Assessment of work in total\n",
    " \n",
    "\n",
    "- ## Topics \n",
    "\n",
    " <img src=\"../images/topic1.png\" alt=\"Topic 1\" width=\"700\">\n",
    "\n",
    " <img src=\"../images/topic2.png\" alt=\"Topic 2\" width=\"700\">\n",
    " \n",
    "- ## Skills \n",
    " \n",
    " <img src=\"../images/skills.png\" alt=\"Skills\" width=\"700\">\n",
    "\n",
    "- ## Big Ideas \n",
    "\n",
    " <img src=\"../images/bigidea.png\" alt=\"All Big Ideas\" width=\"700\">"
   ]
  },
  {
   "cell_type": "markdown",
   "metadata": {},
   "source": [
    "## What I Learned:\n",
    "\n",
    "Engaging with the AP CSP MCQ practice exam provided valuable insights into the exam's structure and the nature of its questions. The exam encompasses a broad range of topics, including computing innovations, data analysis, algorithms, programming, and the societal impacts of computing. This experience underscored the importance of not only understanding theoretical concepts but also applying logical reasoning and problem-solving skills to analyze how each step in a question influences variables and outcomes. It became evident that while textbook knowledge forms the foundation, keen observation and a deep comprehension of how each line of code functions are crucial for success.​\n",
    "\n",
    "## Areas for Improvement:\n",
    "\n",
    "Upon reviewing the questions I answered incorrectly, it became clear that I need to strengthen my understanding of certain areas. Specifically, I should focus on enhancing my grasp of computing innovations and their societal impacts, as well as refining my skills in data analysis and abstraction in program development. To address these weaknesses, I plan to delve deeper into these topics, exploring current computing innovations and their implications, and practicing data analysis techniques. Additionally, I will work on developing programs that incorporate abstractions to manage complexity effectively. By concentrating on these areas, I aim to improve my performance in future assessments.​"
   ]
  },
  {
   "cell_type": "markdown",
   "metadata": {},
   "source": [
    "# Big Ideas to work on \n",
    "\n",
    " <img src=\"../images/alldeas.png\" alt=\"All Big Ideas\" width=\"700\">\n"
   ]
  },
  {
   "cell_type": "markdown",
   "metadata": {},
   "source": [
    "# Corrections # 11\n",
    "\n",
    " <img src=\"../images/Ivory.png\" alt=\"All Big Ideas\" width=\"700\">\n",
    "\n",
    "## Explanation\n",
    "The correct answer is Ivory because the binary RGB triplet (11111111, 11111111, 11110000) converts to decimal as (255, 255, 240). Looking at the table, this matches the RGB values listed for Ivory. The incorrect choice, Vivid Yellow, has an RGB triplet of (255, 255, 14), which does not match the given binary values. The mistake likely happened due to misreading the last value in the triplet.\n",
    "\n"
   ]
  },
  {
   "cell_type": "markdown",
   "metadata": {},
   "source": [
    "# Correction # 12 \n",
    "\n",
    "\n",
    " <img src=\"../images/Indigo.png\" alt=\"All Big Ideas\" width=\"700\">\n",
    "\n",
    "## Explanation \n",
    "The correct answer is C (01001011, 00000000, 10000010) because the RGB triplet for indigo is (75, 0, 130). When converted to binary, 75 becomes 01001011, 0 remains 00000000, and 130 becomes 10000010. The incorrect answer, A (00100101, 00000000, 10000010), represents (37, 0, 130) instead of (75, 0, 130), making it the wrong choice. The mistake likely happened due to an incorrect binary conversion of 75."
   ]
  },
  {
   "cell_type": "markdown",
   "metadata": {},
   "source": [
    "# Correction # 23\n",
    "\n",
    "\n",
    " <img src=\"../images/flowchart.png\" alt=\"Flowchart\" width=\"700\">\n",
    "\n",
    " <img src=\"../images/algorithm.png\" alt=\"Algorithms\" width=\"700\">\n",
    "\n",
    "\n",
    "## Explanation \n",
    "The correct answer for the flowchart question is D because it correctly follows the decision-making process outlined in the diagram. The flowchart first checks if weekday = true, then proceeds to check if miles < 20. If both conditions are met, available is set to true. Option B is incorrect because it uses miles ≥ 20, which does not match the logic of the flowchart. The algorithm requires both conditions to be true for available to be set to true, making D the correct choice."
   ]
  },
  {
   "cell_type": "markdown",
   "metadata": {},
   "source": [
    "# Correction # 34\n",
    "\n",
    "\n",
    " <img src=\"../images/Botmoverq.png\" alt=\"Botmoverq\" width=\"700\">\n",
    "\n",
    " <img src=\"../images/Botmovera.png\" alt=\"Botmovera\" width=\"700\">\n",
    "\n",
    "\n",
    "## Explanation\n",
    "In the robot movement problem, the correct answer is Option C because it correctly follows the path indicated by the arrows. The BotMover procedure moves the robot forward and then rotates it based on the given parameter. The incorrect answer, Option B, causes the robot to rotate incorrectly, making it face the wrong direction before continuing its movement. This results in the robot not following the expected path to the gray square. The correct sequence ensures that the robot moves forward, rotates the correct number of times, and then continues in the right direction to reach its destination.\n"
   ]
  },
  {
   "cell_type": "markdown",
   "metadata": {},
   "source": [
    "# Correction # 66\n",
    "\n",
    " <img src=\"../images/line5n9.png\" alt=\"All Big Ideas\" width=\"700\">\n",
    "\n",
    "  <img src=\"../images/66answer.png\" alt=\"All Big Ideas\" width=\"700\">\n",
    "\n",
    "## Explanation\n",
    "The correct answer is Line 5 and Line 9 because both lines cause errors in the program's logic. Line 5 incorrectly increases the count for every number, even if it's not perfect, which leads to an inflated count. Line 9 increments currentNum again inside the IF statement, causing the loop to skip numbers whenever a perfect number is found. Since Line 11 already increments currentNum, removing Line 9 ensures every number is checked properly. By removing these two lines, the program correctly counts only perfect numbers and ensures all numbers in the range are considered.\n"
   ]
  },
  {
   "cell_type": "markdown",
   "metadata": {},
   "source": [
    "# Correction # 67\n",
    "\n",
    " <img src=\"../images/findnum.png\" alt=\"All Big Ideas\" width=\"700\">\n",
    "\n",
    " ## Explanation \n",
    "The correct answers are A and B because the NumOccurrences function does not correctly count the occurrences in these cases. In Option A, the issue is that the count variable is being reset to 0 at the start of every loop iteration instead of keeping a running total. This mistake causes only the last occurrence of \"birch\" to be counted, leading to an incorrect return value. In Option B, the function fails to properly track the occurrences of \"maple\", likely due to incorrect logic in the counting process. Since \"maple\" only appears once, the function might not correctly recognize or store the count. Both of these errors stem from faulty logic that prevents the function from maintaining a cumulative count throughout the entire list.\n",
    "\n",
    "\n",
    "\n",
    "\n",
    "\n",
    "\n",
    "\n"
   ]
  }
 ],
 "metadata": {
  "language_info": {
   "name": "python"
  }
 },
 "nbformat": 4,
 "nbformat_minor": 2
}
