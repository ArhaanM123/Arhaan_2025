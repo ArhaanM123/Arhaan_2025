{
 "cells": [
  {
   "cell_type": "raw",
   "metadata": {
    "vscode": {
     "languageId": "raw"
    }
   },
   "source": [
    "---\n",
    "layout: post\n",
    "title:  Binary Searches\n",
    "description: popcorn and homework hacks for Binary Searches\n",
    "permalink: /binary/searches/\n",
    "menu: nav/tools_setup.html\n",
    "toc: true\n",
    "comments: true \n",
    "---"
   ]
  },
  {
   "cell_type": "markdown",
   "metadata": {},
   "source": [
    "**Popcorn Hack 1**\n",
    "**Which of the following conditions must be met in order for the rocedure to work as intended**\n",
    "- a) The length of numList must be even\n",
    "- b) The list numList must not contain any duplicate values\n",
    "- **c) The values in numList must be in sorted order**\n",
    "- d) The value of target must not be equal to -1\n",
    "\n",
    "\n",
    "- For binary search to work correctly, the list you're searching must be sorted (either from smallest to biggest or biggest to smallest). That's because binary search works by checking the middle of the list and deciding whether the target number is to the left or right. If the list isn’t sorted, it won’t know which side to look on, and the search won't work correctly.\n"
   ]
  },
  {
   "cell_type": "markdown",
   "metadata": {},
   "source": [
    "**Popcorn Hack 2**\n",
    "**Which of the following statements correctly describes a disadvantage of binary search compared to linear search? Explain why your answer is correct and why the others are wrong.**\n",
    "\n",
    "- a) Binary search takes more time on average than linear search  \n",
    "- **b) Binary search cannot be used on unsorted lists without modifications** \n",
    "- c) Binary search always returns the first occurrence of the target  \n",
    "- d) Binary search can only be used on lists with unique values  \n",
    "\n",
    "\n",
    "- Binary search only works on lists that are already sorted. If you try to run it on an unsorted list, it won’t know which side to look on, so it won’t work correctly. You would either need to sort the list first (which takes extra time) or use a different search method like linear search. This is a big disadvantage compared to linear search, which works fine even on unsorted lists.\n",
    "\n"
   ]
  },
  {
   "cell_type": "markdown",
   "metadata": {},
   "source": [
    "**Popcorn Hack 3**\n",
    "**Given the sorted list:**\n",
    "\n",
    "- ['a', 'b', 'c', 'd', 'e', 'f', 'g']\n",
    "- Code a binary search algorithm in your notebook that returns the index when given an element of the array (eg. an input of 'c' should return 2).\n",
    "\n"
   ]
  },
  {
   "cell_type": "code",
   "execution_count": 1,
   "metadata": {},
   "outputs": [
    {
     "name": "stdout",
     "output_type": "stream",
     "text": [
      "2\n",
      "5\n",
      "-1\n"
     ]
    }
   ],
   "source": [
    "def binary_search(char_list, target):\n",
    "    low = 0\n",
    "    high = len(char_list) - 1\n",
    "\n",
    "    while low <= high:\n",
    "        mid = (low + high) // 2\n",
    "        if char_list[mid] == target:\n",
    "            return mid  # Found the target, return index\n",
    "        elif char_list[mid] < target:\n",
    "            low = mid + 1  # Look in the right half\n",
    "        else:\n",
    "            high = mid - 1  # Look in the left half\n",
    "\n",
    "    return -1  # If not found\n",
    "\n",
    "# Example usage\n",
    "char_list = ['a', 'b', 'c', 'd', 'e', 'f', 'g']\n",
    "print(binary_search(char_list, 'c'))  # Output should be 2\n",
    "print(binary_search(char_list, 'f'))  # Output should be 5\n",
    "print(binary_search(char_list, 'z'))  # Output should be -1 (not found)\n"
   ]
  },
  {
   "cell_type": "markdown",
   "metadata": {},
   "source": [
    "**Homework Hack 1**\n",
    "\n",
    "- Dataset\n",
    "Use the file: Dataset\n",
    "\n",
    "- Goal\n",
    "Use Pandas to load and sort product prices, then write a binary search function to find specific price values.\n",
    "\n",
    "- Instructions\n",
    "1. Load the dataset using Pandas.\n",
    "2. Drop any rows with missing data.\n",
    "3. Sort the data by the Price column.\n",
    "4. Extract the sorted Price column as a list.\n",
    "5. Implement a binary search function that searches for a price in the list.\n",
    "6. Use your function to search for these 3 specific prices:\n",
    "7. 1.25\n",
    "8. 6.49\n",
    "10. 10.00\n",
    "11. Print a message that clearly shows if each price was found or not found.\n",
    "12. Write a short explanation on how your code works.\n"
   ]
  },
  {
   "cell_type": "code",
   "execution_count": 6,
   "metadata": {},
   "outputs": [
    {
     "name": "stdout",
     "output_type": "stream",
     "text": [
      "Price 1.25 found at index 3.\n",
      "Price 6.49 found at index 12.\n",
      "Price 10.0 not found.\n"
     ]
    }
   ],
   "source": [
    "import pandas as pd\n",
    "\n",
    "# Step 1: Load the dataset\n",
    "data = pd.read_csv(\"school_supplies.csv\")\n",
    "\n",
    "# Step 2: Drop rows with missing values\n",
    "data_cleaned = data.dropna()\n",
    "\n",
    "# Step 3: Sort the data by 'Price'\n",
    "data_sorted = data_cleaned.sort_values(by=\"Price\")\n",
    "\n",
    "# Step 4: Extract sorted prices as a list\n",
    "price_list = data_sorted[\"Price\"].tolist()\n",
    "\n",
    "# Step 5: Implement the binary search function\n",
    "def binary_search(sorted_list, target):\n",
    "    low = 0\n",
    "    high = len(sorted_list) - 1\n",
    "\n",
    "    while low <= high:\n",
    "        mid = (low + high) // 2\n",
    "        mid_value = sorted_list[mid]\n",
    "\n",
    "        if mid_value == target:\n",
    "            return mid  # Target value found at index mid\n",
    "        elif mid_value < target:\n",
    "            low = mid + 1  # Search in the right half\n",
    "        else:\n",
    "            high = mid - 1  # Search in the left half\n",
    "\n",
    "    return -1  # Target value not found\n",
    "\n",
    "# Step 6: Search for specific prices\n",
    "search_prices = [1.25, 6.49, 10.00]\n",
    "\n",
    "# Step 7: Print results for each search\n",
    "for price in search_prices:\n",
    "    index = binary_search(price_list, price)\n",
    "    if index != -1:\n",
    "        print(f\"Price {price} found at index {index}.\")\n",
    "    else:\n",
    "        print(f\"Price {price} not found.\")\n"
   ]
  },
  {
   "cell_type": "markdown",
   "metadata": {},
   "source": [
    "- ​In this project, I used Python's pandas library to handle a dataset of school supplies. After loading the data and removing any incomplete entries, I sorted the items by their prices. I then created a binary search function to quickly find specific prices within this sorted list. Using this function, I searched for the prices $1.25, $6.49, and $10.00, and displayed messages indicating whether each price was found in the dataset. This approach showcased how binary search can efficiently locate items in a sorted collection."
   ]
  }
 ],
 "metadata": {
  "kernelspec": {
   "display_name": ".venv",
   "language": "python",
   "name": "python3"
  },
  "language_info": {
   "codemirror_mode": {
    "name": "ipython",
    "version": 3
   },
   "file_extension": ".py",
   "mimetype": "text/x-python",
   "name": "python",
   "nbconvert_exporter": "python",
   "pygments_lexer": "ipython3",
   "version": "3.12.5"
  }
 },
 "nbformat": 4,
 "nbformat_minor": 2
}
