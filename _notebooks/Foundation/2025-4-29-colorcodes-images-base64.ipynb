{
 "cells": [
  {
   "cell_type": "raw",
   "id": "34488110",
   "metadata": {
    "vscode": {
     "languageId": "raw"
    }
   },
   "source": [
    "---\n",
    "layout: post\n",
    "title: Color Code Images\n",
    "description: popcorn and homework hacks for Color Code Images\n",
    "permalink: /coloecodes/images/base64\n",
    "menu: nav/tools_setup.html\n",
    "toc: true\n",
    "comments: true \n",
    "---"
   ]
  },
  {
   "cell_type": "markdown",
   "id": "bb6a6731",
   "metadata": {},
   "source": [
    "**Images Popcorn Hack**"
   ]
  },
  {
   "cell_type": "markdown",
   "id": "34dbaef0",
   "metadata": {
    "vscode": {
     "languageId": "html"
    }
   },
   "source": [
    "**Color Codes**\n",
    "\n",
    "- Which of these is the correct RGBA format for a 50% transparent green?\n",
    "\n",
    "A) rgba(0, 255, 0, 1)\n",
    "B) rgba(255, 255, 0, 0.5)\n",
    "**C) rgba(0, 255, 0, 0.5)**\n",
    "D) rgba(0, 0, 255, 0.5)\n",
    "\n",
    "\n",
    "**Base64 Encoding in Computing**\n",
    "\n",
    "- Which of the following is true about Base64 encoding?\n",
    "\n",
    " A) It encrypts data to make it secure.\n",
    " **B) It increases the size of the data.**\n",
    " C) It reduces the size of the data.\n",
    " D) It ensures data is unreadable by humans.\n",
    "\n",
    "**Popcorn Hack**\n",
    " - One downside of Base64 in the real world is that it makes files bigger. Even though it helps safely send data, Base64 encoding can increase the file size by about 33%. That means if you use it a lot, it can slow down your app or website and take up more storage or bandwidth.\n"
   ]
  },
  {
   "cell_type": "markdown",
   "id": "9e91a272",
   "metadata": {},
   "source": [
    "**Digital Images in Computing**\n"
   ]
  },
  {
   "cell_type": "markdown",
   "id": "c2c86381",
   "metadata": {},
   "source": [
    "**Base 34 Popcorn Hack**\n",
    "\n",
    "- Increased File Size (vs. Compression):\n",
    "Base64 encoding increases the size of data by about 33%, while compression algorithms are designed to reduce file size. So, if you're trying to save space or transmit data more efficiently, Base64 is not ideal.\n",
    "\n",
    "- Lack of Security (vs. Encryption):\n",
    "Base64 is not a secure method—it simply encodes data into a readable format. Anyone can decode it easily. In contrast, encryption scrambles data using keys, making it secure and unreadable without proper decryption."
   ]
  }
 ],
 "metadata": {
  "kernelspec": {
   "display_name": ".venv",
   "language": "python",
   "name": "python3"
  },
  "language_info": {
   "codemirror_mode": {
    "name": "ipython",
    "version": 3
   },
   "file_extension": ".py",
   "mimetype": "text/x-python",
   "name": "python",
   "nbconvert_exporter": "python",
   "pygments_lexer": "ipython3",
   "version": "3.12.5"
  }
 },
 "nbformat": 4,
 "nbformat_minor": 5
}
