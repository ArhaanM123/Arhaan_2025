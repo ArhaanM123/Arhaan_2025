{
 "cells": [
  {
   "cell_type": "raw",
   "metadata": {
    "vscode": {
     "languageId": "raw"
    }
   },
   "source": [
    "---\n",
    "layout: post\n",
    "title: Lists Popcorn Hacks\n",
    "description: Popcorn Hacks for Lists\n",
    "categories: [Python]\n",
    "permalink: /3.2/Data/Abstraction/Hw\n",
    "menu: nav/tools_setup.html\n",
    "toc: true\n",
    "comments: true"
   ]
  },
  {
   "cell_type": "markdown",
   "metadata": {},
   "source": [
    "## Homework Hack #1"
   ]
  },
  {
   "cell_type": "code",
   "execution_count": null,
   "metadata": {},
   "outputs": [],
   "source": [
    "# Part 1: Create a Profile Information (dict)\n",
    "profile = {\n",
    "    \"name\": \"Arhaan\",\n",
    "    \"age\": 15,\n",
    "    \"city\": \"New York\",\n",
    "    \"favorite_color\": \"Blue\"\n",
    "}\n",
    "print(\"Profile Information:\", profile)\n",
    "\n",
    "# Part 2: Create a List of Hobbies (list)\n",
    "hobbies = [\"reading\", \"cycling\", \"coding\"]\n",
    "print(\"Hobbies:\", hobbies)\n",
    "\n",
    "# Part 3: Add Hobbies to Profile (dict and list)\n",
    "profile[\"hobbies\"] = hobbies\n",
    "print(\"Updated Profile with Hobbies:\", profile)\n",
    "\n",
    "# Part 4: Check Availability of a Hobby (bool)\n",
    "chosen_hobby = \"cycling\"\n",
    "has_hobby = True  # Set to True if \"cycling\" is available today\n",
    "print(f\"Is '{chosen_hobby}' available today? {has_hobby}\")\n",
    "\n",
    "# Part 5: Total Number of Hobbies (int)\n",
    "total_hobbies = len(hobbies)\n",
    "print(f\"I have {total_hobbies} hobbies.\")\n",
    "\n",
    "# Part 6: Favorite Hobbies (tuple)\n",
    "favorite_hobbies = (\"reading\", \"coding\")\n",
    "print(\"Favorite Hobbies:\", favorite_hobbies)\n",
    "\n",
    "# Part 7: Add a New Item to Your Profile (set)\n",
    "skills = {\"problem-solving\", \"programming\", \"public speaking\"}\n",
    "print(\"Skills:\", skills)\n",
    "\n",
    "# Part 8: Decide to Add a New Skill (NoneType)\n",
    "new_skill = None  # Undecided new skill\n",
    "print(\"New Skill:\", new_skill)\n",
    "\n",
    "# Part 9: Calculate Total Profile Cost (float)\n",
    "hobby_cost = 5\n",
    "skill_cost = 10\n",
    "total_cost = (total_hobbies * hobby_cost) + (len(skills) * skill_cost)\n",
    "print(f\"Total Profile Cost: ${total_cost:.2f}\")\n"
   ]
  },
  {
   "cell_type": "code",
   "execution_count": null,
   "metadata": {
    "vscode": {
     "languageId": "javascript"
    }
   },
   "outputs": [],
   "source": [
    "%%js\n",
    "// Part 1: Create a Profile Information (object)\n",
    "let profile = {\n",
    "    name: \"Arhaan\",\n",
    "    age: 15,\n",
    "    city: \"New York\",\n",
    "    favorite_color: \"Blue\"\n",
    "};\n",
    "console.log(\"Profile Information:\", profile);\n",
    "\n",
    "// Part 2: Create a List of Hobbies (array)\n",
    "let hobbies = [\"reading\", \"cycling\", \"coding\"];\n",
    "console.log(\"Hobbies:\", hobbies);\n",
    "\n",
    "// Part 3: Add Hobbies to Profile (object and array)\n",
    "profile.hobbies = hobbies;\n",
    "console.log(\"Updated Profile with Hobbies:\", profile);\n",
    "\n",
    "// Part 4: Check Availability of a Hobby (boolean)\n",
    "let chosenHobby = \"cycling\";\n",
    "let hasHobby = true;  // Set to true if \"cycling\" is available today\n",
    "console.log(`Is '${chosenHobby}' available today? ${hasHobby}`);\n",
    "\n",
    "// Part 5: Total Number of Hobbies (integer)\n",
    "let totalHobbies = hobbies.length;\n",
    "console.log(`I have ${totalHobbies} hobbies.`);\n",
    "\n",
    "// Part 6: Favorite Hobbies (array as tuple equivalent in JavaScript)\n",
    "let favoriteHobbies = [\"reading\", \"coding\"];\n",
    "console.log(\"Favorite Hobbies:\", favoriteHobbies);\n",
    "\n",
    "// Part 7: Add a New Item to Your Profile (set)\n",
    "let skills = new Set([\"problem-solving\", \"programming\", \"public speaking\"]);\n",
    "console.log(\"Skills:\", Array.from(skills));\n",
    "\n",
    "// Part 8: Decide to Add a New Skill (null)\n",
    "let newSkill = null;  // Undecided new skill\n",
    "console.log(\"New Skill:\", newSkill);\n",
    "\n",
    "// Part 9: Calculate Total Profile Cost (float)\n",
    "let hobbyCost = 5;\n",
    "let skillCost = 10;\n",
    "let totalCost = (totalHobbies * hobbyCost) + (skills.size * skillCost);\n",
    "console.log(`Total Profile Cost: $${totalCost.toFixed(2)}`);\n"
   ]
  }
 ],
 "metadata": {
  "language_info": {
   "name": "python"
  }
 },
 "nbformat": 4,
 "nbformat_minor": 2
}
