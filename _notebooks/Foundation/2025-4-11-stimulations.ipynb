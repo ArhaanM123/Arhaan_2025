{
 "cells": [
  {
   "cell_type": "raw",
   "metadata": {
    "vscode": {
     "languageId": "raw"
    }
   },
   "source": [
    "---\n",
    "layout: post\n",
    "title:  Stimulations \n",
    "description: popcorn and homework hacks for Stimulations\n",
    "permalink: /stimulations/\n",
    "menu: nav/tools_setup.html\n",
    "toc: true\n",
    "comments: true \n",
    "---"
   ]
  },
  {
   "cell_type": "markdown",
   "metadata": {
    "vscode": {
     "languageId": "raw"
    }
   },
   "source": [
    "**Popcorn Hack #1: Brainstorm**\n",
    "- What do you think a random algorithm is? What would be reason to use random algorithms in real-life coding situations? What kind of questions do you think College Board will ask regarding Random Algorithms?\n",
    "\n",
    "- A random algorithm is a set of steps in coding that uses chance or unpredictability to make decisions or create results. Instead of doing the same thing every time, it might choose a different path each time it runs. Random algorithms can be helpful in real-life coding for things like creating games, shuffling music playlists, or generating passwords. They make programs less predictable and more dynamic. The College Board might ask questions about how random algorithms work, when to use them, or how they affect the output of a program. They could also give code and ask you to figure out the possible outcomes.\n",
    "\n"
   ]
  },
  {
   "cell_type": "markdown",
   "metadata": {},
   "source": [
    "**Popcorn Hack #2**\n",
    "- Copy and Paste this code into a Python cell in your jupyter notebook, change the types of activities, and see which activity you created gets chosen. Once everyone is done, share your results!"
   ]
  },
  {
   "cell_type": "code",
   "execution_count": 14,
   "metadata": {},
   "outputs": [
    {
     "name": "stdout",
     "output_type": "stream",
     "text": [
      "Today’s random activity: Watch a science video\n"
     ]
    }
   ],
   "source": [
    "# Step 1: Define a list of activities (you can change these!)\n",
    "import random\n",
    "\n",
    "\n",
    "activities = [\n",
    "    'Play basketball', \n",
    "    'Practice coding', \n",
    "    'Take a walk outside', \n",
    "    'Do 10 push-ups', \n",
    "    'Watch a science video', \n",
    "    'Organize your room', \n",
    "    'Learn a new dance move', \n",
    "    'Read a comic book', \n",
    "    'Try drawing something cool', \n",
    "    'Listen to a podcast', \n",
    "    'Finish your homework early!'\n",
    "]\n",
    "\n",
    "# Step 2: Randomly choose an activity\n",
    "random_activity = random.choice(activities)\n",
    "\n",
    "# Step 3: Display the chosen activity\n",
    "print(f\"Today’s random activity: {random_activity}\")"
   ]
  },
  {
   "cell_type": "markdown",
   "metadata": {},
   "source": [
    "**Popcorn Hack #3**\n",
    "You and your team are hosting a party. With your team, make a random algorithm to help them decide which person should monitor which activity. Copy and Paste this code into a Python cell in your jupyter notebook, change the names and types of activities, and see which gets chosen."
   ]
  },
  {
   "cell_type": "code",
   "execution_count": 15,
   "metadata": {},
   "outputs": [
    {
     "name": "stdout",
     "output_type": "stream",
     "text": [
      "Arhaan will be monitoring bean bags!\n",
      "Manas will be monitoring code, code, code!\n",
      "Ahaan will be monitoring hide n seek!\n",
      "Ahmad will be monitoring buffet!\n",
      "Arnav will be monitoring sports!\n"
     ]
    }
   ],
   "source": [
    "# Popcorn Hack Number 3: Using a loops in random\n",
    "# This popcorn hack assigns an activity to each person\n",
    "import random\n",
    "hosts = ['Arhaan', 'Manas', 'Ahaan', 'Ahmad', 'Arnav']\n",
    "activities = ['sports', 'bean bags', 'buffet', 'code, code, code', 'hide n seek']\n",
    "# Randomly shuffle the list of activities to assign them randomly to the guests\n",
    "random.shuffle(activities)\n",
    "# Loop through each guest and assign them a random activity\n",
    "for i in range(len(hosts)):\n",
    "    print(f\"{hosts[i]} will be monitoring {activities[i]}!\")"
   ]
  },
  {
   "cell_type": "markdown",
   "metadata": {},
   "source": [
    "**College Board Application: Looking at MCQ’s**\n",
    "Let’s look at some previous questions from College Board regarding Big Idea 3.15 Random Values.\n",
    "\n",
    "- I picked the answer C because 3 is not a possible answer as the first value in the code has to be equal or less than 2 meaning 3 cannot be the first value"
   ]
  },
  {
   "cell_type": "markdown",
   "metadata": {},
   "source": [
    "**Science experiment with 75 percent successful trials**\n",
    "- Which of the following can be used to replace < MISSING CODE > so that the simulation works as intended?\n",
    "\n",
    "A: RANDOM, open parenthesis 1 comma 100, close parenthesis, equals 25\n",
    "\n",
    "B: RANDOM, open parenthesis 1 comma 100, close parenthesis, is less than or equal to 25\n",
    "\n",
    "C: RANDOM, open parenthesis 1 comma 100, close parenthesis, equals 75\n",
    "\n",
    "**D: RANDOM, open parenthesis 1 comma 100, close parenthesis, is less than or equal to 75**\n",
    "\n",
    "- This simulation is trying to model a science experiment where 75% of trials are successful and 25% are unsuccessful. To simulate that, we use random numbers from 1 to 100—this gives us 100 possible outcomes, which makes percentages easy to work with.\n"
   ]
  },
  {
   "cell_type": "markdown",
   "metadata": {
    "vscode": {
     "languageId": "raw"
    }
   },
   "source": [
    "**Popcorn Hack 1**\n",
    "- Instead of a dice roll, this time let’s create a number spinner. Use the set up of the dice roll example to simulate a number spinner. Create whatever range of numbers you want and share your range and output with the class when finished!\n",
    "\n"
   ]
  },
  {
   "cell_type": "code",
   "execution_count": 16,
   "metadata": {},
   "outputs": [
    {
     "name": "stdout",
     "output_type": "stream",
     "text": [
      "Spinner landed on: 19\n"
     ]
    }
   ],
   "source": [
    "import random\n",
    "\n",
    "def spin_number():\n",
    "    return random.randint(1, 20)  # You can change this range!\n",
    "\n",
    "spinner_result = spin_number()\n",
    "print(\"Spinner landed on:\", spinner_result)"
   ]
  },
  {
   "cell_type": "markdown",
   "metadata": {},
   "source": [
    "**Popcorn Hack #2**\n",
    "Use the same code from the Rock, Paper, Scissors simulation. Run the cell in your notebook and when prompted to, type out your choice of the three moves. Share your output with the class!\n",
    "\n"
   ]
  },
  {
   "cell_type": "code",
   "execution_count": 17,
   "metadata": {},
   "outputs": [
    {
     "name": "stdout",
     "output_type": "stream",
     "text": [
      "Computer chose: scissors\n",
      "You chose: paper\n",
      "You lose!\n"
     ]
    }
   ],
   "source": [
    "import random\n",
    "\n",
    "def play_rock_paper_scissors():\n",
    "    choices = ['rock', 'paper', 'scissors']\n",
    "    computer_choice = random.choice(choices)\n",
    "    user_choice = input(\"Enter your choice (rock, paper, or scissors): \")\n",
    "\n",
    "    if user_choice not in choices:\n",
    "        print(\"Invalid choice. Please try again.\")\n",
    "        return\n",
    "\n",
    "    print(\"Computer chose:\", computer_choice)\n",
    "    print(\"You chose:\", user_choice)\n",
    "\n",
    "    if user_choice == computer_choice:\n",
    "        print(\"It's a tie!\")\n",
    "    elif (user_choice == 'rock' and computer_choice == 'scissors') or \\\n",
    "         (user_choice == 'paper' and computer_choice == 'rock') or \\\n",
    "         (user_choice == 'scissors' and computer_choice == 'paper'):\n",
    "        print(\"You win!\")\n",
    "    else:\n",
    "        print(\"You lose!\")\n",
    "\n",
    "play_rock_paper_scissors()\n"
   ]
  },
  {
   "cell_type": "markdown",
   "metadata": {},
   "source": [
    "**Which of the following strategies is LEAST likely to provide a more accurate prediction?**\n",
    "\n",
    "A: Gathering data for additional years to try to identify patterns in birth rates\n",
    "\n",
    "B: Refining the model used in the computer simulation to more closely reflect the data from the past ten years\n",
    "\n",
    "**C: Removing as many details from the model as possible so that calculations can be performed quickly**\n",
    "\n",
    "D: Taking into consideration more information about the community, such as the ages of residents\n",
    "\n",
    "- Removing details from a model might make it run faster, but it also makes the prediction less accurate because it ignores important information. To improve predictions, models need more relevant data, not less. That’s why C is the least likely to help make better predictions."
   ]
  },
  {
   "cell_type": "markdown",
   "metadata": {},
   "source": [
    "**Based on the code, which of the following assumptions is made in the simulation?**\n",
    "\n",
    "A: The number of mice increases by 1 each day.\n",
    "\n",
    "B: The number of mice does not change from day to day.\n",
    "\n",
    "C: The number of predators increases by 1 each day.\n",
    "\n",
    "**D: The number of predators does not change from day to day.**\n",
    "\n",
    "- The correct answer is D because the number of predators is set once at the beginning and is never updated in the loop. Since the code doesn’t change numPredators during the 365 days, it stays the same the whole time."
   ]
  },
  {
   "cell_type": "markdown",
   "metadata": {},
   "source": [
    "**Homework Hack 1 - Random Algorithms — Homework Hack 1: Random Team Assignment**"
   ]
  },
  {
   "cell_type": "code",
   "execution_count": 18,
   "metadata": {},
   "outputs": [
    {
     "name": "stdout",
     "output_type": "stream",
     "text": [
      "\n",
      "Team Thunder:\n",
      " - Drew\n",
      " - Skyler\n",
      " - Reese\n",
      "\n",
      "Team Blaze:\n",
      " - Alex\n",
      " - Morgan\n",
      " - Peyton\n",
      " - Quinn\n",
      " - Rowan\n",
      "\n",
      "Team Galaxy:\n",
      " - Jordan\n",
      " - Taylor\n",
      " - Casey\n",
      " - Jamie\n",
      " - Riley\n",
      " - Cameron\n",
      " - Avery\n"
     ]
    }
   ],
   "source": [
    "import random\n",
    "\n",
    "students = [\n",
    "    \"Alex\", \"Jordan\", \"Taylor\", \"Morgan\", \"Casey\",\n",
    "    \"Jamie\", \"Riley\", \"Cameron\", \"Drew\", \"Skyler\",\n",
    "    \"Avery\", \"Peyton\", \"Quinn\", \"Reese\", \"Rowan\"\n",
    "]\n",
    "\n",
    "teams = {\n",
    "    \"Team Thunder\": [],\n",
    "    \"Team Blaze\": [],\n",
    "    \"Team Galaxy\": []\n",
    "}\n",
    "\n",
    "team_names = list(teams.keys())\n",
    "\n",
    "for student in students:\n",
    "    random_team = random.choice(team_names)\n",
    "    teams[random_team].append(student)\n",
    "\n",
    "# Print results\n",
    "for team, members in teams.items():\n",
    "    print(f\"\\n{team}:\")\n",
    "    for member in members:\n",
    "        print(f\" - {member}\")\n"
   ]
  },
  {
   "cell_type": "markdown",
   "metadata": {},
   "source": [
    "**Homeowrk Hack 2 - Random Algorithms — Homework Hack 2: Random Weather Generator**"
   ]
  },
  {
   "cell_type": "code",
   "execution_count": 19,
   "metadata": {},
   "outputs": [
    {
     "name": "stdout",
     "output_type": "stream",
     "text": [
      "7-Day Weather Forecast:\n",
      "\n",
      "Monday: Cloudy\n",
      "Tuesday: Cloudy\n",
      "Wednesday: Cloudy\n",
      "Thursday: Cloudy\n",
      "Friday: Cloudy\n",
      "Saturday: Rainy\n",
      "Sunday: Cloudy\n"
     ]
    }
   ],
   "source": [
    "import random\n",
    "\n",
    "weather_types = [\"Sunny\", \"Cloudy\", \"Rainy\"]\n",
    "days = [\"Monday\", \"Tuesday\", \"Wednesday\", \"Thursday\", \"Friday\", \"Saturday\", \"Sunday\"]\n",
    "\n",
    "print(\"7-Day Weather Forecast:\\n\")\n",
    "\n",
    "for day in days:\n",
    "    forecast = random.choice(weather_types)\n",
    "    print(f\"{day}: {forecast}\")\n"
   ]
  },
  {
   "cell_type": "markdown",
   "metadata": {},
   "source": [
    "**Homework Hack 3 - Simulations — Coffee Shop Queue**"
   ]
  },
  {
   "cell_type": "code",
   "execution_count": 20,
   "metadata": {},
   "outputs": [
    {
     "name": "stdout",
     "output_type": "stream",
     "text": [
      "Coffee Shop Queue Simulation:\n",
      "\n",
      "Customer 1 was served in 1 minutes.\n",
      "Customer 2 was served in 2 minutes.\n",
      "Customer 3 was served in 2 minutes.\n",
      "Customer 4 was served in 3 minutes.\n",
      "Customer 5 was served in 3 minutes.\n",
      "\n",
      "Total time to serve all customers: 11 minutes.\n"
     ]
    }
   ],
   "source": [
    "import random\n",
    "\n",
    "customers = [\"Customer 1\", \"Customer 2\", \"Customer 3\", \"Customer 4\", \"Customer 5\"]\n",
    "total_time = 0\n",
    "\n",
    "print(\"Coffee Shop Queue Simulation:\\n\")\n",
    "\n",
    "for customer in customers:\n",
    "    service_time = random.randint(1, 5)\n",
    "    total_time += service_time\n",
    "    print(f\"{customer} was served in {service_time} minutes.\")\n",
    "\n",
    "print(f\"\\nTotal time to serve all customers: {total_time} minutes.\")\n"
   ]
  }
 ],
 "metadata": {
  "kernelspec": {
   "display_name": ".venv",
   "language": "python",
   "name": "python3"
  },
  "language_info": {
   "codemirror_mode": {
    "name": "ipython",
    "version": 3
   },
   "file_extension": ".py",
   "mimetype": "text/x-python",
   "name": "python",
   "nbconvert_exporter": "python",
   "pygments_lexer": "ipython3",
   "version": "3.12.5"
  }
 },
 "nbformat": 4,
 "nbformat_minor": 2
}
