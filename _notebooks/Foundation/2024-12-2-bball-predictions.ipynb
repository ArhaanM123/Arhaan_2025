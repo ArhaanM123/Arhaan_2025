{
 "cells": [
  {
   "cell_type": "raw",
   "metadata": {
    "vscode": {
     "languageId": "raw"
    }
   },
   "source": [
    "---\n",
    "layout: post\n",
    "title: Bball predictions\n",
    "description: Summary showing my understanding for the lesson. \n",
    "categories: [Python]\n",
    "permalink: /bball/predictions\n",
    "menu: nav/tools_setup.html\n",
    "toc: true\n",
    "comments: true"
   ]
  },
  {
   "cell_type": "code",
   "execution_count": 2,
   "metadata": {},
   "outputs": [
    {
     "ename": "ModuleNotFoundError",
     "evalue": "No module named 'pandas'",
     "output_type": "error",
     "traceback": [
      "\u001b[0;31m---------------------------------------------------------------------------\u001b[0m",
      "\u001b[0;31mModuleNotFoundError\u001b[0m                       Traceback (most recent call last)",
      "Cell \u001b[0;32mIn[2], line 1\u001b[0m\n\u001b[0;32m----> 1\u001b[0m \u001b[38;5;28;01mimport\u001b[39;00m \u001b[38;5;21;01mpandas\u001b[39;00m \u001b[38;5;28;01mas\u001b[39;00m \u001b[38;5;21;01mpd\u001b[39;00m\n\u001b[1;32m      2\u001b[0m \u001b[38;5;28;01mimport\u001b[39;00m \u001b[38;5;21;01mnumpy\u001b[39;00m \u001b[38;5;28;01mas\u001b[39;00m \u001b[38;5;21;01mnp\u001b[39;00m\n\u001b[1;32m      3\u001b[0m \u001b[38;5;28;01mfrom\u001b[39;00m \u001b[38;5;21;01msklearn\u001b[39;00m\u001b[38;5;21;01m.\u001b[39;00m\u001b[38;5;21;01mensemble\u001b[39;00m \u001b[38;5;28;01mimport\u001b[39;00m RandomForestClassifier\n",
      "\u001b[0;31mModuleNotFoundError\u001b[0m: No module named 'pandas'"
     ]
    }
   ],
   "source": [
    "import pandas as pd\n",
    "import numpy as np\n",
    "from sklearn.ensemble import RandomForestClassifier\n",
    "\n",
    "# Simulated NBA teams data\n",
    "nba_teams_data = {\n",
    "    'Team': [\n",
    "        'Boston Celtics', 'Milwaukee Bucks', 'Philadelphia 76ers', 'Miami Heat', 'Cleveland Cavaliers',\n",
    "        'New York Knicks', 'Brooklyn Nets', 'Atlanta Hawks', 'Chicago Bulls', 'Toronto Raptors',\n",
    "        'Golden State Warriors', 'Phoenix Suns', 'Denver Nuggets', 'Los Angeles Lakers', 'Memphis Grizzlies',\n",
    "        'Dallas Mavericks', 'Sacramento Kings', 'Los Angeles Clippers', 'Portland Trail Blazers', 'Utah Jazz',\n",
    "        'New Orleans Pelicans', 'Minnesota Timberwolves', 'Oklahoma City Thunder', 'Houston Rockets',\n",
    "        'San Antonio Spurs', 'Indiana Pacers', 'Detroit Pistons', 'Orlando Magic', 'Washington Wizards', 'Charlotte Hornets'\n",
    "    ],\n",
    "    'Win_Loss_Ratio': np.random.uniform(0.3, 0.8, 30),\n",
    "    'Offensive_Rating': np.random.randint(100, 120, 30),\n",
    "    'Defensive_Rating': np.random.randint(100, 120, 30),\n",
    "    'Player_Efficiency': np.random.randint(15, 30, 30),\n",
    "    'Injuries': np.random.randint(0, 15, 30),\n",
    "    'Playoff_Last_Season': np.random.choice([1, 0], 30, p=[0.5, 0.5]),\n",
    "}\n",
    "\n",
    "# Create a DataFrame\n",
    "nba_teams_df = pd.DataFrame(nba_teams_data)\n",
    "\n",
    "# Simulate a model for playoff predictions\n",
    "rf_model = RandomForestClassifier(random_state=42)\n",
    "# Fake training data (For actual predictions, you'd use real data)\n",
    "X_fake = np.random.rand(30, 6)\n",
    "y_fake = np.random.choice([0, 1], 30)\n",
    "rf_model.fit(X_fake, y_fake)\n",
    "\n",
    "# Predict playoff chances\n",
    "X_teams = nba_teams_df[['Win_Loss_Ratio', 'Offensive_Rating', 'Defensive_Rating', 'Player_Efficiency', 'Injuries', 'Playoff_Last_Season']]\n",
    "nba_teams_df['Predicted_Playoff'] = rf_model.predict(X_teams)\n",
    "\n",
    "# Save to Excel\n",
    "file_path = 'NBA_Playoff_Predictions_2025.xlsx'\n",
    "nba_teams_df.to_excel(file_path, index=False)\n",
    "print(f\"File saved as {file_path}\")\n"
   ]
  }
 ],
 "metadata": {
  "kernelspec": {
   "display_name": "Python 3",
   "language": "python",
   "name": "python3"
  },
  "language_info": {
   "codemirror_mode": {
    "name": "ipython",
    "version": 3
   },
   "file_extension": ".py",
   "mimetype": "text/x-python",
   "name": "python",
   "nbconvert_exporter": "python",
   "pygments_lexer": "ipython3",
   "version": "3.12.5"
  }
 },
 "nbformat": 4,
 "nbformat_minor": 2
}
