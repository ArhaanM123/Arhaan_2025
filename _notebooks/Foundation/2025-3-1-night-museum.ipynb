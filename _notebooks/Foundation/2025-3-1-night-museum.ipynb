{
 "cells": [
  {
   "cell_type": "raw",
   "metadata": {
    "vscode": {
     "languageId": "raw"
    }
   },
   "source": [
    "---\n",
    "layout: post\n",
    "title: N@TM Blog and experience\n",
    "description: Complete experience of N@TM\n",
    "permalink: /night/museum\n",
    "menu: nav/tools_setup.html\n",
    "toc: true\n",
    "comments: true \n",
    "---\n",
    "\n"
   ]
  },
  {
   "cell_type": "markdown",
   "metadata": {},
   "source": [
    "# Night at the Museum - Exploring Innovative Crypto Trading Platform - CSA\n",
    "\n",
    "\n",
    "At Night at the Museum, I got to check out this really cool crypto project. The team built a website where you can practice buying and selling different cryptocurrencies without using real money. What I thought was super interesting was their crypto mining feature - they showed different graphics cards you could use for mining and had graphs that showed how much money you could make or lose. The best part was how they made everything easy to understand. Their homepage shows the top crypto prices with graphs that move in real-time, and you can pick how much you want to invest in any crypto you're interested in. They also included tools that help you figure out if mining crypto would be worth it, considering stuff like electricity costs and which graphics cards work best. They could work on simplifying the website a bit for users to navigate a little easier\n",
    "\n",
    "<img src=\"../images/crypto.jpeg\" alt=\"Crypto Blog\" width=\"300\">"
   ]
  },
  {
   "cell_type": "markdown",
   "metadata": {},
   "source": [
    "# Night at the Museum - Exploring the Platformer 4X Game - CSSE \n",
    "\n",
    "At Night at the Museum, I had the chance to play Platformer 4X, a creative and challenging game where players navigate through levels by jumping, dodging obstacles, and collecting points. The game stood out for its smooth and responsive controls, making it easy to pick up but still offering a challenge. The level designs were unique, increasing in difficulty and keeping the gameplay fresh. One of the best features was the leaderboard system, which lets players compete for high scores, adding a fun and competitive element. The animations and visual effects were simple but effective, making the game feel polished. However, a few areas could be improved, such as enhancing the background and UI, adjusting the jump physics for smoother movement, and possibly adding more enemy types or power-ups to keep things exciting.\n",
    "\n",
    "<img src=\"../images/platformer.png\" alt=\"Platformer\" width=\"300\">"
   ]
  },
  {
   "cell_type": "markdown",
   "metadata": {
    "vscode": {
     "languageId": "raw"
    }
   },
   "source": [
    "# Exploring Neptune: A Club Hub for Students - CSP\n",
    "\n",
    "At Night at the Museum, I explored Neptune, a website that helps students find and join clubs easily. The site has a clean design and smooth navigation, making it simple to browse clubs, read descriptions, and find contact info. A great feature is the  leadership application system, which allows students to apply for positions directly. One improvement could be adding a more engaging theme to make the site visually appealing. The club pages could also be more interactive, with features like event updates or messaging. A personalized recommendation system based on student interests would also be a useful addition. Overall, Neptune is a great tool for organizing student involvement. With a few design updates and extra features, it could be even better! \n",
    "\n",
    "<img src=\"../images/neptune.jpeg\" alt=\"Neptune\" width=\"300\">"
   ]
  },
  {
   "cell_type": "markdown",
   "metadata": {},
   "source": [
    "# Our Presentatiom\n",
    "\n",
    "<img src=\"../images/pres1.png\" alt=\"Pres 1\" width=\"500\">\n",
    "\n",
    "<img src=\"../images/pres2.png\" alt=\"Pres 2\" width=\"500\">\n",
    "\n",
    "\n",
    "## Reviews from others(12 reviews)\n",
    "\n",
    "My group got the chance to present our own project, InterTravel, to many parents and other students. Our project is a travel planner to help simplify travelling for users.\n",
    "\n",
    "We created a Google Form and had people enter feedback and answer questions. On average from 12 responses, we receieved a score of…\n",
    "\n",
    "- Uniqueness - 4.42/5\n",
    "- Website attractions - 3.92/5 \n",
    "- easiness to understand the demo - 4.42/5 \n",
    "- serving the purpose of simplifying travel - 4.67/5 \n",
    "\n",
    "\n",
    "### Some people said we could improve by…\n",
    "\n",
    "“very nice site but maybe explain a little basic backend”\n",
    "“More Color would be inviting and aesthetic”\n",
    "“add the address to each location like hotels”\n",
    "“I think admins shouldn’t be able to delete review"
   ]
  }
 ],
 "metadata": {
  "language_info": {
   "name": "python"
  }
 },
 "nbformat": 4,
 "nbformat_minor": 2
}
