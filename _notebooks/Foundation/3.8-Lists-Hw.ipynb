{
 "cells": [
  {
   "cell_type": "raw",
   "metadata": {
    "vscode": {
     "languageId": "raw"
    }
   },
   "source": [
    "---\n",
    "layout: post\n",
    "title: Lists Homework\n",
    "description: Homework Hacks for Lists\n",
    "categories: [Python]\n",
    "permalink: /3.8/Lists/Hw\n",
    "menu: nav/tools_setup.html\n",
    "toc: true\n",
    "comments: true"
   ]
  },
  {
   "cell_type": "markdown",
   "metadata": {},
   "source": []
  },
  {
   "cell_type": "markdown",
   "metadata": {},
   "source": [
    "## Homework\n",
    "\n",
    "Try to add in two of the loops into your code, one in python and one in javascript.\n",
    "\n",
    "This will help build your understanding on loops in both javascript and python\n",
    "\n",
    "Additionally, try looping through a dictionary in order to be more creative with your code and personalize it"
   ]
  },
  {
   "cell_type": "code",
   "execution_count": null,
   "metadata": {},
   "outputs": [],
   "source": [
    "data_list = [\"glowing unicorn\", \"singing cactus\", 1234567, \"spinning pizza\", \"mystical owl\", 2.71828, \"robot llama\", \"giant marshmallow\"]\n",
    "\n",
    "print(\"List:\", data_list)\n",
    "\n",
    "try:\n",
    "    index = int(input(\"Enter the index to remove: \"))\n",
    "    if 0 <= index < len(data_list):\n",
    "        print(\"Removed:\", data_list.pop(index))\n",
    "    else:\n",
    "        print(\"Invalid index.\")\n",
    "except ValueError:\n",
    "    print(\"Please enter a valid number.\")\n",
    "\n",
    "print(\"Updated list:\", data_list)\n"
   ]
  },
  {
   "cell_type": "code",
   "execution_count": 3,
   "metadata": {
    "vscode": {
     "languageId": "javascript"
    }
   },
   "outputs": [
    {
     "data": {
      "application/javascript": "\nlet data_list = [\"glowing unicorn\", \"singing cactus\", 1234567, \"spinning pizza\", \"mystical owl\", 2.71828, \"robot llama\", \"giant marshmallow\"];\nlet person = { name: 'Arshia', age: 16, favorite_animal: 'penguin' };\n\n// Loop through and print each item in data_list\nconsole.log(\"Items in data_list:\");\nfor (let item of data_list) {\n    console.log(item);\n}\n\n// Loop through person dictionary (keys and values)\nconsole.log(\"\\nPerson details:\");\nfor (let key in person) {\n    console.log(`${key}: ${person[key]}`);\n}\n",
      "text/plain": [
       "<IPython.core.display.Javascript object>"
      ]
     },
     "metadata": {},
     "output_type": "display_data"
    }
   ],
   "source": [
    "%%js\n",
    "\n",
    "let data_list = [\"glowing unicorn\", \"singing cactus\", 1234567, \"spinning pizza\", \"mystical owl\", 2.71828, \"robot llama\", \"giant marshmallow\"];\n",
    "let person = { name: 'Arshia', age: 16, favorite_animal: 'penguin' };\n",
    "\n",
    "// Loop through and print each item in data_list\n",
    "console.log(\"Items in data_list:\");\n",
    "for (let item of data_list) {\n",
    "    console.log(item);\n",
    "}\n",
    "\n",
    "// Loop through person dictionary (keys and values)\n",
    "console.log(\"\\nPerson details:\");\n",
    "for (let key in person) {\n",
    "    console.log(`${key}: ${person[key]}`);\n",
    "}\n"
   ]
  },
  {
   "cell_type": "markdown",
   "metadata": {},
   "source": [
    "# Homework Assignment: Advanced While and Do-While Loop Practice\n",
    "\n",
    "## Task 1: FizzBuzz with a Twist (While Loop)\n",
    "\n",
    "### Objective\n",
    "In this task, you will create a modified version of the classic FizzBuzz game using a while loop. The program should print numbers from 1 to 50 with the following conditions:\n",
    "\n",
    "- For multiples of 3, print “Fizz” instead of the number.\n",
    "- For multiples of 5, print “Buzz” instead of the number.\n",
    "- For numbers divisible by both 3 and 5, print “FizzBuzz”.\n",
    "- For multiples of 7, print “Boom”.\n",
    "\n",
    "### Challenge\n",
    "Modify the range to numbers between 50 and 100 and change the conditions accordingly (e.g., for multiples of 4 instead of 3).\n",
    "\n",
    "### Implementation\n",
    "\n",
    "```python\n",
    "# FizzBuzz with a Twist Implementation\n",
    "number = 1\n",
    "\n",
    "while number <= 50:\n",
    "    output = \"\"\n",
    "    \n",
    "    if number % 3 == 0:\n",
    "        output += \"Fizz\"\n",
    "    if number % 5 == 0:\n",
    "        output += \"Buzz\"\n",
    "    if number % 7 == 0:\n",
    "        output += \"Boom\"\n",
    "    \n",
    "    # If output is still empty, it's just the number\n",
    "    if output == \"\":\n",
    "        output = str(number)\n",
    "    \n",
    "    print(output)\n",
    "    \n",
    "    number += 1\n"
   ]
  },
  {
   "cell_type": "code",
   "execution_count": null,
   "metadata": {},
   "outputs": [],
   "source": [
    "# Challenge: Modified FizzBuzz for numbers 50 to 100\n",
    "number = 50\n",
    "\n",
    "while number <= 100:\n",
    "    output = \"\"\n",
    "    \n",
    "    if number % 4 == 0:\n",
    "        output += \"Fizz\"\n",
    "    if number % 5 == 0:\n",
    "        output += \"Buzz\"\n",
    "    if number % 7 == 0:\n",
    "        output += \"Boom\"\n",
    "    \n",
    "    if output == \"\":\n",
    "        output = str(number)\n",
    "    \n",
    "    print(output)\n",
    "    \n",
    "    number += 1\n"
   ]
  },
  {
   "cell_type": "code",
   "execution_count": null,
   "metadata": {},
   "outputs": [],
   "source": [
    "# User Authentication System Implementation\n",
    "correct_username = \"admin\"\n",
    "correct_password = \"password123\"\n",
    "\n",
    "attempts_left = 3\n",
    "authenticated = False\n",
    "\n",
    "while attempts_left > 0:\n",
    "    username = input(\"Enter your username: \")\n",
    "    password = input(\"Enter your password: \")\n",
    "\n",
    "    if username == correct_username and password == correct_password:\n",
    "        authenticated = True\n",
    "        print(\"Login successful!\")\n",
    "        break\n",
    "    else:\n",
    "        attempts_left -= 1\n",
    "        print(f\"Incorrect credentials. Attempts left: {attempts_left}\")\n",
    "\n",
    "if not authenticated:\n",
    "    print(\"Account locked due to too many failed attempts.\")\n"
   ]
  },
  {
   "cell_type": "code",
   "execution_count": null,
   "metadata": {},
   "outputs": [],
   "source": [
    "# Enhanced User Authentication System with Password Reset\n",
    "correct_username = \"admin\"\n",
    "correct_password = \"password123\"\n",
    "\n",
    "attempts_left = 3\n",
    "authenticated = False\n",
    "\n",
    "while attempts_left > 0:\n",
    "    username = input(\"Enter your username: \")\n",
    "    password = input(\"Enter your password: \")\n",
    "\n",
    "    if username == correct_username and password == correct_password:\n",
    "        authenticated = True\n",
    "        print(\"Login successful!\")\n",
    "        break\n",
    "    else:\n",
    "        attempts_left -= 1\n",
    "        print(f\"Incorrect credentials. Attempts left: {attempts_left}\")\n",
    "\n",
    "if not authenticated:\n",
    "    print(\"Account locked due to too many failed attempts.\")\n",
    "    reset = input(\"Would you like to reset your password? (yes/no): \").lower()\n",
    "    if reset == \"yes\":\n",
    "        security_answer = input(\"What is your favorite color? \")\n",
    "        if security_answer == \"blue\":  # Example security question\n",
    "            new_password = input(\"Enter a new password: \")\n",
    "            print(\"Your password has been reset successfully.\")\n",
    "        else:\n",
    "            print(\"Incorrect answer. Password reset failed.\")\n"
   ]
  },
  {
   "cell_type": "markdown",
   "metadata": {},
   "source": [
    "# Task Management Program\n",
    "\n",
    "## Objective\n",
    "In this assignment, we will create a simple task management program. The program will allow us to define a list of tasks, display them with their indices, and understand how to use functions and lists in Python.\n",
    "\n",
    "---\n",
    "\n",
    "## Step 1: Define Your Tasks\n",
    "We will start by creating a list of tasks that we want to manage.\n",
    "\n",
    "### Task List\n",
    "```python\n",
    "# Define a list of tasks\n",
    "tasks = [\n",
    "    \"Complete the math homework\",\n",
    "    \"Read chapter 5 of the science book\",\n",
    "    \"Practice Python coding\",\n",
    "    \"Prepare for the history presentation\",\n",
    "    \"Go grocery shopping\"\n",
    "]\n"
   ]
  },
  {
   "cell_type": "code",
   "execution_count": null,
   "metadata": {},
   "outputs": [],
   "source": [
    "def display_tasks(task_list):\n",
    "    print(\"Tasks:\")\n",
    "    for index, task in enumerate(task_list):\n",
    "        print(f\"{index + 1}: {task}\")\n"
   ]
  },
  {
   "cell_type": "code",
   "execution_count": null,
   "metadata": {},
   "outputs": [],
   "source": [
    "# Call the function to display tasks\n",
    "display_tasks(tasks)\n"
   ]
  },
  {
   "cell_type": "markdown",
   "metadata": {},
   "source": [
    "# Loop Examples: Break and Continue\n",
    "\n",
    "In this notebook, we will demonstrate two types of loops: a break loop in JavaScript and a continue loop in Python.\n",
    "\n",
    "---\n",
    "\n",
    "## JavaScript: Break Loop\n",
    "\n",
    "### Objective\n",
    "Create a break loop in JavaScript that increments numbers by 2 and stops when a certain condition is met.\n",
    "\n",
    "### Implementation\n",
    "```javascript\n",
    "// JavaScript: Break Loop\n",
    "for (let i = 0; i <= 20; i += 2) {\n",
    "    console.log(i);\n",
    "    if (i === 10) { // Change this condition as needed to break at a specific number\n",
    "        break; // Break the loop when i equals 10\n",
    "    }\n",
    "}\n"
   ]
  },
  {
   "cell_type": "code",
   "execution_count": null,
   "metadata": {
    "vscode": {
     "languageId": "javascript"
    }
   },
   "outputs": [],
   "source": [
    "// JavaScript: Break Loop\n",
    "for (let i = 0; i <= 20; i += 2) {\n",
    "    console.log(i);\n",
    "    if (i === 10) { // Change this condition as needed to break at a specific number\n",
    "        break; // Break the loop when i equals 10\n",
    "    }\n",
    "}\n"
   ]
  },
  {
   "cell_type": "code",
   "execution_count": null,
   "metadata": {},
   "outputs": [],
   "source": [
    "# Python: Continue Loop\n",
    "for i in range(11):\n",
    "    if i == 5:\n",
    "        continue  # Skip the number 5\n",
    "    print(f\"This number is {i}\")\n"
   ]
  }
 ],
 "metadata": {
  "kernelspec": {
   "display_name": "Python 3",
   "language": "python",
   "name": "python3"
  },
  "language_info": {
   "codemirror_mode": {
    "name": "ipython",
    "version": 3
   },
   "file_extension": ".py",
   "mimetype": "text/x-python",
   "name": "python",
   "nbconvert_exporter": "python",
   "pygments_lexer": "ipython3",
   "version": "3.12.5"
  }
 },
 "nbformat": 4,
 "nbformat_minor": 2
}
