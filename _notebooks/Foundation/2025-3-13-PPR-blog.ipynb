{
 "cells": [
  {
   "cell_type": "raw",
   "metadata": {
    "vscode": {
     "languageId": "raw"
    }
   },
   "source": [
    "---\n",
    "layout: post\n",
    "title: PPR Blog\n",
    "description: My PPR Blog\n",
    "permalink: /PPR/blog\n",
    "menu: nav/tools_setup.html\n",
    "toc: true\n",
    "comments: true \n",
    "---"
   ]
  },
  {
   "cell_type": "markdown",
   "metadata": {},
   "source": [
    "# Issue: Implementing Key Programming Concepts in Flask with SQLite\n",
    "### Description\n",
    "- This issue focuses on implementing key programming concepts using Flask and SQLite, incorporating student-developed procedures and list usage for managing complexity.\n",
    "\n"
   ]
  },
  {
   "cell_type": "markdown",
   "metadata": {},
   "source": [
    "## 1. Student-Developed Procedure Implementation\n",
    "### Procedure Definition\n",
    "- The following function is a student-developed procedure that defines a method to manage waypoints in an SQLite database. This function includes sequencing (logical steps), selection (conditional checks), and iteration (looping through data):\n",
    "\n",
    "### Text Reference:\n",
    "- \"The function defines a method to manage sections, including logical steps for data retrieval, handling errors, and database i- teraction.\"\n",
    "\n",
    "```py\n",
    "class _GETWaypoints(Resource):\n",
    "    @token_required()\n",
    "    def get(self):\n",
    "        \"\"\"\n",
    "        Retrieve a single waypoint by ID or all waypoints if no ID is provided.\n",
    "        \"\"\"\n",
    "        data = request.get_json()\n",
    "        if data is None or 'id' not in data:\n",
    "            waypoints = Waypoints.query.all()\n",
    "            json_waypoints = [waypoint.to_dict() for waypoint in waypoints]\n",
    "            return jsonify(json_waypoints)\n",
    "\n",
    "        waypoints = Waypoints.query.get(data['id'])\n",
    "        if waypoints is None:\n",
    "            return {'message': 'Waypoint not found'}, 404\n",
    "        \n",
    "        json_ready = waypoints.read()\n",
    "        return jsonify(json_ready)\n",
    "```"
   ]
  },
  {
   "cell_type": "markdown",
   "metadata": {},
   "source": [
    "### Procedure Call\n",
    "- Here is where the above procedure is being called in the program when handling a GET request to retrieve waypoints:\n",
    "\n",
    "```js\n",
    "api.add_resource(WaypointAPI._GETWaypoints, '/waypoints')\n",
    "```"
   ]
  },
  {
   "cell_type": "markdown",
   "metadata": {},
   "source": [
    "## 2. List Usage for Managing Complexity\n",
    "\n",
    "### Storing Data in a List\n",
    "\n",
    "- A list is used to store predefined waypoints and their details before inserting them into the SQLite database:\n",
    "\n",
    "```js\n",
    "static_data = [\n",
    "    {\"injury\": \"Sprained Ankle\", \"location\": \"Trailhead A\", \"address\": \"123 Mountain Rd\", \"rating\": 4},\n",
    "    {\"injury\": \"Heat Exhaustion\", \"location\": \"Desert Loop\", \"address\": \"456 Sand Dune Dr\", \"rating\": 3},\n",
    "    {\"injury\": \"Dehydration\", \"location\": \"Canyon Base\", \"address\": \"789 Riverbank St\", \"rating\": 5}\n",
    "]\n",
    "\n",
    "for entry in static_data:\n",
    "    try:\n",
    "        waypointsuser = WaypointsUser(\n",
    "            entry['injury'], entry['location'], entry['address'], entry['rating'], 1\n",
    "        )\n",
    "        waypointsuser.create()\n",
    "    except Exception as e:\n",
    "        print(f\"Error inserting waypoint: {e}\")\n",
    "```"
   ]
  },
  {
   "cell_type": "markdown",
   "metadata": {},
   "source": [
    "### Using Data from the List\n",
    "\n",
    "- This segment demonstrates how the data in the list is used to retrieve waypoints and access multiple elements when fetching and displaying waypoint data:\n",
    "\n",
    "```js\n",
    "waypoints = Waypoints.query.all()\n",
    "json_waypoints = [{\"id\": w.id, \"injury\": w._injury, \"location\": w._location, \"rating\": w._rating} for w in waypoints]\n",
    "```"
   ]
  }
 ],
 "metadata": {
  "language_info": {
   "name": "python"
  }
 },
 "nbformat": 4,
 "nbformat_minor": 2
}
