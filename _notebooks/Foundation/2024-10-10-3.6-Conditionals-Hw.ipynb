{
 "cells": [
  {
   "cell_type": "raw",
   "metadata": {
    "vscode": {
     "languageId": "raw"
    }
   },
   "source": [
    "---\n",
    "layout: post\n",
    "title: Conditinals Homework Hacks\n",
    "description: Homework Hacks for Conditionals\n",
    "categories: [Python]\n",
    "permalink: /3.6/Conditionals//Hw\n",
    "menu: nav/tools_setup.html\n",
    "toc: true\n",
    "comments: true"
   ]
  },
  {
   "cell_type": "markdown",
   "metadata": {},
   "source": [
    "## Homework Hack #1\n"
   ]
  },
  {
   "cell_type": "code",
   "execution_count": 1,
   "metadata": {},
   "outputs": [
    {
     "name": "stdout",
     "output_type": "stream",
     "text": [
      "Hello, arhaan! You are running Python using /opt/homebrew/opt/python@3.12/bin/python3.12.\n",
      "Incorrect. The correct answer is (c) Paris.\n",
      "Correct!\n",
      "Incorrect. The correct answer is (b) Jupiter.\n",
      "Correct!\n",
      "Incorrect. The correct answer is (a) Au.\n",
      "arhaan, you scored 2/5!\n",
      "\n",
      "Homework Hack: Let's try a simple comparison program!\n",
      "The second number (2.0) is larger.\n"
     ]
    }
   ],
   "source": [
    "import sys\n",
    "\n",
    "def question_with_response(prompt):\n",
    "    answer = input(prompt)\n",
    "    return answer\n",
    "\n",
    "questions = 5\n",
    "correct = 0\n",
    "\n",
    "user_name = question_with_response(\"Enter your name: \")\n",
    "print(f'Hello, {user_name}! You are running Python using {sys.executable}.')\n",
    "ready = question_with_response(\"Are you ready to take a general knowledge quiz? (yes/no): \")\n",
    "if ready.lower() != 'yes':\n",
    "    print(\"Come back when you're ready! Goodbye.\")\n",
    "    sys.exit()\n",
    "\n",
    "q1 = question_with_response(\"1. What is the capital of France? (a) Berlin (b) Madrid (c) Paris: \")\n",
    "if q1.lower() == \"c\":\n",
    "    print(\"Correct!\")\n",
    "    correct += 1\n",
    "else:\n",
    "    print(\"Incorrect. The correct answer is (c) Paris.\")\n",
    "\n",
    "q2 = question_with_response(\"2. Who wrote 'Romeo and Juliet'? (a) Mark Twain (b) William Shakespeare (c) Jane Austen: \")\n",
    "if q2.lower() == \"b\":\n",
    "    print(\"Correct!\")\n",
    "    correct += 1\n",
    "else:\n",
    "    print(\"Incorrect. The correct answer is (b) William Shakespeare.\")\n",
    "\n",
    "q3 = question_with_response(\"3. What is the largest planet in our solar system? (a) Earth (b) Jupiter (c) Saturn: \")\n",
    "if q3.lower() == \"b\":\n",
    "    print(\"Correct!\")\n",
    "    correct += 1\n",
    "else:\n",
    "    print(\"Incorrect. The correct answer is (b) Jupiter.\")\n",
    "\n",
    "q4 = question_with_response(\"4. In which year did the Titanic sink? (a) 1912 (b) 1914 (c) 1918: \")\n",
    "if q4.lower() == \"a\":\n",
    "    print(\"Correct!\")\n",
    "    correct += 1\n",
    "else:\n",
    "    print(\"Incorrect. The correct answer is (a) 1912.\")\n",
    "\n",
    "q5 = question_with_response(\"5. What is the chemical symbol for gold? (a) Au (b) Ag (c) Fe: \")\n",
    "if q5.lower() == \"a\":\n",
    "    print(\"Correct!\")\n",
    "    correct += 1\n",
    "else:\n",
    "    print(\"Incorrect. The correct answer is (a) Au.\")\n",
    "\n",
    "print(f'{user_name}, you scored {correct}/{questions}!')\n",
    "\n",
    "print(\"\\nHomework Hack: Let's try a simple comparison program!\")\n",
    "\n",
    "num1 = float(input(\"Enter the first number: \"))\n",
    "num2 = float(input(\"Enter the second number: \"))\n",
    "\n",
    "if num1 == num2:\n",
    "    print(\"Both numbers are equal.\")\n",
    "elif num1 > num2:\n",
    "    print(f\"The first number ({num1}) is larger.\")\n",
    "else:\n",
    "    print(f\"The second number ({num2}) is larger.\")\n"
   ]
  }
 ],
 "metadata": {
  "kernelspec": {
   "display_name": "Python 3",
   "language": "python",
   "name": "python3"
  },
  "language_info": {
   "codemirror_mode": {
    "name": "ipython",
    "version": 3
   },
   "file_extension": ".py",
   "mimetype": "text/x-python",
   "name": "python",
   "nbconvert_exporter": "python",
   "pygments_lexer": "ipython3",
   "version": "3.12.5"
  }
 },
 "nbformat": 4,
 "nbformat_minor": 2
}
