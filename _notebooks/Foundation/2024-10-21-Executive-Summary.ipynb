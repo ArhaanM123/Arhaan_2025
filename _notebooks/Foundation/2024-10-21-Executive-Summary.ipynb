{
 "cells": [
  {
   "cell_type": "raw",
   "metadata": {
    "vscode": {
     "languageId": "raw"
    }
   },
   "source": [
    "---\n",
    "layout: post\n",
    "title: Executive Summary\n",
    "description: Summary showing my understanding for the lesson. \n",
    "categories: [Python]\n",
    "permalink: /Executive/Summary\n",
    "menu: nav/tools_setup.html\n",
    "toc: true\n",
    "comments: true"
   ]
  },
  {
   "cell_type": "markdown",
   "metadata": {},
   "source": [
    "## My final grades\n",
    "\n",
    "- 3.1/3.4 - Our lesson \n",
    "- 3.2 - 0.89\n",
    "- 3.3/3.5 - 0.9\n",
    "- 3.6/3.7 - 0.9\n",
    "- 3.8 - 0.9 \n",
    "- 3.10 - 0.9"
   ]
  },
  {
   "cell_type": "markdown",
   "metadata": {},
   "source": [
    "**Relevancy Checklist**\n",
    "I made this after looking at everyones comments. \n",
    "\n",
    "Assignment | Weightage | Grade | Comments\n",
    "-- | -- | -- | --\n",
    "College Board Coverage | 20 | 0.86 | I don't think my lessons really were fully related to college board as I used other sources for information but overall there was a little bit of relation\n",
    "Python Examples | 15 | 0.9 | My part of the lesson was Javascript but I did a lot of the hacks in python and I think I succeeded on them \n",
    "JavaScript Examples | 15 | 0.9 | I did a great job creating examples and as well completed the hacks in javascript correctly\n",
    "Popcorn Hack Usage | 10 | 0.9 | I created many great popcorn hacks for using for future exams or just a way to understand coding overall in the future. It overall helped me learn as well showing me how their are many different languages in coding. \n",
    "Homework | 10 | 0.9 | Did above and beyond quality work for my submissions\n",
    "Grading Plan | 10 | 0.9 | Grading guidelines and overall plan was done correctly\n",
    "Original and Creative | 10 | 0.9 | Added a video for a better understanding and made tables for our text. \n",
    "Total | 90 | 0.89 | Good effort overall.`\n"
   ]
  },
  {
   "cell_type": "markdown",
   "metadata": {},
   "source": [
    "## My understanding for the lesson\n",
    "\n",
    "I feel like I was not one of the most knowledged person in computer science coming into this class. I had many struggles without learning about the different type of coding laguages such as javascript and python. Once we started pacing ourselves for excellence, I started figuring out how many of the similarites and differences of the languages. An example can be as in python and javascript, most of the coding is similar and the one of the main differences is the code to print the output. \n"
   ]
  },
  {
   "cell_type": "markdown",
   "metadata": {},
   "source": [
    "## Coding Experience \n",
    "\n",
    "My coding learning experience has been really exciting and challenging. I’ve learned how to write code in different languages like Python and JavaScript, and I’m starting to understand how loops, functions, and variables work together to create programs. I’ve also worked on fun projects like games and data entry screens, which have helped me see how coding can be used in real-life situations. Even when I face tough problems, figuring out how to solve them makes me feel accomplished. Overall, coding has taught me how to think logically and be patient while working through problems."
   ]
  },
  {
   "cell_type": "markdown",
   "metadata": {},
   "source": [
    "## Accomplishments\n",
    "\n",
    "### Sprint 1\n",
    "\n",
    "- I personally created and added wonderful things to my about page \n",
    "- I used the coding knowledge I got from the educated lessons our teacher gave to us to create fun games to play on my website\n",
    "- I added a theme to my website to make it look more appealing and satisfiying\n",
    "- I used my knowledge for jupyter notebooks to create different blogs to store the hacks I completed \n",
    "\n",
    "\n",
    "\n",
    "\n",
    "\n",
    "### Sprint 2 \n",
    "\n",
    "- I worked really hard to create my part of the lesson which was 3.1 Variables and Data Types in Javascript \n",
    "- I used many different resources such as college board to improve my understanding for this topic helping me create the lesson \n",
    "- I was a scrum master which gave me many responsiblities.\n",
    "- I could have improved on my speaking and helped the audience understand my lesson. "
   ]
  },
  {
   "cell_type": "markdown",
   "metadata": {},
   "source": [
    "## What we need work on \n",
    "\n",
    "I think I can start by saying that we need to overall stop fully depending on other resources such as ChatGPT as it does not help us understand what we are doing and not letting us try different types of coding ourselves. \n",
    "\n",
    "We also need to communicate with each other a little more as there was a period of time where one of our teammates made a mistake doing their lesson in the wrong language. If we had better communication, we would have no struggles and wasted days."
   ]
  }
 ],
 "metadata": {
  "language_info": {
   "name": "python"
  }
 },
 "nbformat": 4,
 "nbformat_minor": 2
}
