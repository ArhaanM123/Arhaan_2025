{
 "cells": [
  {
   "cell_type": "raw",
   "id": "9b138935",
   "metadata": {
    "vscode": {
     "languageId": "raw"
    }
   },
   "source": [
    "---\n",
    "layout: post\n",
    "title: Logic Gates\n",
    "description: popcorn and homework hacks for Logic Gates\n",
    "permalink: /logic/gates/\n",
    "menu: nav/tools_setup.html\n",
    "toc: true\n",
    "comments: true \n",
    "---"
   ]
  },
  {
   "cell_type": "markdown",
   "id": "28229275",
   "metadata": {},
   "source": [
    "**Popcorn Hack 1**\n",
    "\n",
    "- What are methods of real-world purpose that using logic gates can implement? Explain deeper if using our listed impacts, explaining why this impact is helpful.\n",
    "\n",
    "Logic gates are super important because they are the building blocks of almost all electronics. They help control things like computers, phones, and even traffic lights. For example:\n",
    "\n",
    "- In a computer, logic gates make decisions based on if something is true or false (like if you clicked a button).\n",
    "\n",
    "- In security systems, logic gates can check if both a door is closed and locked before setting the alarm.\n",
    "\n",
    "- In medical devices, logic gates help machines make quick decisions based on multiple sensors (like heart monitors).\n",
    "\n",
    "This impact is helpful because it makes our technology smarter and more reliable. It helps computers solve problems, protects homes, and saves lives by making fast, accurate decisions.\n",
    "\n",
    "**Popcorn Hack 2**\n",
    "- A digital circuit receives three binary inputs: X, Y, and Z. The circuit outputs 1 if and only if X AND Y are both 1, OR Z is 1.\n",
    "\n",
    "Which of the following expressions represents the circuit’s behavior?\n",
    "\n",
    "- A. (X AND Y) OR Z B. X AND (Y OR Z) C. (X OR Y) AND Z D. NOT(X AND Y) OR Z\n",
    "\n",
    "The correct answer is:\n",
    "**A. (X AND Y) OR Z**\n",
    "\n",
    "Explanation:\n",
    "\n",
    "The circuit outputs 1 if X and Y are both 1 → this is X AND Y.\n",
    "\n",
    "Or if Z is 1, no matter what X and Y are → this means OR Z.\n",
    "\n",
    "So, the full behavior is (X AND Y) OR Z."
   ]
  },
  {
   "cell_type": "markdown",
   "id": "3e6a8bae",
   "metadata": {},
   "source": [
    "**Homework Hack 1**"
   ]
  },
  {
   "cell_type": "code",
   "execution_count": 4,
   "id": "4d98234b",
   "metadata": {},
   "outputs": [
    {
     "name": "stdout",
     "output_type": "stream",
     "text": [
      "1\n",
      "0\n",
      "0\n",
      "0\n"
     ]
    }
   ],
   "source": [
    "def secure_entry_system(keycard, pin):\n",
    "    # This function checks if both the keycard and pin are correct (both must be 1)\n",
    "    def AND(a, b):\n",
    "        return a & b  # Using AND logic: only 1 if both a and b are 1\n",
    "\n",
    "    return AND(keycard, pin)\n",
    "\n",
    "# Test cases\n",
    "print(secure_entry_system(1, 1))  # Expected Output: 1 (Access Granted)\n",
    "print(secure_entry_system(0, 1))  # Expected Output: 0 (Access Denied)\n",
    "print(secure_entry_system(1, 0))  # Expected Output: 0 (Access Denied)\n",
    "print(secure_entry_system(0, 0))  # Expected Output: 0 (Access Denied)\n"
   ]
  }
 ],
 "metadata": {
  "kernelspec": {
   "display_name": ".venv",
   "language": "python",
   "name": "python3"
  },
  "language_info": {
   "codemirror_mode": {
    "name": "ipython",
    "version": 3
   },
   "file_extension": ".py",
   "mimetype": "text/x-python",
   "name": "python",
   "nbconvert_exporter": "python",
   "pygments_lexer": "ipython3",
   "version": "3.12.5"
  }
 },
 "nbformat": 4,
 "nbformat_minor": 5
}
