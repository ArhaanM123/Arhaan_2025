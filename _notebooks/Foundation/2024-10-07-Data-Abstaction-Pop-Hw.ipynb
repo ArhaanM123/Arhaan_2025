{
 "cells": [
  {
   "cell_type": "raw",
   "metadata": {
    "vscode": {
     "languageId": "raw"
    }
   },
   "source": [
    "---\n",
    "layout: post\n",
    "title: Data Abstraction Popcorn Hacks\n",
    "description: Popcorn Hacks for Data Abstraction\n",
    "categories: [Python]\n",
    "permalink: /3.2/Data/Abstraction/Pop/Hw\n",
    "menu: nav/tools_setup.html\n",
    "toc: true\n",
    "comments: true"
   ]
  },
  {
   "cell_type": "markdown",
   "metadata": {},
   "source": [
    "## Popcorn Hack #2\n",
    "\n",
    "Create a simple calculator in javascript and python"
   ]
  },
  {
   "cell_type": "code",
   "execution_count": 3,
   "metadata": {
    "vscode": {
     "languageId": "javascript"
    }
   },
   "outputs": [
    {
     "data": {
      "application/javascript": "const prompt = require(\"prompt-sync\")();\n\nconst firstNumber = parseFloat(prompt(\"Enter the first number: \"));\nconst secondNumber = parseFloat(prompt(\"Enter the second number: \"));\nconst operation = prompt(\"Enter the operation (+, -, *, /): \");\n\nlet result;\n\nswitch (operation) {\n  case \"+\":\n    result = firstNumber + secondNumber;\n    break;\n  case \"-\":\n    result = firstNumber - secondNumber;\n    break;\n  case \"*\":\n    result = firstNumber * secondNumber;\n    break;\n  case \"/\":\n    if (secondNumber !== 0) {\n      result = firstNumber / secondNumber;\n    } else {\n      result = \"Error: Division by zero is not allowed.\";\n    }\n    break;\n  default:\n    result = \"Invalid operation!\";\n}\n\nconsole.log(\"The result is:\", result);\n",
      "text/plain": [
       "<IPython.core.display.Javascript object>"
      ]
     },
     "metadata": {},
     "output_type": "display_data"
    }
   ],
   "source": [
    "%%js\n",
    "const prompt = require(\"prompt-sync\")();\n",
    "\n",
    "const firstNumber = parseFloat(prompt(\"Enter the first number: \"));\n",
    "const secondNumber = parseFloat(prompt(\"Enter the second number: \"));\n",
    "const operation = prompt(\"Enter the operation (+, -, *, /): \");\n",
    "\n",
    "let result;\n",
    "\n",
    "switch (operation) {\n",
    "  case \"+\":\n",
    "    result = firstNumber + secondNumber;\n",
    "    break;\n",
    "  case \"-\":\n",
    "    result = firstNumber - secondNumber;\n",
    "    break;\n",
    "  case \"*\":\n",
    "    result = firstNumber * secondNumber;\n",
    "    break;\n",
    "  case \"/\":\n",
    "    if (secondNumber !== 0) {\n",
    "      result = firstNumber / secondNumber;\n",
    "    } else {\n",
    "      result = \"Error: Division by zero is not allowed.\";\n",
    "    }\n",
    "    break;\n",
    "  default:\n",
    "    result = \"Invalid operation!\";\n",
    "}\n",
    "\n",
    "console.log(\"The result is:\", result);\n"
   ]
  },
  {
   "cell_type": "code",
   "execution_count": 5,
   "metadata": {},
   "outputs": [
    {
     "name": "stdout",
     "output_type": "stream",
     "text": [
      "The result is: 4.0\n"
     ]
    }
   ],
   "source": [
    "\n",
    "# Simple calculator in Python\n",
    "\n",
    "first_number = float(input(\"Enter the first number: \"))\n",
    "second_number = float(input(\"Enter the second number: \"))\n",
    "operation = input(\"Enter the operation (+, -, *, /): \")\n",
    "\n",
    "if operation == \"+\":\n",
    "    result = first_number + second_number\n",
    "elif operation == \"-\":\n",
    "    result = first_number - second_number\n",
    "elif operation == \"*\":\n",
    "    result = first_number * second_number\n",
    "elif operation == \"/\":\n",
    "    if second_number != 0:\n",
    "        result = first_number / second_number\n",
    "    else:\n",
    "        result = \"Error: Division by zero is not allowed.\"\n",
    "else:\n",
    "    result = \"Invalid operation!\"\n",
    "\n",
    "print(\"The result is:\", result)\n"
   ]
  },
  {
   "cell_type": "markdown",
   "metadata": {},
   "source": [
    "## Popcorn Hack 3\n",
    "\n",
    "Write a function that takes a list of strings and an integer"
   ]
  },
  {
   "cell_type": "code",
   "execution_count": 10,
   "metadata": {
    "vscode": {
     "languageId": "javascript"
    }
   },
   "outputs": [
    {
     "data": {
      "application/javascript": "function repeatStrings(strings, n) {\n    return strings.map(str => str.repeat(n));\n  }\n  \n  // Example usage:\n  const strings = [\"apple\", \"banana\", \"cherry\"];\n  const n = 3;\n  console.log(repeatStrings(strings, n));\n  // Output: [\"appleappleapple\", \"bananabananabanana\", \"cherrycherrycherry\"]\n  \n",
      "text/plain": [
       "<IPython.core.display.Javascript object>"
      ]
     },
     "metadata": {},
     "output_type": "display_data"
    }
   ],
   "source": [
    "%%js\n",
    "function repeatStrings(strings, n) {\n",
    "    return strings.map(str => str.repeat(n));\n",
    "  }\n",
    "  \n",
    "  // Example usage:\n",
    "  const strings = [\"apple\", \"banana\", \"cherry\"];\n",
    "  const n = 3;\n",
    "  console.log(repeatStrings(strings, n));\n",
    "  // Output: [\"appleappleapple\", \"bananabananabanana\", \"cherrycherrycherry\"]\n",
    "  "
   ]
  },
  {
   "cell_type": "code",
   "execution_count": 8,
   "metadata": {},
   "outputs": [
    {
     "name": "stdout",
     "output_type": "stream",
     "text": [
      "['appleappleapple', 'bananabananabanana', 'cherrycherrycherry']\n"
     ]
    }
   ],
   "source": [
    "##Python\n",
    "def repeat_strings(strings, n):\n",
    "    return [s * n for s in strings]\n",
    "\n",
    "# Example usage:\n",
    "strings = [\"apple\", \"banana\", \"cherry\"]\n",
    "n = 3\n",
    "print(repeat_strings(strings, n))\n",
    "# Output: ['appleappleapple', 'bananabananabanana', 'cherrycherrycherry']\n"
   ]
  },
  {
   "cell_type": "markdown",
   "metadata": {},
   "source": [
    "## Popcorn Hack 4\n",
    "\n",
    "a function that compares two sets, and checks if there is an value within set 2 that is within set 1. If a value from set 2 is in set 1, then return the boolean output ‘True’ . If not, then return the boolean value ‘False’."
   ]
  },
  {
   "cell_type": "code",
   "execution_count": 11,
   "metadata": {
    "vscode": {
     "languageId": "javascript"
    }
   },
   "outputs": [
    {
     "data": {
      "application/javascript": "function hasCommonValue(set1, set2) {\n  return set2.some(value => set1.includes(value));\n}\n\n// Example usage:\nconst set1 = [1, 2, 3, 4, 5];\nconst set2 = [5, 6, 7];\nconsole.log(hasCommonValue(set1, set2)); // Output: true\n\nconst set3 = [8, 9, 10];\nconsole.log(hasCommonValue(set1, set3)); // Output: false\n",
      "text/plain": [
       "<IPython.core.display.Javascript object>"
      ]
     },
     "metadata": {},
     "output_type": "display_data"
    }
   ],
   "source": [
    "%%js\n",
    "function hasCommonValue(set1, set2) {\n",
    "  return set2.some(value => set1.includes(value));\n",
    "}\n",
    "\n",
    "// Example usage:\n",
    "const set1 = [1, 2, 3, 4, 5];\n",
    "const set2 = [5, 6, 7];\n",
    "console.log(hasCommonValue(set1, set2)); // Output: true\n",
    "\n",
    "const set3 = [8, 9, 10];\n",
    "console.log(hasCommonValue(set1, set3)); // Output: false\n"
   ]
  },
  {
   "cell_type": "code",
   "execution_count": 12,
   "metadata": {},
   "outputs": [
    {
     "name": "stdout",
     "output_type": "stream",
     "text": [
      "True\n",
      "False\n"
     ]
    }
   ],
   "source": [
    "#Python\n",
    "\n",
    "def has_common_value(set1, set2):\n",
    "    return any(value in set1 for value in set2)\n",
    "\n",
    "# Example usage:\n",
    "set1 = {1, 2, 3, 4, 5}\n",
    "set2 = {5, 6, 7}\n",
    "print(has_common_value(set1, set2))  # Output: True\n",
    "\n",
    "set3 = {8, 9, 10}\n",
    "print(has_common_value(set1, set3))  # Output: False\n"
   ]
  },
  {
   "cell_type": "markdown",
   "metadata": {},
   "source": [
    "## Popcorn Hack 1\n",
    "\n",
    "Abstract keys of bananas, apples, and pears, and assign them to numbers 1, 2 and 3 in the most effective way"
   ]
  },
  {
   "cell_type": "code",
   "execution_count": 13,
   "metadata": {
    "vscode": {
     "languageId": "javascript"
    }
   },
   "outputs": [
    {
     "data": {
      "application/javascript": "// Creating an object to map fruits to numbers\nconst fruitMap = {\n  bananas: 1,\n  apples: 2,\n  pears: 3\n};\n\n// Accessing values through keys\nconsole.log(\"Bananas:\", fruitMap.bananas); // Output: Bananas: 1\nconsole.log(\"Apples:\", fruitMap.apples);   // Output: Apples: 2\nconsole.log(\"Pears:\", fruitMap.pears);     // Output: Pears: 3\n",
      "text/plain": [
       "<IPython.core.display.Javascript object>"
      ]
     },
     "metadata": {},
     "output_type": "display_data"
    }
   ],
   "source": [
    "%%js\n",
    "// Creating an object to map fruits to numbers\n",
    "const fruitMap = {\n",
    "  bananas: 1,\n",
    "  apples: 2,\n",
    "  pears: 3\n",
    "};\n",
    "\n",
    "// Accessing values through keys\n",
    "console.log(\"Bananas:\", fruitMap.bananas); // Output: Bananas: 1\n",
    "console.log(\"Apples:\", fruitMap.apples);   // Output: Apples: 2\n",
    "console.log(\"Pears:\", fruitMap.pears);     // Output: Pears: 3\n"
   ]
  },
  {
   "cell_type": "code",
   "execution_count": 14,
   "metadata": {},
   "outputs": [
    {
     "name": "stdout",
     "output_type": "stream",
     "text": [
      "Bananas: 1\n",
      "Apples: 2\n",
      "Pears: 3\n"
     ]
    }
   ],
   "source": [
    "#Python\n",
    "# Creating a dictionary to map fruits to numbers\n",
    "fruit_map = {\n",
    "    \"bananas\": 1,\n",
    "    \"apples\": 2,\n",
    "    \"pears\": 3\n",
    "}\n",
    "\n",
    "# Accessing values through keys\n",
    "print(\"Bananas:\", fruit_map[\"bananas\"])  # Output: Bananas: 1\n",
    "print(\"Apples:\", fruit_map[\"apples\"])    # Output: Apples: 2\n",
    "print(\"Pears:\", fruit_map[\"pears\"])      # Output: Pears: 3\n"
   ]
  }
 ],
 "metadata": {
  "kernelspec": {
   "display_name": "Python 3",
   "language": "python",
   "name": "python3"
  },
  "language_info": {
   "codemirror_mode": {
    "name": "ipython",
    "version": 3
   },
   "file_extension": ".py",
   "mimetype": "text/x-python",
   "name": "python",
   "nbconvert_exporter": "python",
   "pygments_lexer": "ipython3",
   "version": "3.12.5"
  }
 },
 "nbformat": 4,
 "nbformat_minor": 2
}
